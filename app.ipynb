{
 "cells": [
  {
   "cell_type": "code",
   "execution_count": null,
   "metadata": {},
   "outputs": [],
   "source": [
    "!pip install mlxtend"
   ]
  },
  {
   "cell_type": "code",
   "execution_count": 3,
   "metadata": {},
   "outputs": [],
   "source": [
    "# IMPORTING PACKAGES\n",
    "import pandas as pd\n",
    "import numpy as np\n",
    "import seaborn as sns\n",
    "import matplotlib.pyplot as plt\n",
    "import plotly.graph_objs as go\n",
    "import plotly.io as pio\n",
    "import seaborn as sns\n",
    "from datetime import datetime\n",
    "import sklearn\n",
    "import plotly.express as px\n",
    "from mlxtend.preprocessing import TransactionEncoder\n",
    "from mlxtend.frequent_patterns import apriori, association_rules\n",
    "from sklearn.cluster import KMeans , k_means\n",
    "from IPython.display import Image, display, HTML\n",
    "import warnings\n",
    "warnings.filterwarnings('ignore')"
   ]
  },
  {
   "attachments": {},
   "cell_type": "markdown",
   "metadata": {},
   "source": [
    "## 1. DATA UNDERSTANDING"
   ]
  },
  {
   "cell_type": "code",
   "execution_count": 4,
   "metadata": {},
   "outputs": [
    {
     "data": {
      "text/html": [
       "<div>\n",
       "<style scoped>\n",
       "    .dataframe tbody tr th:only-of-type {\n",
       "        vertical-align: middle;\n",
       "    }\n",
       "\n",
       "    .dataframe tbody tr th {\n",
       "        vertical-align: top;\n",
       "    }\n",
       "\n",
       "    .dataframe thead th {\n",
       "        text-align: right;\n",
       "    }\n",
       "</style>\n",
       "<table border=\"1\" class=\"dataframe\">\n",
       "  <thead>\n",
       "    <tr style=\"text-align: right;\">\n",
       "      <th></th>\n",
       "      <th>order_id</th>\n",
       "      <th>user_id</th>\n",
       "      <th>order_number</th>\n",
       "      <th>order_dow</th>\n",
       "      <th>order_hour_of_day</th>\n",
       "      <th>days_since_prior_order</th>\n",
       "      <th>product_id</th>\n",
       "      <th>add_to_cart_order</th>\n",
       "      <th>reordered</th>\n",
       "      <th>department_id</th>\n",
       "      <th>department</th>\n",
       "      <th>product_name</th>\n",
       "    </tr>\n",
       "  </thead>\n",
       "  <tbody>\n",
       "    <tr>\n",
       "      <th>0</th>\n",
       "      <td>2425083</td>\n",
       "      <td>49125</td>\n",
       "      <td>1</td>\n",
       "      <td>2</td>\n",
       "      <td>18</td>\n",
       "      <td>NaN</td>\n",
       "      <td>17</td>\n",
       "      <td>1</td>\n",
       "      <td>0</td>\n",
       "      <td>13</td>\n",
       "      <td>pantry</td>\n",
       "      <td>baking ingredients</td>\n",
       "    </tr>\n",
       "    <tr>\n",
       "      <th>1</th>\n",
       "      <td>2425083</td>\n",
       "      <td>49125</td>\n",
       "      <td>1</td>\n",
       "      <td>2</td>\n",
       "      <td>18</td>\n",
       "      <td>NaN</td>\n",
       "      <td>91</td>\n",
       "      <td>2</td>\n",
       "      <td>0</td>\n",
       "      <td>16</td>\n",
       "      <td>dairy eggs</td>\n",
       "      <td>soy lactosefree</td>\n",
       "    </tr>\n",
       "    <tr>\n",
       "      <th>2</th>\n",
       "      <td>2425083</td>\n",
       "      <td>49125</td>\n",
       "      <td>1</td>\n",
       "      <td>2</td>\n",
       "      <td>18</td>\n",
       "      <td>NaN</td>\n",
       "      <td>36</td>\n",
       "      <td>3</td>\n",
       "      <td>0</td>\n",
       "      <td>16</td>\n",
       "      <td>dairy eggs</td>\n",
       "      <td>butter</td>\n",
       "    </tr>\n",
       "    <tr>\n",
       "      <th>3</th>\n",
       "      <td>2425083</td>\n",
       "      <td>49125</td>\n",
       "      <td>1</td>\n",
       "      <td>2</td>\n",
       "      <td>18</td>\n",
       "      <td>NaN</td>\n",
       "      <td>83</td>\n",
       "      <td>4</td>\n",
       "      <td>0</td>\n",
       "      <td>4</td>\n",
       "      <td>produce</td>\n",
       "      <td>fresh vegetables</td>\n",
       "    </tr>\n",
       "    <tr>\n",
       "      <th>4</th>\n",
       "      <td>2425083</td>\n",
       "      <td>49125</td>\n",
       "      <td>1</td>\n",
       "      <td>2</td>\n",
       "      <td>18</td>\n",
       "      <td>NaN</td>\n",
       "      <td>83</td>\n",
       "      <td>5</td>\n",
       "      <td>0</td>\n",
       "      <td>4</td>\n",
       "      <td>produce</td>\n",
       "      <td>fresh vegetables</td>\n",
       "    </tr>\n",
       "    <tr>\n",
       "      <th>...</th>\n",
       "      <td>...</td>\n",
       "      <td>...</td>\n",
       "      <td>...</td>\n",
       "      <td>...</td>\n",
       "      <td>...</td>\n",
       "      <td>...</td>\n",
       "      <td>...</td>\n",
       "      <td>...</td>\n",
       "      <td>...</td>\n",
       "      <td>...</td>\n",
       "      <td>...</td>\n",
       "      <td>...</td>\n",
       "    </tr>\n",
       "    <tr>\n",
       "      <th>2019496</th>\n",
       "      <td>3390742</td>\n",
       "      <td>199430</td>\n",
       "      <td>16</td>\n",
       "      <td>3</td>\n",
       "      <td>18</td>\n",
       "      <td>5.0</td>\n",
       "      <td>83</td>\n",
       "      <td>8</td>\n",
       "      <td>0</td>\n",
       "      <td>4</td>\n",
       "      <td>produce</td>\n",
       "      <td>fresh vegetables</td>\n",
       "    </tr>\n",
       "    <tr>\n",
       "      <th>2019497</th>\n",
       "      <td>458285</td>\n",
       "      <td>128787</td>\n",
       "      <td>42</td>\n",
       "      <td>2</td>\n",
       "      <td>19</td>\n",
       "      <td>3.0</td>\n",
       "      <td>115</td>\n",
       "      <td>1</td>\n",
       "      <td>1</td>\n",
       "      <td>7</td>\n",
       "      <td>beverages</td>\n",
       "      <td>water seltzer sparkling water</td>\n",
       "    </tr>\n",
       "    <tr>\n",
       "      <th>2019498</th>\n",
       "      <td>458285</td>\n",
       "      <td>128787</td>\n",
       "      <td>42</td>\n",
       "      <td>2</td>\n",
       "      <td>19</td>\n",
       "      <td>3.0</td>\n",
       "      <td>32</td>\n",
       "      <td>2</td>\n",
       "      <td>1</td>\n",
       "      <td>4</td>\n",
       "      <td>produce</td>\n",
       "      <td>packaged produce</td>\n",
       "    </tr>\n",
       "    <tr>\n",
       "      <th>2019499</th>\n",
       "      <td>458285</td>\n",
       "      <td>128787</td>\n",
       "      <td>42</td>\n",
       "      <td>2</td>\n",
       "      <td>19</td>\n",
       "      <td>3.0</td>\n",
       "      <td>32</td>\n",
       "      <td>3</td>\n",
       "      <td>1</td>\n",
       "      <td>4</td>\n",
       "      <td>produce</td>\n",
       "      <td>packaged produce</td>\n",
       "    </tr>\n",
       "    <tr>\n",
       "      <th>2019500</th>\n",
       "      <td>458285</td>\n",
       "      <td>128787</td>\n",
       "      <td>42</td>\n",
       "      <td>2</td>\n",
       "      <td>19</td>\n",
       "      <td>3.0</td>\n",
       "      <td>123</td>\n",
       "      <td>4</td>\n",
       "      <td>1</td>\n",
       "      <td>4</td>\n",
       "      <td>produce</td>\n",
       "      <td>packaged vegetables fruits</td>\n",
       "    </tr>\n",
       "  </tbody>\n",
       "</table>\n",
       "<p>2019501 rows × 12 columns</p>\n",
       "</div>"
      ],
      "text/plain": [
       "         order_id  user_id  order_number  order_dow  order_hour_of_day  \\\n",
       "0         2425083    49125             1          2                 18   \n",
       "1         2425083    49125             1          2                 18   \n",
       "2         2425083    49125             1          2                 18   \n",
       "3         2425083    49125             1          2                 18   \n",
       "4         2425083    49125             1          2                 18   \n",
       "...           ...      ...           ...        ...                ...   \n",
       "2019496   3390742   199430            16          3                 18   \n",
       "2019497    458285   128787            42          2                 19   \n",
       "2019498    458285   128787            42          2                 19   \n",
       "2019499    458285   128787            42          2                 19   \n",
       "2019500    458285   128787            42          2                 19   \n",
       "\n",
       "         days_since_prior_order  product_id  add_to_cart_order  reordered  \\\n",
       "0                           NaN          17                  1          0   \n",
       "1                           NaN          91                  2          0   \n",
       "2                           NaN          36                  3          0   \n",
       "3                           NaN          83                  4          0   \n",
       "4                           NaN          83                  5          0   \n",
       "...                         ...         ...                ...        ...   \n",
       "2019496                     5.0          83                  8          0   \n",
       "2019497                     3.0         115                  1          1   \n",
       "2019498                     3.0          32                  2          1   \n",
       "2019499                     3.0          32                  3          1   \n",
       "2019500                     3.0         123                  4          1   \n",
       "\n",
       "         department_id  department                   product_name  \n",
       "0                   13      pantry             baking ingredients  \n",
       "1                   16  dairy eggs                soy lactosefree  \n",
       "2                   16  dairy eggs                         butter  \n",
       "3                    4     produce               fresh vegetables  \n",
       "4                    4     produce               fresh vegetables  \n",
       "...                ...         ...                            ...  \n",
       "2019496              4     produce               fresh vegetables  \n",
       "2019497              7   beverages  water seltzer sparkling water  \n",
       "2019498              4     produce               packaged produce  \n",
       "2019499              4     produce               packaged produce  \n",
       "2019500              4     produce     packaged vegetables fruits  \n",
       "\n",
       "[2019501 rows x 12 columns]"
      ]
     },
     "execution_count": 4,
     "metadata": {},
     "output_type": "execute_result"
    }
   ],
   "source": [
    "main_data= pd.read_csv(\"./ECommerce.csv\")\n",
    "df = main_data.copy()\n",
    "df"
   ]
  },
  {
   "cell_type": "code",
   "execution_count": 12,
   "metadata": {},
   "outputs": [
    {
     "name": "stdout",
     "output_type": "stream",
     "text": [
      "<class 'pandas.core.frame.DataFrame'>\n",
      "RangeIndex: 2019501 entries, 0 to 2019500\n",
      "Data columns (total 12 columns):\n",
      " #   Column                  Dtype \n",
      "---  ------                  ----- \n",
      " 0   order_id                int64 \n",
      " 1   user_id                 int64 \n",
      " 2   order_number            int64 \n",
      " 3   order_dow               int64 \n",
      " 4   order_hour_of_day       int64 \n",
      " 5   days_since_prior_order  int64 \n",
      " 6   product_id              int64 \n",
      " 7   add_to_cart_order       int64 \n",
      " 8   reordered               int64 \n",
      " 9   department_id           int64 \n",
      " 10  department              object\n",
      " 11  product_name            object\n",
      "dtypes: int64(10), object(2)\n",
      "memory usage: 184.9+ MB\n"
     ]
    }
   ],
   "source": [
    "df.info()"
   ]
  },
  {
   "cell_type": "code",
   "execution_count": 10,
   "metadata": {},
   "outputs": [
    {
     "data": {
      "text/plain": [
       "order_id                  0\n",
       "user_id                   0\n",
       "order_number              0\n",
       "order_dow                 0\n",
       "order_hour_of_day         0\n",
       "days_since_prior_order    0\n",
       "product_id                0\n",
       "add_to_cart_order         0\n",
       "reordered                 0\n",
       "department_id             0\n",
       "department                0\n",
       "product_name              0\n",
       "dtype: int64"
      ]
     },
     "execution_count": 10,
     "metadata": {},
     "output_type": "execute_result"
    }
   ],
   "source": [
    "df.isnull().sum()"
   ]
  },
  {
   "cell_type": "code",
   "execution_count": 9,
   "metadata": {},
   "outputs": [
    {
     "data": {
      "text/plain": [
       "array([-1.,  3.,  6.,  7., 30., 20.,  4.,  8., 15., 10., 28.,  9., 12.,\n",
       "       11.,  2., 25., 13., 29., 14., 21.,  5.,  1., 18.,  0., 19., 17.,\n",
       "       22., 26., 24., 16., 23., 27.])"
      ]
     },
     "execution_count": 9,
     "metadata": {},
     "output_type": "execute_result"
    }
   ],
   "source": [
    "df['days_since_prior_order'].unique()"
   ]
  },
  {
   "cell_type": "code",
   "execution_count": 8,
   "metadata": {},
   "outputs": [],
   "source": [
    "df['days_since_prior_order'].fillna(-1,inplace=True) "
   ]
  },
  {
   "cell_type": "code",
   "execution_count": 11,
   "metadata": {},
   "outputs": [],
   "source": [
    "# CONVERTING DATA TYPES\n",
    "df['days_since_prior_order']= df['days_since_prior_order'].astype(np.int64)"
   ]
  },
  {
   "attachments": {},
   "cell_type": "markdown",
   "metadata": {},
   "source": [
    "## 2. DATA PREPARATION\n",
    "\n",
    "In this section we will be doing the following steps:\n",
    "<ul>\n",
    "    <li>Investigating all elements within each feature</li>\n",
    "    <li>Aggregating & grouping values to visualize purchasing behaviour</li>\n",
    "    <li>Aggregating & grouping values to understand purchasing behaviour</li>\n",
    "    <li>Aggregating & grouping values to visualize & identify the most reordered items</li>\n",
    "    <li>Aggregating & grouping values to understand product reordered ratio</li>\n",
    "    <li>Aggregating & grouping values to visualize reordered ratio</li>\n",
    "</ul>"
   ]
  },
  {
   "cell_type": "code",
   "execution_count": 13,
   "metadata": {},
   "outputs": [
    {
     "name": "stdout",
     "output_type": "stream",
     "text": [
      "The number of unique values for features order_id : 200000\n",
      "The number of unique values for features user_id : 105273\n",
      "The number of unique values for features order_number : 100\n",
      "The number of unique values for features order_dow : 7 --- [0 1 2 3 4 5 6]\n",
      "The number of unique values for features order_hour_of_day : 24\n",
      "The number of unique values for features days_since_prior_order : 32\n",
      "The number of unique values for features product_id : 134\n",
      "The number of unique values for features add_to_cart_order : 137\n",
      "The number of unique values for features reordered : 2 --- [0 1]\n",
      "The number of unique values for features department_id : 21 --- [ 1  2  3  4  5  6  7  8  9 10 11 12 13 14 15 16 17 18 19 20 21]\n",
      "The number of unique values for features department : 21 --- ['alcohol' 'babies' 'bakery' 'beverages' 'breakfast' 'bulk' 'canned goods'\n",
      " 'dairy eggs' 'deli' 'dry goods pasta' 'frozen' 'household'\n",
      " 'international' 'meat seafood' 'missing' 'other' 'pantry' 'personal care'\n",
      " 'pets' 'produce' 'snacks']\n",
      "The number of unique values for features product_name : 134\n"
     ]
    }
   ],
   "source": [
    "# Investigating all elements within each feature\n",
    "\n",
    "for colum in df:\n",
    "    unique_values = np.unique(df[colum])\n",
    "    nr_values = len(unique_values)\n",
    "    if nr_values < 22:\n",
    "        print(\"The number of unique values for features {} : {} --- {}\".format(colum, nr_values,unique_values))\n",
    "    else:\n",
    "         print(\"The number of unique values for features {} : {}\".format(colum, nr_values))"
   ]
  },
  {
   "cell_type": "code",
   "execution_count": 14,
   "metadata": {},
   "outputs": [
    {
     "data": {
      "image/png": "[encoded data removed]",
      "text/plain": [
       "<Figure size 1500x1200 with 1 Axes>"
      ]
     },
     "metadata": {},
     "output_type": "display_data"
    }
   ],
   "source": [
    "# Aggregating & grouping values to visualize purchasing behaviour\n",
    "# AGGREGATING & GROUPING VALUES TO VISUALIZE PURCHASING BEHAVIOUR\n",
    "grouped = df.groupby(\"order_id\")[\"add_to_cart_order\"].aggregate(\"max\").reset_index()\n",
    "grouped = grouped.add_to_cart_order.value_counts()\n",
    "\n",
    "sns.set_style('dark')\n",
    "sns.set_palette(\"rocket_r\")\n",
    "f, ax = plt.subplots(figsize=(15, 12))\n",
    "sns.barplot(x=grouped.index, y=grouped.values, ax=ax)\n",
    "ax.grid(True, axis='y')\n",
    "plt.xticks(rotation='vertical', fontsize=12)\n",
    "plt.yticks(fontsize=12)\n",
    "plt.ylabel('Number of unique orders', fontsize=15)\n",
    "plt.xlabel('Number of products added to cart', fontsize=15)\n",
    "plt.title('Purchasing Behavior by Number of Products Added to Cart', fontsize=18)\n",
    "plt.xlim(0, 35)  # limit the X axis values to 35\n",
    "plt.show()"
   ]
  },
  {
   "attachments": {},
   "cell_type": "markdown",
   "metadata": {},
   "source": [
    "<b>Note:</b>\n",
    "</br>\n",
    "From the above plot we can understand the purchasing behavior of the customers, where we could observe that customers are usually ordering on average around 4-7 products."
   ]
  },
  {
   "cell_type": "code",
   "execution_count": 15,
   "metadata": {},
   "outputs": [
    {
     "data": {
      "image/png": "[encoded data removed]",
      "text/plain": [
       "<Figure size 1500x1200 with 1 Axes>"
      ]
     },
     "metadata": {},
     "output_type": "display_data"
    }
   ],
   "source": [
    "# Creating time based features\n",
    "# TIME OF THE DAY WHEN THE ORDER WAS MADE\n",
    "grouped = df.groupby('order_hour_of_day', as_index=True).agg({'user_id':'count'}).sort_values(by='user_id',ascending=False)\n",
    "\n",
    "\n",
    "f, ax = plt.subplots(figsize=(15, 12))\n",
    "plt.xticks(rotation='vertical')\n",
    "sns.barplot(x = grouped.index, y = grouped.user_id)\n",
    "sns.color_palette(\"rocket_r\", 10)\n",
    "\n",
    "plt.ylabel('Number of unique orders', fontsize=13)\n",
    "plt.xlabel('Time of the day', fontsize=13)\n",
    "\n",
    "for i in ax.patches:\n",
    "    ax.text(i.get_x()+0.15, i.get_height()+50, str(round(i.get_height())), fontsize=10, color='black')\n",
    "plt.show()\n",
    "\n",
    "plt.show()"
   ]
  },
  {
   "attachments": {},
   "cell_type": "markdown",
   "metadata": {},
   "source": [
    "### NOTE :\n",
    "As we continue to explore further we can observe interesting trends which are as follows:\n",
    "<ul>\n",
    "    <li>The peak traffic is on a Monday between 10 AM - 16 PM which is the beginning of the week</li>\n",
    "    <li>The low periods happen to be during the mid-week from Wednesday - Friday From 4 PM onwards</li>\n",
    "</ul>"
   ]
  },
  {
   "cell_type": "code",
   "execution_count": 16,
   "metadata": {},
   "outputs": [
    {
     "data": {
      "image/png": "[encoded data removed]",
      "text/plain": [
       "<Figure size 1500x1000 with 2 Axes>"
      ]
     },
     "metadata": {},
     "output_type": "display_data"
    }
   ],
   "source": [
    "# Heatmap Study\n",
    "day_hour_df = df.groupby([\"order_dow\", \"order_hour_of_day\"])[\"order_number\"].aggregate(\"count\").reset_index()\n",
    "day_hour_df_piv = day_hour_df.pivot('order_dow', 'order_hour_of_day', 'order_number')/df.shape[0]\n",
    "\n",
    "plt.figure(figsize=(15,10))\n",
    "sns.heatmap(day_hour_df_piv, cmap='YlGnBu')\n",
    "plt.yticks([0,1, 2, 3, 4, 5, 6],[\"Monday\", \"Tuesday\", \"Wednesday\", \"Thursday\", \"Friday\", \"Saturday\", \"Sunday\"])\n",
    "plt.xlabel(\"Hour of day\")\n",
    "plt.yticks(rotation=0)\n",
    "plt.ylabel(\"Day of week\")\n",
    "\n",
    "\n",
    "plt.title(\"Crosstable of days and hours of orders\");"
   ]
  },
  {
   "cell_type": "code",
   "execution_count": 17,
   "metadata": {},
   "outputs": [
    {
     "data": {
      "text/html": [
       "<div>\n",
       "<style scoped>\n",
       "    .dataframe tbody tr th:only-of-type {\n",
       "        vertical-align: middle;\n",
       "    }\n",
       "\n",
       "    .dataframe tbody tr th {\n",
       "        vertical-align: top;\n",
       "    }\n",
       "\n",
       "    .dataframe thead th {\n",
       "        text-align: right;\n",
       "    }\n",
       "</style>\n",
       "<table border=\"1\" class=\"dataframe\">\n",
       "  <thead>\n",
       "    <tr style=\"text-align: right;\">\n",
       "      <th></th>\n",
       "      <th>order_id</th>\n",
       "      <th>user_id</th>\n",
       "      <th>order_number</th>\n",
       "      <th>order_dow</th>\n",
       "      <th>order_hour_of_day</th>\n",
       "      <th>days_since_prior_order</th>\n",
       "      <th>product_id</th>\n",
       "      <th>add_to_cart_order</th>\n",
       "      <th>reordered</th>\n",
       "      <th>department_id</th>\n",
       "      <th>department</th>\n",
       "      <th>product_name</th>\n",
       "      <th>order_time_period</th>\n",
       "    </tr>\n",
       "  </thead>\n",
       "  <tbody>\n",
       "    <tr>\n",
       "      <th>0</th>\n",
       "      <td>2425083</td>\n",
       "      <td>49125</td>\n",
       "      <td>1</td>\n",
       "      <td>2</td>\n",
       "      <td>18</td>\n",
       "      <td>-1</td>\n",
       "      <td>17</td>\n",
       "      <td>1</td>\n",
       "      <td>0</td>\n",
       "      <td>13</td>\n",
       "      <td>pantry</td>\n",
       "      <td>baking ingredients</td>\n",
       "      <td>evening</td>\n",
       "    </tr>\n",
       "    <tr>\n",
       "      <th>1</th>\n",
       "      <td>2425083</td>\n",
       "      <td>49125</td>\n",
       "      <td>1</td>\n",
       "      <td>2</td>\n",
       "      <td>18</td>\n",
       "      <td>-1</td>\n",
       "      <td>91</td>\n",
       "      <td>2</td>\n",
       "      <td>0</td>\n",
       "      <td>16</td>\n",
       "      <td>dairy eggs</td>\n",
       "      <td>soy lactosefree</td>\n",
       "      <td>evening</td>\n",
       "    </tr>\n",
       "    <tr>\n",
       "      <th>2</th>\n",
       "      <td>2425083</td>\n",
       "      <td>49125</td>\n",
       "      <td>1</td>\n",
       "      <td>2</td>\n",
       "      <td>18</td>\n",
       "      <td>-1</td>\n",
       "      <td>36</td>\n",
       "      <td>3</td>\n",
       "      <td>0</td>\n",
       "      <td>16</td>\n",
       "      <td>dairy eggs</td>\n",
       "      <td>butter</td>\n",
       "      <td>evening</td>\n",
       "    </tr>\n",
       "    <tr>\n",
       "      <th>3</th>\n",
       "      <td>2425083</td>\n",
       "      <td>49125</td>\n",
       "      <td>1</td>\n",
       "      <td>2</td>\n",
       "      <td>18</td>\n",
       "      <td>-1</td>\n",
       "      <td>83</td>\n",
       "      <td>4</td>\n",
       "      <td>0</td>\n",
       "      <td>4</td>\n",
       "      <td>produce</td>\n",
       "      <td>fresh vegetables</td>\n",
       "      <td>evening</td>\n",
       "    </tr>\n",
       "    <tr>\n",
       "      <th>4</th>\n",
       "      <td>2425083</td>\n",
       "      <td>49125</td>\n",
       "      <td>1</td>\n",
       "      <td>2</td>\n",
       "      <td>18</td>\n",
       "      <td>-1</td>\n",
       "      <td>83</td>\n",
       "      <td>5</td>\n",
       "      <td>0</td>\n",
       "      <td>4</td>\n",
       "      <td>produce</td>\n",
       "      <td>fresh vegetables</td>\n",
       "      <td>evening</td>\n",
       "    </tr>\n",
       "    <tr>\n",
       "      <th>...</th>\n",
       "      <td>...</td>\n",
       "      <td>...</td>\n",
       "      <td>...</td>\n",
       "      <td>...</td>\n",
       "      <td>...</td>\n",
       "      <td>...</td>\n",
       "      <td>...</td>\n",
       "      <td>...</td>\n",
       "      <td>...</td>\n",
       "      <td>...</td>\n",
       "      <td>...</td>\n",
       "      <td>...</td>\n",
       "      <td>...</td>\n",
       "    </tr>\n",
       "    <tr>\n",
       "      <th>2019496</th>\n",
       "      <td>3390742</td>\n",
       "      <td>199430</td>\n",
       "      <td>16</td>\n",
       "      <td>3</td>\n",
       "      <td>18</td>\n",
       "      <td>5</td>\n",
       "      <td>83</td>\n",
       "      <td>8</td>\n",
       "      <td>0</td>\n",
       "      <td>4</td>\n",
       "      <td>produce</td>\n",
       "      <td>fresh vegetables</td>\n",
       "      <td>evening</td>\n",
       "    </tr>\n",
       "    <tr>\n",
       "      <th>2019497</th>\n",
       "      <td>458285</td>\n",
       "      <td>128787</td>\n",
       "      <td>42</td>\n",
       "      <td>2</td>\n",
       "      <td>19</td>\n",
       "      <td>3</td>\n",
       "      <td>115</td>\n",
       "      <td>1</td>\n",
       "      <td>1</td>\n",
       "      <td>7</td>\n",
       "      <td>beverages</td>\n",
       "      <td>water seltzer sparkling water</td>\n",
       "      <td>evening</td>\n",
       "    </tr>\n",
       "    <tr>\n",
       "      <th>2019498</th>\n",
       "      <td>458285</td>\n",
       "      <td>128787</td>\n",
       "      <td>42</td>\n",
       "      <td>2</td>\n",
       "      <td>19</td>\n",
       "      <td>3</td>\n",
       "      <td>32</td>\n",
       "      <td>2</td>\n",
       "      <td>1</td>\n",
       "      <td>4</td>\n",
       "      <td>produce</td>\n",
       "      <td>packaged produce</td>\n",
       "      <td>evening</td>\n",
       "    </tr>\n",
       "    <tr>\n",
       "      <th>2019499</th>\n",
       "      <td>458285</td>\n",
       "      <td>128787</td>\n",
       "      <td>42</td>\n",
       "      <td>2</td>\n",
       "      <td>19</td>\n",
       "      <td>3</td>\n",
       "      <td>32</td>\n",
       "      <td>3</td>\n",
       "      <td>1</td>\n",
       "      <td>4</td>\n",
       "      <td>produce</td>\n",
       "      <td>packaged produce</td>\n",
       "      <td>evening</td>\n",
       "    </tr>\n",
       "    <tr>\n",
       "      <th>2019500</th>\n",
       "      <td>458285</td>\n",
       "      <td>128787</td>\n",
       "      <td>42</td>\n",
       "      <td>2</td>\n",
       "      <td>19</td>\n",
       "      <td>3</td>\n",
       "      <td>123</td>\n",
       "      <td>4</td>\n",
       "      <td>1</td>\n",
       "      <td>4</td>\n",
       "      <td>produce</td>\n",
       "      <td>packaged vegetables fruits</td>\n",
       "      <td>evening</td>\n",
       "    </tr>\n",
       "  </tbody>\n",
       "</table>\n",
       "<p>2019501 rows × 13 columns</p>\n",
       "</div>"
      ],
      "text/plain": [
       "         order_id  user_id  order_number  order_dow  order_hour_of_day  \\\n",
       "0         2425083    49125             1          2                 18   \n",
       "1         2425083    49125             1          2                 18   \n",
       "2         2425083    49125             1          2                 18   \n",
       "3         2425083    49125             1          2                 18   \n",
       "4         2425083    49125             1          2                 18   \n",
       "...           ...      ...           ...        ...                ...   \n",
       "2019496   3390742   199430            16          3                 18   \n",
       "2019497    458285   128787            42          2                 19   \n",
       "2019498    458285   128787            42          2                 19   \n",
       "2019499    458285   128787            42          2                 19   \n",
       "2019500    458285   128787            42          2                 19   \n",
       "\n",
       "         days_since_prior_order  product_id  add_to_cart_order  reordered  \\\n",
       "0                            -1          17                  1          0   \n",
       "1                            -1          91                  2          0   \n",
       "2                            -1          36                  3          0   \n",
       "3                            -1          83                  4          0   \n",
       "4                            -1          83                  5          0   \n",
       "...                         ...         ...                ...        ...   \n",
       "2019496                       5          83                  8          0   \n",
       "2019497                       3         115                  1          1   \n",
       "2019498                       3          32                  2          1   \n",
       "2019499                       3          32                  3          1   \n",
       "2019500                       3         123                  4          1   \n",
       "\n",
       "         department_id  department                   product_name  \\\n",
       "0                   13      pantry             baking ingredients   \n",
       "1                   16  dairy eggs                soy lactosefree   \n",
       "2                   16  dairy eggs                         butter   \n",
       "3                    4     produce               fresh vegetables   \n",
       "4                    4     produce               fresh vegetables   \n",
       "...                ...         ...                            ...   \n",
       "2019496              4     produce               fresh vegetables   \n",
       "2019497              7   beverages  water seltzer sparkling water   \n",
       "2019498              4     produce               packaged produce   \n",
       "2019499              4     produce               packaged produce   \n",
       "2019500              4     produce     packaged vegetables fruits   \n",
       "\n",
       "        order_time_period  \n",
       "0                 evening  \n",
       "1                 evening  \n",
       "2                 evening  \n",
       "3                 evening  \n",
       "4                 evening  \n",
       "...                   ...  \n",
       "2019496           evening  \n",
       "2019497           evening  \n",
       "2019498           evening  \n",
       "2019499           evening  \n",
       "2019500           evening  \n",
       "\n",
       "[2019501 rows x 13 columns]"
      ]
     },
     "execution_count": 17,
     "metadata": {},
     "output_type": "execute_result"
    }
   ],
   "source": [
    "def order_time(x):\n",
    "    return f'{\"morning\" if x in range(6, 12) else \"afternoon\" if x in range(12, 18) else \"evening\" if x in range(18, 23) else \"night\"}'\n",
    "\n",
    "df['order_time_period'] = df['order_hour_of_day'].apply(order_time)\n",
    "df"
   ]
  },
  {
   "cell_type": "code",
   "execution_count": 18,
   "metadata": {},
   "outputs": [
    {
     "data": {
      "text/html": [
       "<div>\n",
       "<style scoped>\n",
       "    .dataframe tbody tr th:only-of-type {\n",
       "        vertical-align: middle;\n",
       "    }\n",
       "\n",
       "    .dataframe tbody tr th {\n",
       "        vertical-align: top;\n",
       "    }\n",
       "\n",
       "    .dataframe thead tr th {\n",
       "        text-align: left;\n",
       "    }\n",
       "\n",
       "    .dataframe thead tr:last-of-type th {\n",
       "        text-align: right;\n",
       "    }\n",
       "</style>\n",
       "<table border=\"1\" class=\"dataframe\">\n",
       "  <thead>\n",
       "    <tr>\n",
       "      <th></th>\n",
       "      <th colspan=\"4\" halign=\"left\">count</th>\n",
       "    </tr>\n",
       "    <tr>\n",
       "      <th>order_time_period</th>\n",
       "      <th>afternoon</th>\n",
       "      <th>evening</th>\n",
       "      <th>morning</th>\n",
       "      <th>night</th>\n",
       "    </tr>\n",
       "    <tr>\n",
       "      <th>order_dow</th>\n",
       "      <th></th>\n",
       "      <th></th>\n",
       "      <th></th>\n",
       "      <th></th>\n",
       "    </tr>\n",
       "  </thead>\n",
       "  <tbody>\n",
       "    <tr>\n",
       "      <th>0</th>\n",
       "      <td>196603</td>\n",
       "      <td>60195</td>\n",
       "      <td>123876</td>\n",
       "      <td>11157</td>\n",
       "    </tr>\n",
       "    <tr>\n",
       "      <th>1</th>\n",
       "      <td>158970</td>\n",
       "      <td>51825</td>\n",
       "      <td>129591</td>\n",
       "      <td>8850</td>\n",
       "    </tr>\n",
       "    <tr>\n",
       "      <th>2</th>\n",
       "      <td>120927</td>\n",
       "      <td>45497</td>\n",
       "      <td>87562</td>\n",
       "      <td>7926</td>\n",
       "    </tr>\n",
       "    <tr>\n",
       "      <th>3</th>\n",
       "      <td>112185</td>\n",
       "      <td>41737</td>\n",
       "      <td>77609</td>\n",
       "      <td>7199</td>\n",
       "    </tr>\n",
       "    <tr>\n",
       "      <th>4</th>\n",
       "      <td>107170</td>\n",
       "      <td>45359</td>\n",
       "      <td>74338</td>\n",
       "      <td>8017</td>\n",
       "    </tr>\n",
       "    <tr>\n",
       "      <th>5</th>\n",
       "      <td>121577</td>\n",
       "      <td>42311</td>\n",
       "      <td>89662</td>\n",
       "      <td>8607</td>\n",
       "    </tr>\n",
       "    <tr>\n",
       "      <th>6</th>\n",
       "      <td>135073</td>\n",
       "      <td>45737</td>\n",
       "      <td>90397</td>\n",
       "      <td>9544</td>\n",
       "    </tr>\n",
       "  </tbody>\n",
       "</table>\n",
       "</div>"
      ],
      "text/plain": [
       "                      count                       \n",
       "order_time_period afternoon evening morning  night\n",
       "order_dow                                         \n",
       "0                    196603   60195  123876  11157\n",
       "1                    158970   51825  129591   8850\n",
       "2                    120927   45497   87562   7926\n",
       "3                    112185   41737   77609   7199\n",
       "4                    107170   45359   74338   8017\n",
       "5                    121577   42311   89662   8607\n",
       "6                    135073   45737   90397   9544"
      ]
     },
     "execution_count": 18,
     "metadata": {},
     "output_type": "execute_result"
    }
   ],
   "source": [
    "df.pivot_table(index='order_dow',columns='order_time_period',values='user_id',aggfunc=['count'])"
   ]
  },
  {
   "cell_type": "code",
   "execution_count": 19,
   "metadata": {},
   "outputs": [
    {
     "data": {
      "image/png": "[encoded data removed]",
      "text/plain": [
       "<Figure size 1500x1500 with 1 Axes>"
      ]
     },
     "metadata": {},
     "output_type": "display_data"
    }
   ],
   "source": [
    "# Visualizing order time period\n",
    "# Define the color palette\n",
    "color_palette = plt.get_cmap('viridis')\n",
    "\n",
    "# Generate the plot\n",
    "orders_by_day_time = df.pivot_table(\n",
    "    index='order_dow',\n",
    "    columns='order_time_period',\n",
    "    values='user_id',\n",
    "    aggfunc='count'\n",
    ")\n",
    "\n",
    "ax = orders_by_day_time.plot(kind='bar', figsize=(15, 15), color=color_palette(np.linspace(0, 1, len(orders_by_day_time.columns))))\n",
    "ax.set_title('The time when the order was made by day and time of day')\n",
    "ax.set_xticklabels([\"Monday\", \"Tuesday\", \"Wednesday\", \"Thursday\", \"Friday\", \"Saturday\", \"Sunday\"]) # fixed the x-axis labels\n",
    "ax.set_ylabel('Number of orders')\n",
    "ax.legend(title='Orders Made', bbox_to_anchor=(1.0, 1.0))\n",
    "plt.show()"
   ]
  },
  {
   "attachments": {},
   "cell_type": "markdown",
   "metadata": {},
   "source": [
    "### NOTE :\n",
    "The above plot again give us a global overview where we can observe trends:\n",
    "<ul>\n",
    "    <li>Where most customers prefer to order between morning and early afternoon</li>\n",
    "    <li>Relatively quiet few customers order during evenig and night</li>\n",
    "</ul>"
   ]
  },
  {
   "cell_type": "code",
   "execution_count": 20,
   "metadata": {},
   "outputs": [
    {
     "data": {
      "text/html": [
       "<div>\n",
       "<style scoped>\n",
       "    .dataframe tbody tr th:only-of-type {\n",
       "        vertical-align: middle;\n",
       "    }\n",
       "\n",
       "    .dataframe tbody tr th {\n",
       "        vertical-align: top;\n",
       "    }\n",
       "\n",
       "    .dataframe thead th {\n",
       "        text-align: right;\n",
       "    }\n",
       "</style>\n",
       "<table border=\"1\" class=\"dataframe\">\n",
       "  <thead>\n",
       "    <tr style=\"text-align: right;\">\n",
       "      <th></th>\n",
       "      <th>order_id</th>\n",
       "      <th>user_id</th>\n",
       "      <th>order_number</th>\n",
       "      <th>order_dow</th>\n",
       "      <th>order_hour_of_day</th>\n",
       "      <th>days_since_prior_order</th>\n",
       "      <th>product_id</th>\n",
       "      <th>add_to_cart_order</th>\n",
       "      <th>reordered</th>\n",
       "      <th>department_id</th>\n",
       "      <th>department</th>\n",
       "      <th>product_name</th>\n",
       "      <th>order_time_period</th>\n",
       "      <th>order_number_group</th>\n",
       "    </tr>\n",
       "  </thead>\n",
       "  <tbody>\n",
       "    <tr>\n",
       "      <th>0</th>\n",
       "      <td>2425083</td>\n",
       "      <td>49125</td>\n",
       "      <td>1</td>\n",
       "      <td>2</td>\n",
       "      <td>18</td>\n",
       "      <td>-1</td>\n",
       "      <td>17</td>\n",
       "      <td>1</td>\n",
       "      <td>0</td>\n",
       "      <td>13</td>\n",
       "      <td>pantry</td>\n",
       "      <td>baking ingredients</td>\n",
       "      <td>evening</td>\n",
       "      <td>1-10 orders</td>\n",
       "    </tr>\n",
       "    <tr>\n",
       "      <th>1</th>\n",
       "      <td>2425083</td>\n",
       "      <td>49125</td>\n",
       "      <td>1</td>\n",
       "      <td>2</td>\n",
       "      <td>18</td>\n",
       "      <td>-1</td>\n",
       "      <td>91</td>\n",
       "      <td>2</td>\n",
       "      <td>0</td>\n",
       "      <td>16</td>\n",
       "      <td>dairy eggs</td>\n",
       "      <td>soy lactosefree</td>\n",
       "      <td>evening</td>\n",
       "      <td>1-10 orders</td>\n",
       "    </tr>\n",
       "    <tr>\n",
       "      <th>2</th>\n",
       "      <td>2425083</td>\n",
       "      <td>49125</td>\n",
       "      <td>1</td>\n",
       "      <td>2</td>\n",
       "      <td>18</td>\n",
       "      <td>-1</td>\n",
       "      <td>36</td>\n",
       "      <td>3</td>\n",
       "      <td>0</td>\n",
       "      <td>16</td>\n",
       "      <td>dairy eggs</td>\n",
       "      <td>butter</td>\n",
       "      <td>evening</td>\n",
       "      <td>1-10 orders</td>\n",
       "    </tr>\n",
       "    <tr>\n",
       "      <th>3</th>\n",
       "      <td>2425083</td>\n",
       "      <td>49125</td>\n",
       "      <td>1</td>\n",
       "      <td>2</td>\n",
       "      <td>18</td>\n",
       "      <td>-1</td>\n",
       "      <td>83</td>\n",
       "      <td>4</td>\n",
       "      <td>0</td>\n",
       "      <td>4</td>\n",
       "      <td>produce</td>\n",
       "      <td>fresh vegetables</td>\n",
       "      <td>evening</td>\n",
       "      <td>1-10 orders</td>\n",
       "    </tr>\n",
       "    <tr>\n",
       "      <th>4</th>\n",
       "      <td>2425083</td>\n",
       "      <td>49125</td>\n",
       "      <td>1</td>\n",
       "      <td>2</td>\n",
       "      <td>18</td>\n",
       "      <td>-1</td>\n",
       "      <td>83</td>\n",
       "      <td>5</td>\n",
       "      <td>0</td>\n",
       "      <td>4</td>\n",
       "      <td>produce</td>\n",
       "      <td>fresh vegetables</td>\n",
       "      <td>evening</td>\n",
       "      <td>1-10 orders</td>\n",
       "    </tr>\n",
       "    <tr>\n",
       "      <th>...</th>\n",
       "      <td>...</td>\n",
       "      <td>...</td>\n",
       "      <td>...</td>\n",
       "      <td>...</td>\n",
       "      <td>...</td>\n",
       "      <td>...</td>\n",
       "      <td>...</td>\n",
       "      <td>...</td>\n",
       "      <td>...</td>\n",
       "      <td>...</td>\n",
       "      <td>...</td>\n",
       "      <td>...</td>\n",
       "      <td>...</td>\n",
       "      <td>...</td>\n",
       "    </tr>\n",
       "    <tr>\n",
       "      <th>2019496</th>\n",
       "      <td>3390742</td>\n",
       "      <td>199430</td>\n",
       "      <td>16</td>\n",
       "      <td>3</td>\n",
       "      <td>18</td>\n",
       "      <td>5</td>\n",
       "      <td>83</td>\n",
       "      <td>8</td>\n",
       "      <td>0</td>\n",
       "      <td>4</td>\n",
       "      <td>produce</td>\n",
       "      <td>fresh vegetables</td>\n",
       "      <td>evening</td>\n",
       "      <td>11-20 orders</td>\n",
       "    </tr>\n",
       "    <tr>\n",
       "      <th>2019497</th>\n",
       "      <td>458285</td>\n",
       "      <td>128787</td>\n",
       "      <td>42</td>\n",
       "      <td>2</td>\n",
       "      <td>19</td>\n",
       "      <td>3</td>\n",
       "      <td>115</td>\n",
       "      <td>1</td>\n",
       "      <td>1</td>\n",
       "      <td>7</td>\n",
       "      <td>beverages</td>\n",
       "      <td>water seltzer sparkling water</td>\n",
       "      <td>evening</td>\n",
       "      <td>41-50 orders</td>\n",
       "    </tr>\n",
       "    <tr>\n",
       "      <th>2019498</th>\n",
       "      <td>458285</td>\n",
       "      <td>128787</td>\n",
       "      <td>42</td>\n",
       "      <td>2</td>\n",
       "      <td>19</td>\n",
       "      <td>3</td>\n",
       "      <td>32</td>\n",
       "      <td>2</td>\n",
       "      <td>1</td>\n",
       "      <td>4</td>\n",
       "      <td>produce</td>\n",
       "      <td>packaged produce</td>\n",
       "      <td>evening</td>\n",
       "      <td>41-50 orders</td>\n",
       "    </tr>\n",
       "    <tr>\n",
       "      <th>2019499</th>\n",
       "      <td>458285</td>\n",
       "      <td>128787</td>\n",
       "      <td>42</td>\n",
       "      <td>2</td>\n",
       "      <td>19</td>\n",
       "      <td>3</td>\n",
       "      <td>32</td>\n",
       "      <td>3</td>\n",
       "      <td>1</td>\n",
       "      <td>4</td>\n",
       "      <td>produce</td>\n",
       "      <td>packaged produce</td>\n",
       "      <td>evening</td>\n",
       "      <td>41-50 orders</td>\n",
       "    </tr>\n",
       "    <tr>\n",
       "      <th>2019500</th>\n",
       "      <td>458285</td>\n",
       "      <td>128787</td>\n",
       "      <td>42</td>\n",
       "      <td>2</td>\n",
       "      <td>19</td>\n",
       "      <td>3</td>\n",
       "      <td>123</td>\n",
       "      <td>4</td>\n",
       "      <td>1</td>\n",
       "      <td>4</td>\n",
       "      <td>produce</td>\n",
       "      <td>packaged vegetables fruits</td>\n",
       "      <td>evening</td>\n",
       "      <td>41-50 orders</td>\n",
       "    </tr>\n",
       "  </tbody>\n",
       "</table>\n",
       "<p>2019501 rows × 14 columns</p>\n",
       "</div>"
      ],
      "text/plain": [
       "         order_id  user_id  order_number  order_dow  order_hour_of_day  \\\n",
       "0         2425083    49125             1          2                 18   \n",
       "1         2425083    49125             1          2                 18   \n",
       "2         2425083    49125             1          2                 18   \n",
       "3         2425083    49125             1          2                 18   \n",
       "4         2425083    49125             1          2                 18   \n",
       "...           ...      ...           ...        ...                ...   \n",
       "2019496   3390742   199430            16          3                 18   \n",
       "2019497    458285   128787            42          2                 19   \n",
       "2019498    458285   128787            42          2                 19   \n",
       "2019499    458285   128787            42          2                 19   \n",
       "2019500    458285   128787            42          2                 19   \n",
       "\n",
       "         days_since_prior_order  product_id  add_to_cart_order  reordered  \\\n",
       "0                            -1          17                  1          0   \n",
       "1                            -1          91                  2          0   \n",
       "2                            -1          36                  3          0   \n",
       "3                            -1          83                  4          0   \n",
       "4                            -1          83                  5          0   \n",
       "...                         ...         ...                ...        ...   \n",
       "2019496                       5          83                  8          0   \n",
       "2019497                       3         115                  1          1   \n",
       "2019498                       3          32                  2          1   \n",
       "2019499                       3          32                  3          1   \n",
       "2019500                       3         123                  4          1   \n",
       "\n",
       "         department_id  department                   product_name  \\\n",
       "0                   13      pantry             baking ingredients   \n",
       "1                   16  dairy eggs                soy lactosefree   \n",
       "2                   16  dairy eggs                         butter   \n",
       "3                    4     produce               fresh vegetables   \n",
       "4                    4     produce               fresh vegetables   \n",
       "...                ...         ...                            ...   \n",
       "2019496              4     produce               fresh vegetables   \n",
       "2019497              7   beverages  water seltzer sparkling water   \n",
       "2019498              4     produce               packaged produce   \n",
       "2019499              4     produce               packaged produce   \n",
       "2019500              4     produce     packaged vegetables fruits   \n",
       "\n",
       "        order_time_period order_number_group  \n",
       "0                 evening        1-10 orders  \n",
       "1                 evening        1-10 orders  \n",
       "2                 evening        1-10 orders  \n",
       "3                 evening        1-10 orders  \n",
       "4                 evening        1-10 orders  \n",
       "...                   ...                ...  \n",
       "2019496           evening       11-20 orders  \n",
       "2019497           evening       41-50 orders  \n",
       "2019498           evening       41-50 orders  \n",
       "2019499           evening       41-50 orders  \n",
       "2019500           evening       41-50 orders  \n",
       "\n",
       "[2019501 rows x 14 columns]"
      ]
     },
     "execution_count": 20,
     "metadata": {},
     "output_type": "execute_result"
    }
   ],
   "source": [
    "# Creating order group feature\n",
    "def order_number_group(num_orders):\n",
    "    ranges = [(1, 10), (11, 20), (21, 30), (31, 40), (41, 50),(51, 60),(61, 70),(71, 80),(81, 90),(91, 100)]\n",
    "    for r in ranges:\n",
    "        if num_orders in range(r[0], r[1]+1):\n",
    "            return f\"{r[0]}-{r[1]} orders\"\n",
    "    return \"More than 100 orders\"\n",
    "\n",
    "df['order_number_group']=df['order_number'].apply(order_number_group)\n",
    "df\n"
   ]
  },
  {
   "cell_type": "code",
   "execution_count": 21,
   "metadata": {},
   "outputs": [
    {
     "data": {
      "image/png": "[encoded data removed]",
      "text/plain": [
       "<Figure size 1500x1500 with 1 Axes>"
      ]
     },
     "metadata": {},
     "output_type": "display_data"
    }
   ],
   "source": [
    "# Visualizing order group feature\n",
    "orders_by_group = df.groupby('order_number_group')['user_id'].count().sort_values(ascending=False)\n",
    "fig, ax = plt.subplots(figsize=(15, 15))\n",
    "ax.set_facecolor('lightgray')\n",
    "\n",
    "orders_by_group.plot(kind='pie', autopct='%1.2f%%', title='Number of Orders by Group', ax=ax)\n",
    "ax.set_ylabel('')\n",
    "\n",
    "plt.show()\n"
   ]
  },
  {
   "attachments": {},
   "cell_type": "markdown",
   "metadata": {},
   "source": [
    "### NOTE :\n",
    "The above pie chart give us a global overview of market basket analysis trend:\n",
    "<ul>\n",
    "    <li>Out of all the products, approximately 49% were purchased from the category 1-10 group</li>\n",
    "</ul>"
   ]
  },
  {
   "cell_type": "code",
   "execution_count": 22,
   "metadata": {},
   "outputs": [
    {
     "data": {
      "image/png": "[encoded data removed]",
      "text/plain": [
       "<Figure size 1500x1500 with 1 Axes>"
      ]
     },
     "metadata": {},
     "output_type": "display_data"
    }
   ],
   "source": [
    "# Visualizing top 10 products\n",
    "top_products = df.groupby('product_name')['user_id'].count().sort_values(ascending=False).head(10)\n",
    "colors = ['#4C72B0', '#55A868', '#C44E52', '#8172B2', '#CCB974', '#64B5CD', '#4E79A7', '#E69F00', '#F0E442', '#59A14F', '#8C8C8C', '#9C755F', '#EDB8A7', '#BDBDBD', '#000000']\n",
    "ax = top_products.plot(kind='bar', title='Top 10 Products', color=colors, figsize=(15, 15))\n",
    "plt.xlabel('Product Name',fontsize=13)\n",
    "plt.ylabel('Number of Orders',fontsize=13)\n",
    "for i in ax.patches:\n",
    "    ax.text(i.get_x()+0.15, i.get_height()+50, str(round(i.get_height())), fontsize=10, color='black')\n",
    "plt.show()"
   ]
  },
  {
   "cell_type": "code",
   "execution_count": 23,
   "metadata": {},
   "outputs": [
    {
     "data": {
      "image/png": "[encoded data removed]",
      "text/plain": [
       "<Figure size 1500x1500 with 1 Axes>"
      ]
     },
     "metadata": {},
     "output_type": "display_data"
    }
   ],
   "source": [
    "# Visualizing bottom 10 products\n",
    "bottom_products = df.groupby('product_name')['user_id'].count().sort_values(ascending=False).tail(10)\n",
    "colors = ['#4C72B0', '#55A868', '#C44E52', '#8172B2', '#CCB974', '#64B5CD', '#4E79A7', '#E69F00', '#F0E442', '#59A14F', '#8C8C8C', '#9C755F', '#EDB8A7', '#BDBDBD', '#000000']\n",
    "ax = bottom_products.plot(kind='bar', title='Bottom 10 Products', color=colors, figsize=(15, 15))\n",
    "plt.xlabel('Product Name',fontsize=13)\n",
    "plt.ylabel('Number of Orders',fontsize=13)\n",
    "for i in ax.patches:\n",
    "    ax.text(i.get_x()+0.15, i.get_height()+50, str(round(i.get_height())), fontsize=10, color='black')\n",
    "plt.show()"
   ]
  },
  {
   "cell_type": "code",
   "execution_count": 24,
   "metadata": {},
   "outputs": [
    {
     "data": {
      "text/html": [
       "<div>\n",
       "<style scoped>\n",
       "    .dataframe tbody tr th:only-of-type {\n",
       "        vertical-align: middle;\n",
       "    }\n",
       "\n",
       "    .dataframe tbody tr th {\n",
       "        vertical-align: top;\n",
       "    }\n",
       "\n",
       "    .dataframe thead th {\n",
       "        text-align: right;\n",
       "    }\n",
       "</style>\n",
       "<table border=\"1\" class=\"dataframe\">\n",
       "  <thead>\n",
       "    <tr style=\"text-align: right;\">\n",
       "      <th></th>\n",
       "      <th>product_id</th>\n",
       "      <th>product_name</th>\n",
       "      <th>department</th>\n",
       "      <th>order_time_period</th>\n",
       "      <th>reordered</th>\n",
       "    </tr>\n",
       "  </thead>\n",
       "  <tbody>\n",
       "    <tr>\n",
       "      <th>0</th>\n",
       "      <td>24</td>\n",
       "      <td>fresh fruits</td>\n",
       "      <td>produce</td>\n",
       "      <td>afternoon</td>\n",
       "      <td>104177</td>\n",
       "    </tr>\n",
       "    <tr>\n",
       "      <th>1</th>\n",
       "      <td>83</td>\n",
       "      <td>fresh vegetables</td>\n",
       "      <td>produce</td>\n",
       "      <td>afternoon</td>\n",
       "      <td>102115</td>\n",
       "    </tr>\n",
       "    <tr>\n",
       "      <th>2</th>\n",
       "      <td>24</td>\n",
       "      <td>fresh fruits</td>\n",
       "      <td>produce</td>\n",
       "      <td>morning</td>\n",
       "      <td>77479</td>\n",
       "    </tr>\n",
       "    <tr>\n",
       "      <th>3</th>\n",
       "      <td>83</td>\n",
       "      <td>fresh vegetables</td>\n",
       "      <td>produce</td>\n",
       "      <td>morning</td>\n",
       "      <td>68634</td>\n",
       "    </tr>\n",
       "    <tr>\n",
       "      <th>4</th>\n",
       "      <td>123</td>\n",
       "      <td>packaged vegetables fruits</td>\n",
       "      <td>produce</td>\n",
       "      <td>afternoon</td>\n",
       "      <td>51493</td>\n",
       "    </tr>\n",
       "    <tr>\n",
       "      <th>5</th>\n",
       "      <td>120</td>\n",
       "      <td>yogurt</td>\n",
       "      <td>dairy eggs</td>\n",
       "      <td>afternoon</td>\n",
       "      <td>41484</td>\n",
       "    </tr>\n",
       "    <tr>\n",
       "      <th>6</th>\n",
       "      <td>24</td>\n",
       "      <td>fresh fruits</td>\n",
       "      <td>produce</td>\n",
       "      <td>evening</td>\n",
       "      <td>37544</td>\n",
       "    </tr>\n",
       "    <tr>\n",
       "      <th>7</th>\n",
       "      <td>123</td>\n",
       "      <td>packaged vegetables fruits</td>\n",
       "      <td>produce</td>\n",
       "      <td>morning</td>\n",
       "      <td>36210</td>\n",
       "    </tr>\n",
       "    <tr>\n",
       "      <th>8</th>\n",
       "      <td>83</td>\n",
       "      <td>fresh vegetables</td>\n",
       "      <td>produce</td>\n",
       "      <td>evening</td>\n",
       "      <td>35026</td>\n",
       "    </tr>\n",
       "    <tr>\n",
       "      <th>9</th>\n",
       "      <td>120</td>\n",
       "      <td>yogurt</td>\n",
       "      <td>dairy eggs</td>\n",
       "      <td>morning</td>\n",
       "      <td>31412</td>\n",
       "    </tr>\n",
       "    <tr>\n",
       "      <th>10</th>\n",
       "      <td>21</td>\n",
       "      <td>packaged cheese</td>\n",
       "      <td>dairy eggs</td>\n",
       "      <td>afternoon</td>\n",
       "      <td>29360</td>\n",
       "    </tr>\n",
       "    <tr>\n",
       "      <th>11</th>\n",
       "      <td>84</td>\n",
       "      <td>milk</td>\n",
       "      <td>dairy eggs</td>\n",
       "      <td>afternoon</td>\n",
       "      <td>24712</td>\n",
       "    </tr>\n",
       "    <tr>\n",
       "      <th>12</th>\n",
       "      <td>115</td>\n",
       "      <td>water seltzer sparkling water</td>\n",
       "      <td>beverages</td>\n",
       "      <td>afternoon</td>\n",
       "      <td>24641</td>\n",
       "    </tr>\n",
       "    <tr>\n",
       "      <th>13</th>\n",
       "      <td>107</td>\n",
       "      <td>chips pretzels</td>\n",
       "      <td>snacks</td>\n",
       "      <td>afternoon</td>\n",
       "      <td>21838</td>\n",
       "    </tr>\n",
       "    <tr>\n",
       "      <th>14</th>\n",
       "      <td>21</td>\n",
       "      <td>packaged cheese</td>\n",
       "      <td>dairy eggs</td>\n",
       "      <td>morning</td>\n",
       "      <td>20462</td>\n",
       "    </tr>\n",
       "  </tbody>\n",
       "</table>\n",
       "</div>"
      ],
      "text/plain": [
       "    product_id                   product_name  department order_time_period  \\\n",
       "0           24                   fresh fruits     produce         afternoon   \n",
       "1           83               fresh vegetables     produce         afternoon   \n",
       "2           24                   fresh fruits     produce           morning   \n",
       "3           83               fresh vegetables     produce           morning   \n",
       "4          123     packaged vegetables fruits     produce         afternoon   \n",
       "5          120                         yogurt  dairy eggs         afternoon   \n",
       "6           24                   fresh fruits     produce           evening   \n",
       "7          123     packaged vegetables fruits     produce           morning   \n",
       "8           83               fresh vegetables     produce           evening   \n",
       "9          120                         yogurt  dairy eggs           morning   \n",
       "10          21                packaged cheese  dairy eggs         afternoon   \n",
       "11          84                           milk  dairy eggs         afternoon   \n",
       "12         115  water seltzer sparkling water   beverages         afternoon   \n",
       "13         107                 chips pretzels      snacks         afternoon   \n",
       "14          21                packaged cheese  dairy eggs           morning   \n",
       "\n",
       "    reordered  \n",
       "0      104177  \n",
       "1      102115  \n",
       "2       77479  \n",
       "3       68634  \n",
       "4       51493  \n",
       "5       41484  \n",
       "6       37544  \n",
       "7       36210  \n",
       "8       35026  \n",
       "9       31412  \n",
       "10      29360  \n",
       "11      24712  \n",
       "12      24641  \n",
       "13      21838  \n",
       "14      20462  "
      ]
     },
     "execution_count": 24,
     "metadata": {},
     "output_type": "execute_result"
    }
   ],
   "source": [
    "# AGGREGATING & GROUPING VALUES TO UNDERSTAND PURCHASING BEHAVIOUR\n",
    "grouped = df.groupby([\"product_id\",\"product_name\",\"department\",\"order_time_period\"])[\"reordered\"].aggregate('count').reset_index()\n",
    "grouped = grouped.sort_values(by='reordered', ascending=False)[:15].reset_index()\n",
    "del grouped[\"index\"]\n",
    "grouped"
   ]
  },
  {
   "attachments": {},
   "cell_type": "markdown",
   "metadata": {},
   "source": [
    "<b>NOTE :</b>\n",
    "From the above table we can clearly observe that produce, dairy products, beverages and snacks are the top categories the customers are most interested to purchase"
   ]
  },
  {
   "cell_type": "code",
   "execution_count": 25,
   "metadata": {},
   "outputs": [
    {
     "data": {
      "text/html": [
       "<div>\n",
       "<style scoped>\n",
       "    .dataframe tbody tr th:only-of-type {\n",
       "        vertical-align: middle;\n",
       "    }\n",
       "\n",
       "    .dataframe tbody tr th {\n",
       "        vertical-align: top;\n",
       "    }\n",
       "\n",
       "    .dataframe thead th {\n",
       "        text-align: right;\n",
       "    }\n",
       "</style>\n",
       "<table border=\"1\" class=\"dataframe\">\n",
       "  <thead>\n",
       "    <tr style=\"text-align: right;\">\n",
       "      <th></th>\n",
       "      <th>reordered</th>\n",
       "      <th>product_id</th>\n",
       "      <th>Ratio</th>\n",
       "    </tr>\n",
       "  </thead>\n",
       "  <tbody>\n",
       "    <tr>\n",
       "      <th>0</th>\n",
       "      <td>0</td>\n",
       "      <td>828515</td>\n",
       "      <td>0.410257</td>\n",
       "    </tr>\n",
       "    <tr>\n",
       "      <th>1</th>\n",
       "      <td>1</td>\n",
       "      <td>1190986</td>\n",
       "      <td>0.589743</td>\n",
       "    </tr>\n",
       "  </tbody>\n",
       "</table>\n",
       "</div>"
      ],
      "text/plain": [
       "   reordered  product_id     Ratio\n",
       "0          0      828515  0.410257\n",
       "1          1     1190986  0.589743"
      ]
     },
     "execution_count": 25,
     "metadata": {},
     "output_type": "execute_result"
    }
   ],
   "source": [
    "# AGGREGATING & GROUPING VALUES TO UNDERSTAND PRODUCT REORDERED RATIO\n",
    "grouped = df.groupby(\"reordered\")[\"product_id\"].aggregate('count').reset_index()\n",
    "grouped['Ratio'] = grouped[\"product_id\"].apply(lambda x: x /grouped['product_id'].sum())\n",
    "grouped"
   ]
  },
  {
   "cell_type": "code",
   "execution_count": 26,
   "metadata": {},
   "outputs": [
    {
     "data": {
      "image/png": "[encoded data removed]",
      "text/plain": [
       "<Figure size 500x800 with 1 Axes>"
      ]
     },
     "metadata": {},
     "output_type": "display_data"
    }
   ],
   "source": [
    "# Aggregating & grouping values to visualize reordered ratio\n",
    "grouped = grouped.groupby(['reordered']).sum()['product_id'].sort_values(ascending=True)\n",
    "\n",
    "sns.set_style('whitegrid')\n",
    "f, ax = plt.subplots(figsize=(5, 8))\n",
    "sns.barplot(x=grouped.index, y=grouped.values, palette='coolwarm')\n",
    "\n",
    "grouped_pct = grouped/grouped.sum() * 100\n",
    "for i, v in enumerate(grouped.values):\n",
    "    ax.text(i, v+3, f'{grouped_pct.values[i]:.1f}%', ha='center', fontsize=10)\n",
    "\n",
    "plt.ylabel('Number of Products', fontsize=13)\n",
    "plt.xlabel('Reordered', fontsize=13)\n",
    "plt.ticklabel_format(style='plain', axis='y')\n",
    "plt.show()"
   ]
  },
  {
   "attachments": {},
   "cell_type": "markdown",
   "metadata": {},
   "source": [
    "<b>NOTE :</b>\n",
    "From the above we can see that 59 % of products were reordered by customers."
   ]
  },
  {
   "attachments": {},
   "cell_type": "markdown",
   "metadata": {},
   "source": [
    "## 3. MODELING"
   ]
  },
  {
   "cell_type": "code",
   "execution_count": 28,
   "metadata": {},
   "outputs": [
    {
     "data": {
      "text/html": [
       "<div>\n",
       "<style scoped>\n",
       "    .dataframe tbody tr th:only-of-type {\n",
       "        vertical-align: middle;\n",
       "    }\n",
       "\n",
       "    .dataframe tbody tr th {\n",
       "        vertical-align: top;\n",
       "    }\n",
       "\n",
       "    .dataframe thead th {\n",
       "        text-align: right;\n",
       "    }\n",
       "</style>\n",
       "<table border=\"1\" class=\"dataframe\">\n",
       "  <thead>\n",
       "    <tr style=\"text-align: right;\">\n",
       "      <th></th>\n",
       "      <th>order_id</th>\n",
       "      <th>user_id</th>\n",
       "      <th>order_number</th>\n",
       "      <th>order_dow</th>\n",
       "      <th>order_hour_of_day</th>\n",
       "      <th>days_since_prior_order</th>\n",
       "      <th>product_id</th>\n",
       "      <th>add_to_cart_order</th>\n",
       "      <th>reordered</th>\n",
       "      <th>department_id</th>\n",
       "      <th>department</th>\n",
       "      <th>product_name</th>\n",
       "      <th>order_time_period</th>\n",
       "      <th>order_number_group</th>\n",
       "    </tr>\n",
       "  </thead>\n",
       "  <tbody>\n",
       "    <tr>\n",
       "      <th>0</th>\n",
       "      <td>2425083</td>\n",
       "      <td>49125</td>\n",
       "      <td>1</td>\n",
       "      <td>2</td>\n",
       "      <td>18</td>\n",
       "      <td>-1</td>\n",
       "      <td>17</td>\n",
       "      <td>1</td>\n",
       "      <td>0</td>\n",
       "      <td>13</td>\n",
       "      <td>pantry</td>\n",
       "      <td>baking ingredients</td>\n",
       "      <td>evening</td>\n",
       "      <td>1-10 orders</td>\n",
       "    </tr>\n",
       "    <tr>\n",
       "      <th>1</th>\n",
       "      <td>2425083</td>\n",
       "      <td>49125</td>\n",
       "      <td>1</td>\n",
       "      <td>2</td>\n",
       "      <td>18</td>\n",
       "      <td>-1</td>\n",
       "      <td>91</td>\n",
       "      <td>2</td>\n",
       "      <td>0</td>\n",
       "      <td>16</td>\n",
       "      <td>dairy eggs</td>\n",
       "      <td>soy lactosefree</td>\n",
       "      <td>evening</td>\n",
       "      <td>1-10 orders</td>\n",
       "    </tr>\n",
       "    <tr>\n",
       "      <th>2</th>\n",
       "      <td>2425083</td>\n",
       "      <td>49125</td>\n",
       "      <td>1</td>\n",
       "      <td>2</td>\n",
       "      <td>18</td>\n",
       "      <td>-1</td>\n",
       "      <td>36</td>\n",
       "      <td>3</td>\n",
       "      <td>0</td>\n",
       "      <td>16</td>\n",
       "      <td>dairy eggs</td>\n",
       "      <td>butter</td>\n",
       "      <td>evening</td>\n",
       "      <td>1-10 orders</td>\n",
       "    </tr>\n",
       "    <tr>\n",
       "      <th>3</th>\n",
       "      <td>2425083</td>\n",
       "      <td>49125</td>\n",
       "      <td>1</td>\n",
       "      <td>2</td>\n",
       "      <td>18</td>\n",
       "      <td>-1</td>\n",
       "      <td>83</td>\n",
       "      <td>4</td>\n",
       "      <td>0</td>\n",
       "      <td>4</td>\n",
       "      <td>produce</td>\n",
       "      <td>fresh vegetables</td>\n",
       "      <td>evening</td>\n",
       "      <td>1-10 orders</td>\n",
       "    </tr>\n",
       "    <tr>\n",
       "      <th>4</th>\n",
       "      <td>2425083</td>\n",
       "      <td>49125</td>\n",
       "      <td>1</td>\n",
       "      <td>2</td>\n",
       "      <td>18</td>\n",
       "      <td>-1</td>\n",
       "      <td>83</td>\n",
       "      <td>5</td>\n",
       "      <td>0</td>\n",
       "      <td>4</td>\n",
       "      <td>produce</td>\n",
       "      <td>fresh vegetables</td>\n",
       "      <td>evening</td>\n",
       "      <td>1-10 orders</td>\n",
       "    </tr>\n",
       "    <tr>\n",
       "      <th>...</th>\n",
       "      <td>...</td>\n",
       "      <td>...</td>\n",
       "      <td>...</td>\n",
       "      <td>...</td>\n",
       "      <td>...</td>\n",
       "      <td>...</td>\n",
       "      <td>...</td>\n",
       "      <td>...</td>\n",
       "      <td>...</td>\n",
       "      <td>...</td>\n",
       "      <td>...</td>\n",
       "      <td>...</td>\n",
       "      <td>...</td>\n",
       "      <td>...</td>\n",
       "    </tr>\n",
       "    <tr>\n",
       "      <th>2019496</th>\n",
       "      <td>3390742</td>\n",
       "      <td>199430</td>\n",
       "      <td>16</td>\n",
       "      <td>3</td>\n",
       "      <td>18</td>\n",
       "      <td>5</td>\n",
       "      <td>83</td>\n",
       "      <td>8</td>\n",
       "      <td>0</td>\n",
       "      <td>4</td>\n",
       "      <td>produce</td>\n",
       "      <td>fresh vegetables</td>\n",
       "      <td>evening</td>\n",
       "      <td>11-20 orders</td>\n",
       "    </tr>\n",
       "    <tr>\n",
       "      <th>2019497</th>\n",
       "      <td>458285</td>\n",
       "      <td>128787</td>\n",
       "      <td>42</td>\n",
       "      <td>2</td>\n",
       "      <td>19</td>\n",
       "      <td>3</td>\n",
       "      <td>115</td>\n",
       "      <td>1</td>\n",
       "      <td>1</td>\n",
       "      <td>7</td>\n",
       "      <td>beverages</td>\n",
       "      <td>water seltzer sparkling water</td>\n",
       "      <td>evening</td>\n",
       "      <td>41-50 orders</td>\n",
       "    </tr>\n",
       "    <tr>\n",
       "      <th>2019498</th>\n",
       "      <td>458285</td>\n",
       "      <td>128787</td>\n",
       "      <td>42</td>\n",
       "      <td>2</td>\n",
       "      <td>19</td>\n",
       "      <td>3</td>\n",
       "      <td>32</td>\n",
       "      <td>2</td>\n",
       "      <td>1</td>\n",
       "      <td>4</td>\n",
       "      <td>produce</td>\n",
       "      <td>packaged produce</td>\n",
       "      <td>evening</td>\n",
       "      <td>41-50 orders</td>\n",
       "    </tr>\n",
       "    <tr>\n",
       "      <th>2019499</th>\n",
       "      <td>458285</td>\n",
       "      <td>128787</td>\n",
       "      <td>42</td>\n",
       "      <td>2</td>\n",
       "      <td>19</td>\n",
       "      <td>3</td>\n",
       "      <td>32</td>\n",
       "      <td>3</td>\n",
       "      <td>1</td>\n",
       "      <td>4</td>\n",
       "      <td>produce</td>\n",
       "      <td>packaged produce</td>\n",
       "      <td>evening</td>\n",
       "      <td>41-50 orders</td>\n",
       "    </tr>\n",
       "    <tr>\n",
       "      <th>2019500</th>\n",
       "      <td>458285</td>\n",
       "      <td>128787</td>\n",
       "      <td>42</td>\n",
       "      <td>2</td>\n",
       "      <td>19</td>\n",
       "      <td>3</td>\n",
       "      <td>123</td>\n",
       "      <td>4</td>\n",
       "      <td>1</td>\n",
       "      <td>4</td>\n",
       "      <td>produce</td>\n",
       "      <td>packaged vegetables fruits</td>\n",
       "      <td>evening</td>\n",
       "      <td>41-50 orders</td>\n",
       "    </tr>\n",
       "  </tbody>\n",
       "</table>\n",
       "<p>2019501 rows × 14 columns</p>\n",
       "</div>"
      ],
      "text/plain": [
       "         order_id  user_id  order_number  order_dow  order_hour_of_day  \\\n",
       "0        2425083   49125    1             2          18                  \n",
       "1        2425083   49125    1             2          18                  \n",
       "2        2425083   49125    1             2          18                  \n",
       "3        2425083   49125    1             2          18                  \n",
       "4        2425083   49125    1             2          18                  \n",
       "...          ...     ...   ..            ..          ..                  \n",
       "2019496  3390742   199430   16            3          18                  \n",
       "2019497  458285    128787   42            2          19                  \n",
       "2019498  458285    128787   42            2          19                  \n",
       "2019499  458285    128787   42            2          19                  \n",
       "2019500  458285    128787   42            2          19                  \n",
       "\n",
       "         days_since_prior_order  product_id  add_to_cart_order  reordered  \\\n",
       "0       -1                       17          1                  0           \n",
       "1       -1                       91          2                  0           \n",
       "2       -1                       36          3                  0           \n",
       "3       -1                       83          4                  0           \n",
       "4       -1                       83          5                  0           \n",
       "...     ..                       ..         ..                 ..           \n",
       "2019496  5                       83          8                  0           \n",
       "2019497  3                       115         1                  1           \n",
       "2019498  3                       32          2                  1           \n",
       "2019499  3                       32          3                  1           \n",
       "2019500  3                       123         4                  1           \n",
       "\n",
       "         department_id  department                   product_name  \\\n",
       "0        13             pantry      baking ingredients              \n",
       "1        16             dairy eggs  soy lactosefree                 \n",
       "2        16             dairy eggs  butter                          \n",
       "3        4              produce     fresh vegetables                \n",
       "4        4              produce     fresh vegetables                \n",
       "...     ..                  ...                  ...                \n",
       "2019496  4              produce     fresh vegetables                \n",
       "2019497  7              beverages   water seltzer sparkling water   \n",
       "2019498  4              produce     packaged produce                \n",
       "2019499  4              produce     packaged produce                \n",
       "2019500  4              produce     packaged vegetables fruits      \n",
       "\n",
       "        order_time_period order_number_group  \n",
       "0        evening           1-10 orders        \n",
       "1        evening           1-10 orders        \n",
       "2        evening           1-10 orders        \n",
       "3        evening           1-10 orders        \n",
       "4        evening           1-10 orders        \n",
       "...          ...                   ...        \n",
       "2019496  evening           11-20 orders       \n",
       "2019497  evening           41-50 orders       \n",
       "2019498  evening           41-50 orders       \n",
       "2019499  evening           41-50 orders       \n",
       "2019500  evening           41-50 orders       \n",
       "\n",
       "[2019501 rows x 14 columns]"
      ]
     },
     "execution_count": 28,
     "metadata": {},
     "output_type": "execute_result"
    }
   ],
   "source": [
    "pd.set_option('display.max_colwidth', -1)\n",
    "df"
   ]
  },
  {
   "cell_type": "code",
   "execution_count": 30,
   "metadata": {},
   "outputs": [],
   "source": [
    "# Building customized plot parameters \n",
    "def bar_plot(df,col):\n",
    "    fig = px.bar(df,\n",
    "        x = df[col].value_counts().keys(), \n",
    "        y = df[col].value_counts().values,\n",
    "        color= df[col].value_counts().keys()\n",
    "    )\n",
    "    fig.update_layout(\n",
    "        xaxis_title= col,\n",
    "        yaxis_title=\"Count\",\n",
    "        legend_title=col,\n",
    "        font_family=\"Courier New\",\n",
    "        font_color=\"blue\",\n",
    "        title_font_family=\"Times New Roman\",\n",
    "        title_font_color=\"red\",\n",
    "        legend_title_font_color=\"green\"\n",
    "    )\n",
    "    fig.show()"
   ]
  },
  {
   "cell_type": "code",
   "execution_count": 31,
   "metadata": {},
   "outputs": [
    {
     "data": {
      "application/vnd.plotly.v1+json": {
       "config": {
        "plotlyServerURL": "https://plot.ly"
       },
       "data": [
        {
         "alignmentgroup": "True",
         "hovertemplate": "color=fresh fruits<br>x=%{x}<br>y=%{y}<extra></extra>",
         "legendgroup": "fresh fruits",
         "marker": {
          "color": "#636efa",
          "pattern": {
           "shape": ""
          }
         },
         "name": "fresh fruits",
         "offsetgroup": "fresh fruits",
         "orientation": "v",
         "showlegend": true,
         "textposition": "auto",
         "type": "bar",
         "x": [
          "fresh fruits"
         ],
         "xaxis": "x",
         "y": [
          226039
         ],
         "yaxis": "y"
        },
        {
         "alignmentgroup": "True",
         "hovertemplate": "color=fresh vegetables<br>x=%{x}<br>y=%{y}<extra></extra>",
         "legendgroup": "fresh vegetables",
         "marker": {
          "color": "#EF553B",
          "pattern": {
           "shape": ""
          }
         },
         "name": "fresh vegetables",
         "offsetgroup": "fresh vegetables",
         "orientation": "v",
         "showlegend": true,
         "textposition": "auto",
         "type": "bar",
         "x": [
          "fresh vegetables"
         ],
         "xaxis": "x",
         "y": [
          212611
         ],
         "yaxis": "y"
        },
        {
         "alignmentgroup": "True",
         "hovertemplate": "color=packaged vegetables fruits<br>x=%{x}<br>y=%{y}<extra></extra>",
         "legendgroup": "packaged vegetables fruits",
         "marker": {
          "color": "#00cc96",
          "pattern": {
           "shape": ""
          }
         },
         "name": "packaged vegetables fruits",
         "offsetgroup": "packaged vegetables fruits",
         "orientation": "v",
         "showlegend": true,
         "textposition": "auto",
         "type": "bar",
         "x": [
          "packaged vegetables fruits"
         ],
         "xaxis": "x",
         "y": [
          109596
         ],
         "yaxis": "y"
        },
        {
         "alignmentgroup": "True",
         "hovertemplate": "color=yogurt<br>x=%{x}<br>y=%{y}<extra></extra>",
         "legendgroup": "yogurt",
         "marker": {
          "color": "#ab63fa",
          "pattern": {
           "shape": ""
          }
         },
         "name": "yogurt",
         "offsetgroup": "yogurt",
         "orientation": "v",
         "showlegend": true,
         "textposition": "auto",
         "type": "bar",
         "x": [
          "yogurt"
         ],
         "xaxis": "x",
         "y": [
          90751
         ],
         "yaxis": "y"
        },
        {
         "alignmentgroup": "True",
         "hovertemplate": "color=packaged cheese<br>x=%{x}<br>y=%{y}<extra></extra>",
         "legendgroup": "packaged cheese",
         "marker": {
          "color": "#FFA15A",
          "pattern": {
           "shape": ""
          }
         },
         "name": "packaged cheese",
         "offsetgroup": "packaged cheese",
         "orientation": "v",
         "showlegend": true,
         "textposition": "auto",
         "type": "bar",
         "x": [
          "packaged cheese"
         ],
         "xaxis": "x",
         "y": [
          61502
         ],
         "yaxis": "y"
        },
        {
         "alignmentgroup": "True",
         "hovertemplate": "color=milk<br>x=%{x}<br>y=%{y}<extra></extra>",
         "legendgroup": "milk",
         "marker": {
          "color": "#19d3f3",
          "pattern": {
           "shape": ""
          }
         },
         "name": "milk",
         "offsetgroup": "milk",
         "orientation": "v",
         "showlegend": true,
         "textposition": "auto",
         "type": "bar",
         "x": [
          "milk"
         ],
         "xaxis": "x",
         "y": [
          55150
         ],
         "yaxis": "y"
        },
        {
         "alignmentgroup": "True",
         "hovertemplate": "color=water seltzer sparkling water<br>x=%{x}<br>y=%{y}<extra></extra>",
         "legendgroup": "water seltzer sparkling water",
         "marker": {
          "color": "#FF6692",
          "pattern": {
           "shape": ""
          }
         },
         "name": "water seltzer sparkling water",
         "offsetgroup": "water seltzer sparkling water",
         "orientation": "v",
         "showlegend": true,
         "textposition": "auto",
         "type": "bar",
         "x": [
          "water seltzer sparkling water"
         ],
         "xaxis": "x",
         "y": [
          52564
         ],
         "yaxis": "y"
        },
        {
         "alignmentgroup": "True",
         "hovertemplate": "color=chips pretzels<br>x=%{x}<br>y=%{y}<extra></extra>",
         "legendgroup": "chips pretzels",
         "marker": {
          "color": "#B6E880",
          "pattern": {
           "shape": ""
          }
         },
         "name": "chips pretzels",
         "offsetgroup": "chips pretzels",
         "orientation": "v",
         "showlegend": true,
         "textposition": "auto",
         "type": "bar",
         "x": [
          "chips pretzels"
         ],
         "xaxis": "x",
         "y": [
          45306
         ],
         "yaxis": "y"
        },
        {
         "alignmentgroup": "True",
         "hovertemplate": "color=soy lactosefree<br>x=%{x}<br>y=%{y}<extra></extra>",
         "legendgroup": "soy lactosefree",
         "marker": {
          "color": "#FF97FF",
          "pattern": {
           "shape": ""
          }
         },
         "name": "soy lactosefree",
         "offsetgroup": "soy lactosefree",
         "orientation": "v",
         "showlegend": true,
         "textposition": "auto",
         "type": "bar",
         "x": [
          "soy lactosefree"
         ],
         "xaxis": "x",
         "y": [
          39389
         ],
         "yaxis": "y"
        },
        {
         "alignmentgroup": "True",
         "hovertemplate": "color=bread<br>x=%{x}<br>y=%{y}<extra></extra>",
         "legendgroup": "bread",
         "marker": {
          "color": "#FECB52",
          "pattern": {
           "shape": ""
          }
         },
         "name": "bread",
         "offsetgroup": "bread",
         "orientation": "v",
         "showlegend": true,
         "textposition": "auto",
         "type": "bar",
         "x": [
          "bread"
         ],
         "xaxis": "x",
         "y": [
          36381
         ],
         "yaxis": "y"
        },
        {
         "alignmentgroup": "True",
         "hovertemplate": "color=refrigerated<br>x=%{x}<br>y=%{y}<extra></extra>",
         "legendgroup": "refrigerated",
         "marker": {
          "color": "#636efa",
          "pattern": {
           "shape": ""
          }
         },
         "name": "refrigerated",
         "offsetgroup": "refrigerated",
         "orientation": "v",
         "showlegend": true,
         "textposition": "auto",
         "type": "bar",
         "x": [
          "refrigerated"
         ],
         "xaxis": "x",
         "y": [
          35893
         ],
         "yaxis": "y"
        },
        {
         "alignmentgroup": "True",
         "hovertemplate": "color=frozen produce<br>x=%{x}<br>y=%{y}<extra></extra>",
         "legendgroup": "frozen produce",
         "marker": {
          "color": "#EF553B",
          "pattern": {
           "shape": ""
          }
         },
         "name": "frozen produce",
         "offsetgroup": "frozen produce",
         "orientation": "v",
         "showlegend": true,
         "textposition": "auto",
         "type": "bar",
         "x": [
          "frozen produce"
         ],
         "xaxis": "x",
         "y": [
          32432
         ],
         "yaxis": "y"
        },
        {
         "alignmentgroup": "True",
         "hovertemplate": "color=ice cream ice<br>x=%{x}<br>y=%{y}<extra></extra>",
         "legendgroup": "ice cream ice",
         "marker": {
          "color": "#00cc96",
          "pattern": {
           "shape": ""
          }
         },
         "name": "ice cream ice",
         "offsetgroup": "ice cream ice",
         "orientation": "v",
         "showlegend": true,
         "textposition": "auto",
         "type": "bar",
         "x": [
          "ice cream ice"
         ],
         "xaxis": "x",
         "y": [
          31323
         ],
         "yaxis": "y"
        },
        {
         "alignmentgroup": "True",
         "hovertemplate": "color=energy granola bars<br>x=%{x}<br>y=%{y}<extra></extra>",
         "legendgroup": "energy granola bars",
         "marker": {
          "color": "#ab63fa",
          "pattern": {
           "shape": ""
          }
         },
         "name": "energy granola bars",
         "offsetgroup": "energy granola bars",
         "orientation": "v",
         "showlegend": true,
         "textposition": "auto",
         "type": "bar",
         "x": [
          "energy granola bars"
         ],
         "xaxis": "x",
         "y": [
          28639
         ],
         "yaxis": "y"
        },
        {
         "alignmentgroup": "True",
         "hovertemplate": "color=crackers<br>x=%{x}<br>y=%{y}<extra></extra>",
         "legendgroup": "crackers",
         "marker": {
          "color": "#FFA15A",
          "pattern": {
           "shape": ""
          }
         },
         "name": "crackers",
         "offsetgroup": "crackers",
         "orientation": "v",
         "showlegend": true,
         "textposition": "auto",
         "type": "bar",
         "x": [
          "crackers"
         ],
         "xaxis": "x",
         "y": [
          28574
         ],
         "yaxis": "y"
        },
        {
         "alignmentgroup": "True",
         "hovertemplate": "color=eggs<br>x=%{x}<br>y=%{y}<extra></extra>",
         "legendgroup": "eggs",
         "marker": {
          "color": "#19d3f3",
          "pattern": {
           "shape": ""
          }
         },
         "name": "eggs",
         "offsetgroup": "eggs",
         "orientation": "v",
         "showlegend": true,
         "textposition": "auto",
         "type": "bar",
         "x": [
          "eggs"
         ],
         "xaxis": "x",
         "y": [
          27986
         ],
         "yaxis": "y"
        },
        {
         "alignmentgroup": "True",
         "hovertemplate": "color=lunch meat<br>x=%{x}<br>y=%{y}<extra></extra>",
         "legendgroup": "lunch meat",
         "marker": {
          "color": "#FF6692",
          "pattern": {
           "shape": ""
          }
         },
         "name": "lunch meat",
         "offsetgroup": "lunch meat",
         "orientation": "v",
         "showlegend": true,
         "textposition": "auto",
         "type": "bar",
         "x": [
          "lunch meat"
         ],
         "xaxis": "x",
         "y": [
          24470
         ],
         "yaxis": "y"
        },
        {
         "alignmentgroup": "True",
         "hovertemplate": "color=frozen meals<br>x=%{x}<br>y=%{y}<extra></extra>",
         "legendgroup": "frozen meals",
         "marker": {
          "color": "#B6E880",
          "pattern": {
           "shape": ""
          }
         },
         "name": "frozen meals",
         "offsetgroup": "frozen meals",
         "orientation": "v",
         "showlegend": true,
         "textposition": "auto",
         "type": "bar",
         "x": [
          "frozen meals"
         ],
         "xaxis": "x",
         "y": [
          24449
         ],
         "yaxis": "y"
        },
        {
         "alignmentgroup": "True",
         "hovertemplate": "color=cereal<br>x=%{x}<br>y=%{y}<extra></extra>",
         "legendgroup": "cereal",
         "marker": {
          "color": "#FF97FF",
          "pattern": {
           "shape": ""
          }
         },
         "name": "cereal",
         "offsetgroup": "cereal",
         "orientation": "v",
         "showlegend": true,
         "textposition": "auto",
         "type": "bar",
         "x": [
          "cereal"
         ],
         "xaxis": "x",
         "y": [
          23754
         ],
         "yaxis": "y"
        },
        {
         "alignmentgroup": "True",
         "hovertemplate": "color=baby food formula<br>x=%{x}<br>y=%{y}<extra></extra>",
         "legendgroup": "baby food formula",
         "marker": {
          "color": "#FECB52",
          "pattern": {
           "shape": ""
          }
         },
         "name": "baby food formula",
         "offsetgroup": "baby food formula",
         "orientation": "v",
         "showlegend": true,
         "textposition": "auto",
         "type": "bar",
         "x": [
          "baby food formula"
         ],
         "xaxis": "x",
         "y": [
          23355
         ],
         "yaxis": "y"
        },
        {
         "alignmentgroup": "True",
         "hovertemplate": "color=fresh herbs<br>x=%{x}<br>y=%{y}<extra></extra>",
         "legendgroup": "fresh herbs",
         "marker": {
          "color": "#636efa",
          "pattern": {
           "shape": ""
          }
         },
         "name": "fresh herbs",
         "offsetgroup": "fresh herbs",
         "orientation": "v",
         "showlegend": true,
         "textposition": "auto",
         "type": "bar",
         "x": [
          "fresh herbs"
         ],
         "xaxis": "x",
         "y": [
          23342
         ],
         "yaxis": "y"
        },
        {
         "alignmentgroup": "True",
         "hovertemplate": "color=soft drinks<br>x=%{x}<br>y=%{y}<extra></extra>",
         "legendgroup": "soft drinks",
         "marker": {
          "color": "#EF553B",
          "pattern": {
           "shape": ""
          }
         },
         "name": "soft drinks",
         "offsetgroup": "soft drinks",
         "orientation": "v",
         "showlegend": true,
         "textposition": "auto",
         "type": "bar",
         "x": [
          "soft drinks"
         ],
         "xaxis": "x",
         "y": [
          22428
         ],
         "yaxis": "y"
        },
        {
         "alignmentgroup": "True",
         "hovertemplate": "color=fresh dips tapenades<br>x=%{x}<br>y=%{y}<extra></extra>",
         "legendgroup": "fresh dips tapenades",
         "marker": {
          "color": "#00cc96",
          "pattern": {
           "shape": ""
          }
         },
         "name": "fresh dips tapenades",
         "offsetgroup": "fresh dips tapenades",
         "orientation": "v",
         "showlegend": true,
         "textposition": "auto",
         "type": "bar",
         "x": [
          "fresh dips tapenades"
         ],
         "xaxis": "x",
         "y": [
          22175
         ],
         "yaxis": "y"
        },
        {
         "alignmentgroup": "True",
         "hovertemplate": "color=soup broth bouillon<br>x=%{x}<br>y=%{y}<extra></extra>",
         "legendgroup": "soup broth bouillon",
         "marker": {
          "color": "#ab63fa",
          "pattern": {
           "shape": ""
          }
         },
         "name": "soup broth bouillon",
         "offsetgroup": "soup broth bouillon",
         "orientation": "v",
         "showlegend": true,
         "textposition": "auto",
         "type": "bar",
         "x": [
          "soup broth bouillon"
         ],
         "xaxis": "x",
         "y": [
          21540
         ],
         "yaxis": "y"
        },
        {
         "alignmentgroup": "True",
         "hovertemplate": "color=juice nectars<br>x=%{x}<br>y=%{y}<extra></extra>",
         "legendgroup": "juice nectars",
         "marker": {
          "color": "#FFA15A",
          "pattern": {
           "shape": ""
          }
         },
         "name": "juice nectars",
         "offsetgroup": "juice nectars",
         "orientation": "v",
         "showlegend": true,
         "textposition": "auto",
         "type": "bar",
         "x": [
          "juice nectars"
         ],
         "xaxis": "x",
         "y": [
          20715
         ],
         "yaxis": "y"
        },
        {
         "alignmentgroup": "True",
         "hovertemplate": "color=baking ingredients<br>x=%{x}<br>y=%{y}<extra></extra>",
         "legendgroup": "baking ingredients",
         "marker": {
          "color": "#19d3f3",
          "pattern": {
           "shape": ""
          }
         },
         "name": "baking ingredients",
         "offsetgroup": "baking ingredients",
         "orientation": "v",
         "showlegend": true,
         "textposition": "auto",
         "type": "bar",
         "x": [
          "baking ingredients"
         ],
         "xaxis": "x",
         "y": [
          20137
         ],
         "yaxis": "y"
        },
        {
         "alignmentgroup": "True",
         "hovertemplate": "color=cream<br>x=%{x}<br>y=%{y}<extra></extra>",
         "legendgroup": "cream",
         "marker": {
          "color": "#FF6692",
          "pattern": {
           "shape": ""
          }
         },
         "name": "cream",
         "offsetgroup": "cream",
         "orientation": "v",
         "showlegend": true,
         "textposition": "auto",
         "type": "bar",
         "x": [
          "cream"
         ],
         "xaxis": "x",
         "y": [
          19786
         ],
         "yaxis": "y"
        },
        {
         "alignmentgroup": "True",
         "hovertemplate": "color=other creams cheeses<br>x=%{x}<br>y=%{y}<extra></extra>",
         "legendgroup": "other creams cheeses",
         "marker": {
          "color": "#B6E880",
          "pattern": {
           "shape": ""
          }
         },
         "name": "other creams cheeses",
         "offsetgroup": "other creams cheeses",
         "orientation": "v",
         "showlegend": true,
         "textposition": "auto",
         "type": "bar",
         "x": [
          "other creams cheeses"
         ],
         "xaxis": "x",
         "y": [
          19091
         ],
         "yaxis": "y"
        },
        {
         "alignmentgroup": "True",
         "hovertemplate": "color=hot dogs bacon sausage<br>x=%{x}<br>y=%{y}<extra></extra>",
         "legendgroup": "hot dogs bacon sausage",
         "marker": {
          "color": "#FF97FF",
          "pattern": {
           "shape": ""
          }
         },
         "name": "hot dogs bacon sausage",
         "offsetgroup": "hot dogs bacon sausage",
         "orientation": "v",
         "showlegend": true,
         "textposition": "auto",
         "type": "bar",
         "x": [
          "hot dogs bacon sausage"
         ],
         "xaxis": "x",
         "y": [
          19037
         ],
         "yaxis": "y"
        },
        {
         "alignmentgroup": "True",
         "hovertemplate": "color=nuts seeds dried fruit<br>x=%{x}<br>y=%{y}<extra></extra>",
         "legendgroup": "nuts seeds dried fruit",
         "marker": {
          "color": "#FECB52",
          "pattern": {
           "shape": ""
          }
         },
         "name": "nuts seeds dried fruit",
         "offsetgroup": "nuts seeds dried fruit",
         "orientation": "v",
         "showlegend": true,
         "textposition": "auto",
         "type": "bar",
         "x": [
          "nuts seeds dried fruit"
         ],
         "xaxis": "x",
         "y": [
          19026
         ],
         "yaxis": "y"
        },
        {
         "alignmentgroup": "True",
         "hovertemplate": "color=candy chocolate<br>x=%{x}<br>y=%{y}<extra></extra>",
         "legendgroup": "candy chocolate",
         "marker": {
          "color": "#636efa",
          "pattern": {
           "shape": ""
          }
         },
         "name": "candy chocolate",
         "offsetgroup": "candy chocolate",
         "orientation": "v",
         "showlegend": true,
         "textposition": "auto",
         "type": "bar",
         "x": [
          "candy chocolate"
         ],
         "xaxis": "x",
         "y": [
          18735
         ],
         "yaxis": "y"
        },
        {
         "alignmentgroup": "True",
         "hovertemplate": "color=spreads<br>x=%{x}<br>y=%{y}<extra></extra>",
         "legendgroup": "spreads",
         "marker": {
          "color": "#EF553B",
          "pattern": {
           "shape": ""
          }
         },
         "name": "spreads",
         "offsetgroup": "spreads",
         "orientation": "v",
         "showlegend": true,
         "textposition": "auto",
         "type": "bar",
         "x": [
          "spreads"
         ],
         "xaxis": "x",
         "y": [
          18149
         ],
         "yaxis": "y"
        },
        {
         "alignmentgroup": "True",
         "hovertemplate": "color=canned jarred vegetables<br>x=%{x}<br>y=%{y}<extra></extra>",
         "legendgroup": "canned jarred vegetables",
         "marker": {
          "color": "#00cc96",
          "pattern": {
           "shape": ""
          }
         },
         "name": "canned jarred vegetables",
         "offsetgroup": "canned jarred vegetables",
         "orientation": "v",
         "showlegend": true,
         "textposition": "auto",
         "type": "bar",
         "x": [
          "canned jarred vegetables"
         ],
         "xaxis": "x",
         "y": [
          18025
         ],
         "yaxis": "y"
        },
        {
         "alignmentgroup": "True",
         "hovertemplate": "color=packaged produce<br>x=%{x}<br>y=%{y}<extra></extra>",
         "legendgroup": "packaged produce",
         "marker": {
          "color": "#ab63fa",
          "pattern": {
           "shape": ""
          }
         },
         "name": "packaged produce",
         "offsetgroup": "packaged produce",
         "orientation": "v",
         "showlegend": true,
         "textposition": "auto",
         "type": "bar",
         "x": [
          "packaged produce"
         ],
         "xaxis": "x",
         "y": [
          17408
         ],
         "yaxis": "y"
        },
        {
         "alignmentgroup": "True",
         "hovertemplate": "color=canned meals beans<br>x=%{x}<br>y=%{y}<extra></extra>",
         "legendgroup": "canned meals beans",
         "marker": {
          "color": "#FFA15A",
          "pattern": {
           "shape": ""
          }
         },
         "name": "canned meals beans",
         "offsetgroup": "canned meals beans",
         "orientation": "v",
         "showlegend": true,
         "textposition": "auto",
         "type": "bar",
         "x": [
          "canned meals beans"
         ],
         "xaxis": "x",
         "y": [
          16818
         ],
         "yaxis": "y"
        },
        {
         "alignmentgroup": "True",
         "hovertemplate": "color=dry pasta<br>x=%{x}<br>y=%{y}<extra></extra>",
         "legendgroup": "dry pasta",
         "marker": {
          "color": "#19d3f3",
          "pattern": {
           "shape": ""
          }
         },
         "name": "dry pasta",
         "offsetgroup": "dry pasta",
         "orientation": "v",
         "showlegend": true,
         "textposition": "auto",
         "type": "bar",
         "x": [
          "dry pasta"
         ],
         "xaxis": "x",
         "y": [
          16414
         ],
         "yaxis": "y"
        },
        {
         "alignmentgroup": "True",
         "hovertemplate": "color=butter<br>x=%{x}<br>y=%{y}<extra></extra>",
         "legendgroup": "butter",
         "marker": {
          "color": "#FF6692",
          "pattern": {
           "shape": ""
          }
         },
         "name": "butter",
         "offsetgroup": "butter",
         "orientation": "v",
         "showlegend": true,
         "textposition": "auto",
         "type": "bar",
         "x": [
          "butter"
         ],
         "xaxis": "x",
         "y": [
          15735
         ],
         "yaxis": "y"
        },
        {
         "alignmentgroup": "True",
         "hovertemplate": "color=tea<br>x=%{x}<br>y=%{y}<extra></extra>",
         "legendgroup": "tea",
         "marker": {
          "color": "#B6E880",
          "pattern": {
           "shape": ""
          }
         },
         "name": "tea",
         "offsetgroup": "tea",
         "orientation": "v",
         "showlegend": true,
         "textposition": "auto",
         "type": "bar",
         "x": [
          "tea"
         ],
         "xaxis": "x",
         "y": [
          15733
         ],
         "yaxis": "y"
        },
        {
         "alignmentgroup": "True",
         "hovertemplate": "color=paper goods<br>x=%{x}<br>y=%{y}<extra></extra>",
         "legendgroup": "paper goods",
         "marker": {
          "color": "#FF97FF",
          "pattern": {
           "shape": ""
          }
         },
         "name": "paper goods",
         "offsetgroup": "paper goods",
         "orientation": "v",
         "showlegend": true,
         "textposition": "auto",
         "type": "bar",
         "x": [
          "paper goods"
         ],
         "xaxis": "x",
         "y": [
          15422
         ],
         "yaxis": "y"
        },
        {
         "alignmentgroup": "True",
         "hovertemplate": "color=breakfast bakery<br>x=%{x}<br>y=%{y}<extra></extra>",
         "legendgroup": "breakfast bakery",
         "marker": {
          "color": "#FECB52",
          "pattern": {
           "shape": ""
          }
         },
         "name": "breakfast bakery",
         "offsetgroup": "breakfast bakery",
         "orientation": "v",
         "showlegend": true,
         "textposition": "auto",
         "type": "bar",
         "x": [
          "breakfast bakery"
         ],
         "xaxis": "x",
         "y": [
          15357
         ],
         "yaxis": "y"
        },
        {
         "alignmentgroup": "True",
         "hovertemplate": "color=oils vinegars<br>x=%{x}<br>y=%{y}<extra></extra>",
         "legendgroup": "oils vinegars",
         "marker": {
          "color": "#636efa",
          "pattern": {
           "shape": ""
          }
         },
         "name": "oils vinegars",
         "offsetgroup": "oils vinegars",
         "orientation": "v",
         "showlegend": true,
         "textposition": "auto",
         "type": "bar",
         "x": [
          "oils vinegars"
         ],
         "xaxis": "x",
         "y": [
          15213
         ],
         "yaxis": "y"
        },
        {
         "alignmentgroup": "True",
         "hovertemplate": "color=cookies cakes<br>x=%{x}<br>y=%{y}<extra></extra>",
         "legendgroup": "cookies cakes",
         "marker": {
          "color": "#EF553B",
          "pattern": {
           "shape": ""
          }
         },
         "name": "cookies cakes",
         "offsetgroup": "cookies cakes",
         "orientation": "v",
         "showlegend": true,
         "textposition": "auto",
         "type": "bar",
         "x": [
          "cookies cakes"
         ],
         "xaxis": "x",
         "y": [
          14745
         ],
         "yaxis": "y"
        },
        {
         "alignmentgroup": "True",
         "hovertemplate": "color=frozen breakfast<br>x=%{x}<br>y=%{y}<extra></extra>",
         "legendgroup": "frozen breakfast",
         "marker": {
          "color": "#00cc96",
          "pattern": {
           "shape": ""
          }
         },
         "name": "frozen breakfast",
         "offsetgroup": "frozen breakfast",
         "orientation": "v",
         "showlegend": true,
         "textposition": "auto",
         "type": "bar",
         "x": [
          "frozen breakfast"
         ],
         "xaxis": "x",
         "y": [
          14346
         ],
         "yaxis": "y"
        },
        {
         "alignmentgroup": "True",
         "hovertemplate": "color=pasta sauce<br>x=%{x}<br>y=%{y}<extra></extra>",
         "legendgroup": "pasta sauce",
         "marker": {
          "color": "#ab63fa",
          "pattern": {
           "shape": ""
          }
         },
         "name": "pasta sauce",
         "offsetgroup": "pasta sauce",
         "orientation": "v",
         "showlegend": true,
         "textposition": "auto",
         "type": "bar",
         "x": [
          "pasta sauce"
         ],
         "xaxis": "x",
         "y": [
          13771
         ],
         "yaxis": "y"
        },
        {
         "alignmentgroup": "True",
         "hovertemplate": "color=condiments<br>x=%{x}<br>y=%{y}<extra></extra>",
         "legendgroup": "condiments",
         "marker": {
          "color": "#FFA15A",
          "pattern": {
           "shape": ""
          }
         },
         "name": "condiments",
         "offsetgroup": "condiments",
         "orientation": "v",
         "showlegend": true,
         "textposition": "auto",
         "type": "bar",
         "x": [
          "condiments"
         ],
         "xaxis": "x",
         "y": [
          13760
         ],
         "yaxis": "y"
        },
        {
         "alignmentgroup": "True",
         "hovertemplate": "color=spices seasonings<br>x=%{x}<br>y=%{y}<extra></extra>",
         "legendgroup": "spices seasonings",
         "marker": {
          "color": "#19d3f3",
          "pattern": {
           "shape": ""
          }
         },
         "name": "spices seasonings",
         "offsetgroup": "spices seasonings",
         "orientation": "v",
         "showlegend": true,
         "textposition": "auto",
         "type": "bar",
         "x": [
          "spices seasonings"
         ],
         "xaxis": "x",
         "y": [
          13067
         ],
         "yaxis": "y"
        },
        {
         "alignmentgroup": "True",
         "hovertemplate": "color=coffee<br>x=%{x}<br>y=%{y}<extra></extra>",
         "legendgroup": "coffee",
         "marker": {
          "color": "#FF6692",
          "pattern": {
           "shape": ""
          }
         },
         "name": "coffee",
         "offsetgroup": "coffee",
         "orientation": "v",
         "showlegend": true,
         "textposition": "auto",
         "type": "bar",
         "x": [
          "coffee"
         ],
         "xaxis": "x",
         "y": [
          12823
         ],
         "yaxis": "y"
        },
        {
         "alignmentgroup": "True",
         "hovertemplate": "color=instant foods<br>x=%{x}<br>y=%{y}<extra></extra>",
         "legendgroup": "instant foods",
         "marker": {
          "color": "#B6E880",
          "pattern": {
           "shape": ""
          }
         },
         "name": "instant foods",
         "offsetgroup": "instant foods",
         "orientation": "v",
         "showlegend": true,
         "textposition": "auto",
         "type": "bar",
         "x": [
          "instant foods"
         ],
         "xaxis": "x",
         "y": [
          12651
         ],
         "yaxis": "y"
        },
        {
         "alignmentgroup": "True",
         "hovertemplate": "color=frozen appetizers sides<br>x=%{x}<br>y=%{y}<extra></extra>",
         "legendgroup": "frozen appetizers sides",
         "marker": {
          "color": "#FF97FF",
          "pattern": {
           "shape": ""
          }
         },
         "name": "frozen appetizers sides",
         "offsetgroup": "frozen appetizers sides",
         "orientation": "v",
         "showlegend": true,
         "textposition": "auto",
         "type": "bar",
         "x": [
          "frozen appetizers sides"
         ],
         "xaxis": "x",
         "y": [
          12178
         ],
         "yaxis": "y"
        },
        {
         "alignmentgroup": "True",
         "hovertemplate": "color=tortillas flat bread<br>x=%{x}<br>y=%{y}<extra></extra>",
         "legendgroup": "tortillas flat bread",
         "marker": {
          "color": "#FECB52",
          "pattern": {
           "shape": ""
          }
         },
         "name": "tortillas flat bread",
         "offsetgroup": "tortillas flat bread",
         "orientation": "v",
         "showlegend": true,
         "textposition": "auto",
         "type": "bar",
         "x": [
          "tortillas flat bread"
         ],
         "xaxis": "x",
         "y": [
          12082
         ],
         "yaxis": "y"
        },
        {
         "alignmentgroup": "True",
         "hovertemplate": "color=fruit vegetable snacks<br>x=%{x}<br>y=%{y}<extra></extra>",
         "legendgroup": "fruit vegetable snacks",
         "marker": {
          "color": "#636efa",
          "pattern": {
           "shape": ""
          }
         },
         "name": "fruit vegetable snacks",
         "offsetgroup": "fruit vegetable snacks",
         "orientation": "v",
         "showlegend": true,
         "textposition": "auto",
         "type": "bar",
         "x": [
          "fruit vegetable snacks"
         ],
         "xaxis": "x",
         "y": [
          10931
         ],
         "yaxis": "y"
        },
        {
         "alignmentgroup": "True",
         "hovertemplate": "color=asian foods<br>x=%{x}<br>y=%{y}<extra></extra>",
         "legendgroup": "asian foods",
         "marker": {
          "color": "#EF553B",
          "pattern": {
           "shape": ""
          }
         },
         "name": "asian foods",
         "offsetgroup": "asian foods",
         "orientation": "v",
         "showlegend": true,
         "textposition": "auto",
         "type": "bar",
         "x": [
          "asian foods"
         ],
         "xaxis": "x",
         "y": [
          10426
         ],
         "yaxis": "y"
        },
        {
         "alignmentgroup": "True",
         "hovertemplate": "color=popcorn jerky<br>x=%{x}<br>y=%{y}<extra></extra>",
         "legendgroup": "popcorn jerky",
         "marker": {
          "color": "#00cc96",
          "pattern": {
           "shape": ""
          }
         },
         "name": "popcorn jerky",
         "offsetgroup": "popcorn jerky",
         "orientation": "v",
         "showlegend": true,
         "textposition": "auto",
         "type": "bar",
         "x": [
          "popcorn jerky"
         ],
         "xaxis": "x",
         "y": [
          10415
         ],
         "yaxis": "y"
        },
        {
         "alignmentgroup": "True",
         "hovertemplate": "color=frozen pizza<br>x=%{x}<br>y=%{y}<extra></extra>",
         "legendgroup": "frozen pizza",
         "marker": {
          "color": "#ab63fa",
          "pattern": {
           "shape": ""
          }
         },
         "name": "frozen pizza",
         "offsetgroup": "frozen pizza",
         "orientation": "v",
         "showlegend": true,
         "textposition": "auto",
         "type": "bar",
         "x": [
          "frozen pizza"
         ],
         "xaxis": "x",
         "y": [
          10124
         ],
         "yaxis": "y"
        },
        {
         "alignmentgroup": "True",
         "hovertemplate": "color=hot cereal pancake mixes<br>x=%{x}<br>y=%{y}<extra></extra>",
         "legendgroup": "hot cereal pancake mixes",
         "marker": {
          "color": "#FFA15A",
          "pattern": {
           "shape": ""
          }
         },
         "name": "hot cereal pancake mixes",
         "offsetgroup": "hot cereal pancake mixes",
         "orientation": "v",
         "showlegend": true,
         "textposition": "auto",
         "type": "bar",
         "x": [
          "hot cereal pancake mixes"
         ],
         "xaxis": "x",
         "y": [
          9820
         ],
         "yaxis": "y"
        },
        {
         "alignmentgroup": "True",
         "hovertemplate": "color=grains rice dried goods<br>x=%{x}<br>y=%{y}<extra></extra>",
         "legendgroup": "grains rice dried goods",
         "marker": {
          "color": "#19d3f3",
          "pattern": {
           "shape": ""
          }
         },
         "name": "grains rice dried goods",
         "offsetgroup": "grains rice dried goods",
         "orientation": "v",
         "showlegend": true,
         "textposition": "auto",
         "type": "bar",
         "x": [
          "grains rice dried goods"
         ],
         "xaxis": "x",
         "y": [
          8878
         ],
         "yaxis": "y"
        },
        {
         "alignmentgroup": "True",
         "hovertemplate": "color=poultry counter<br>x=%{x}<br>y=%{y}<extra></extra>",
         "legendgroup": "poultry counter",
         "marker": {
          "color": "#FF6692",
          "pattern": {
           "shape": ""
          }
         },
         "name": "poultry counter",
         "offsetgroup": "poultry counter",
         "orientation": "v",
         "showlegend": true,
         "textposition": "auto",
         "type": "bar",
         "x": [
          "poultry counter"
         ],
         "xaxis": "x",
         "y": [
          8131
         ],
         "yaxis": "y"
        },
        {
         "alignmentgroup": "True",
         "hovertemplate": "color=tofu meat alternatives<br>x=%{x}<br>y=%{y}<extra></extra>",
         "legendgroup": "tofu meat alternatives",
         "marker": {
          "color": "#B6E880",
          "pattern": {
           "shape": ""
          }
         },
         "name": "tofu meat alternatives",
         "offsetgroup": "tofu meat alternatives",
         "orientation": "v",
         "showlegend": true,
         "textposition": "auto",
         "type": "bar",
         "x": [
          "tofu meat alternatives"
         ],
         "xaxis": "x",
         "y": [
          8003
         ],
         "yaxis": "y"
        },
        {
         "alignmentgroup": "True",
         "hovertemplate": "color=packaged poultry<br>x=%{x}<br>y=%{y}<extra></extra>",
         "legendgroup": "packaged poultry",
         "marker": {
          "color": "#FF97FF",
          "pattern": {
           "shape": ""
          }
         },
         "name": "packaged poultry",
         "offsetgroup": "packaged poultry",
         "orientation": "v",
         "showlegend": true,
         "textposition": "auto",
         "type": "bar",
         "x": [
          "packaged poultry"
         ],
         "xaxis": "x",
         "y": [
          7467
         ],
         "yaxis": "y"
        },
        {
         "alignmentgroup": "True",
         "hovertemplate": "color=cleaning products<br>x=%{x}<br>y=%{y}<extra></extra>",
         "legendgroup": "cleaning products",
         "marker": {
          "color": "#FECB52",
          "pattern": {
           "shape": ""
          }
         },
         "name": "cleaning products",
         "offsetgroup": "cleaning products",
         "orientation": "v",
         "showlegend": true,
         "textposition": "auto",
         "type": "bar",
         "x": [
          "cleaning products"
         ],
         "xaxis": "x",
         "y": [
          7429
         ],
         "yaxis": "y"
        },
        {
         "alignmentgroup": "True",
         "hovertemplate": "color=buns rolls<br>x=%{x}<br>y=%{y}<extra></extra>",
         "legendgroup": "buns rolls",
         "marker": {
          "color": "#636efa",
          "pattern": {
           "shape": ""
          }
         },
         "name": "buns rolls",
         "offsetgroup": "buns rolls",
         "orientation": "v",
         "showlegend": true,
         "textposition": "auto",
         "type": "bar",
         "x": [
          "buns rolls"
         ],
         "xaxis": "x",
         "y": [
          6949
         ],
         "yaxis": "y"
        },
        {
         "alignmentgroup": "True",
         "hovertemplate": "color=pickled goods olives<br>x=%{x}<br>y=%{y}<extra></extra>",
         "legendgroup": "pickled goods olives",
         "marker": {
          "color": "#EF553B",
          "pattern": {
           "shape": ""
          }
         },
         "name": "pickled goods olives",
         "offsetgroup": "pickled goods olives",
         "orientation": "v",
         "showlegend": true,
         "textposition": "auto",
         "type": "bar",
         "x": [
          "pickled goods olives"
         ],
         "xaxis": "x",
         "y": [
          6925
         ],
         "yaxis": "y"
        },
        {
         "alignmentgroup": "True",
         "hovertemplate": "color=preserved dips spreads<br>x=%{x}<br>y=%{y}<extra></extra>",
         "legendgroup": "preserved dips spreads",
         "marker": {
          "color": "#00cc96",
          "pattern": {
           "shape": ""
          }
         },
         "name": "preserved dips spreads",
         "offsetgroup": "preserved dips spreads",
         "orientation": "v",
         "showlegend": true,
         "textposition": "auto",
         "type": "bar",
         "x": [
          "preserved dips spreads"
         ],
         "xaxis": "x",
         "y": [
          6866
         ],
         "yaxis": "y"
        },
        {
         "alignmentgroup": "True",
         "hovertemplate": "color=doughs gelatins bake mixes<br>x=%{x}<br>y=%{y}<extra></extra>",
         "legendgroup": "doughs gelatins bake mixes",
         "marker": {
          "color": "#ab63fa",
          "pattern": {
           "shape": ""
          }
         },
         "name": "doughs gelatins bake mixes",
         "offsetgroup": "doughs gelatins bake mixes",
         "orientation": "v",
         "showlegend": true,
         "textposition": "auto",
         "type": "bar",
         "x": [
          "doughs gelatins bake mixes"
         ],
         "xaxis": "x",
         "y": [
          6693
         ],
         "yaxis": "y"
        },
        {
         "alignmentgroup": "True",
         "hovertemplate": "color=energy sports drinks<br>x=%{x}<br>y=%{y}<extra></extra>",
         "legendgroup": "energy sports drinks",
         "marker": {
          "color": "#FFA15A",
          "pattern": {
           "shape": ""
          }
         },
         "name": "energy sports drinks",
         "offsetgroup": "energy sports drinks",
         "orientation": "v",
         "showlegend": true,
         "textposition": "auto",
         "type": "bar",
         "x": [
          "energy sports drinks"
         ],
         "xaxis": "x",
         "y": [
          6638
         ],
         "yaxis": "y"
        },
        {
         "alignmentgroup": "True",
         "hovertemplate": "color=granola<br>x=%{x}<br>y=%{y}<extra></extra>",
         "legendgroup": "granola",
         "marker": {
          "color": "#19d3f3",
          "pattern": {
           "shape": ""
          }
         },
         "name": "granola",
         "offsetgroup": "granola",
         "orientation": "v",
         "showlegend": true,
         "textposition": "auto",
         "type": "bar",
         "x": [
          "granola"
         ],
         "xaxis": "x",
         "y": [
          6410
         ],
         "yaxis": "y"
        },
        {
         "alignmentgroup": "True",
         "hovertemplate": "color=frozen vegan vegetarian<br>x=%{x}<br>y=%{y}<extra></extra>",
         "legendgroup": "frozen vegan vegetarian",
         "marker": {
          "color": "#FF6692",
          "pattern": {
           "shape": ""
          }
         },
         "name": "frozen vegan vegetarian",
         "offsetgroup": "frozen vegan vegetarian",
         "orientation": "v",
         "showlegend": true,
         "textposition": "auto",
         "type": "bar",
         "x": [
          "frozen vegan vegetarian"
         ],
         "xaxis": "x",
         "y": [
          6321
         ],
         "yaxis": "y"
        },
        {
         "alignmentgroup": "True",
         "hovertemplate": "color=prepared meals<br>x=%{x}<br>y=%{y}<extra></extra>",
         "legendgroup": "prepared meals",
         "marker": {
          "color": "#B6E880",
          "pattern": {
           "shape": ""
          }
         },
         "name": "prepared meals",
         "offsetgroup": "prepared meals",
         "orientation": "v",
         "showlegend": true,
         "textposition": "auto",
         "type": "bar",
         "x": [
          "prepared meals"
         ],
         "xaxis": "x",
         "y": [
          6144
         ],
         "yaxis": "y"
        },
        {
         "alignmentgroup": "True",
         "hovertemplate": "color=salad dressing toppings<br>x=%{x}<br>y=%{y}<extra></extra>",
         "legendgroup": "salad dressing toppings",
         "marker": {
          "color": "#FF97FF",
          "pattern": {
           "shape": ""
          }
         },
         "name": "salad dressing toppings",
         "offsetgroup": "salad dressing toppings",
         "orientation": "v",
         "showlegend": true,
         "textposition": "auto",
         "type": "bar",
         "x": [
          "salad dressing toppings"
         ],
         "xaxis": "x",
         "y": [
          6009
         ],
         "yaxis": "y"
        },
        {
         "alignmentgroup": "True",
         "hovertemplate": "color=laundry<br>x=%{x}<br>y=%{y}<extra></extra>",
         "legendgroup": "laundry",
         "marker": {
          "color": "#FECB52",
          "pattern": {
           "shape": ""
          }
         },
         "name": "laundry",
         "offsetgroup": "laundry",
         "orientation": "v",
         "showlegend": true,
         "textposition": "auto",
         "type": "bar",
         "x": [
          "laundry"
         ],
         "xaxis": "x",
         "y": [
          5904
         ],
         "yaxis": "y"
        },
        {
         "alignmentgroup": "True",
         "hovertemplate": "color=dish detergents<br>x=%{x}<br>y=%{y}<extra></extra>",
         "legendgroup": "dish detergents",
         "marker": {
          "color": "#636efa",
          "pattern": {
           "shape": ""
          }
         },
         "name": "dish detergents",
         "offsetgroup": "dish detergents",
         "orientation": "v",
         "showlegend": true,
         "textposition": "auto",
         "type": "bar",
         "x": [
          "dish detergents"
         ],
         "xaxis": "x",
         "y": [
          5867
         ],
         "yaxis": "y"
        },
        {
         "alignmentgroup": "True",
         "hovertemplate": "color=canned fruit applesauce<br>x=%{x}<br>y=%{y}<extra></extra>",
         "legendgroup": "canned fruit applesauce",
         "marker": {
          "color": "#EF553B",
          "pattern": {
           "shape": ""
          }
         },
         "name": "canned fruit applesauce",
         "offsetgroup": "canned fruit applesauce",
         "orientation": "v",
         "showlegend": true,
         "textposition": "auto",
         "type": "bar",
         "x": [
          "canned fruit applesauce"
         ],
         "xaxis": "x",
         "y": [
          5458
         ],
         "yaxis": "y"
        },
        {
         "alignmentgroup": "True",
         "hovertemplate": "color=specialty cheeses<br>x=%{x}<br>y=%{y}<extra></extra>",
         "legendgroup": "specialty cheeses",
         "marker": {
          "color": "#00cc96",
          "pattern": {
           "shape": ""
          }
         },
         "name": "specialty cheeses",
         "offsetgroup": "specialty cheeses",
         "orientation": "v",
         "showlegend": true,
         "textposition": "auto",
         "type": "bar",
         "x": [
          "specialty cheeses"
         ],
         "xaxis": "x",
         "y": [
          5102
         ],
         "yaxis": "y"
        },
        {
         "alignmentgroup": "True",
         "hovertemplate": "color=missing<br>x=%{x}<br>y=%{y}<extra></extra>",
         "legendgroup": "missing",
         "marker": {
          "color": "#ab63fa",
          "pattern": {
           "shape": ""
          }
         },
         "name": "missing",
         "offsetgroup": "missing",
         "orientation": "v",
         "showlegend": true,
         "textposition": "auto",
         "type": "bar",
         "x": [
          "missing"
         ],
         "xaxis": "x",
         "y": [
          4749
         ],
         "yaxis": "y"
        },
        {
         "alignmentgroup": "True",
         "hovertemplate": "color=latino foods<br>x=%{x}<br>y=%{y}<extra></extra>",
         "legendgroup": "latino foods",
         "marker": {
          "color": "#FFA15A",
          "pattern": {
           "shape": ""
          }
         },
         "name": "latino foods",
         "offsetgroup": "latino foods",
         "orientation": "v",
         "showlegend": true,
         "textposition": "auto",
         "type": "bar",
         "x": [
          "latino foods"
         ],
         "xaxis": "x",
         "y": [
          4652
         ],
         "yaxis": "y"
        },
        {
         "alignmentgroup": "True",
         "hovertemplate": "color=breakfast bars pastries<br>x=%{x}<br>y=%{y}<extra></extra>",
         "legendgroup": "breakfast bars pastries",
         "marker": {
          "color": "#19d3f3",
          "pattern": {
           "shape": ""
          }
         },
         "name": "breakfast bars pastries",
         "offsetgroup": "breakfast bars pastries",
         "orientation": "v",
         "showlegend": true,
         "textposition": "auto",
         "type": "bar",
         "x": [
          "breakfast bars pastries"
         ],
         "xaxis": "x",
         "y": [
          4621
         ],
         "yaxis": "y"
        },
        {
         "alignmentgroup": "True",
         "hovertemplate": "color=meat counter<br>x=%{x}<br>y=%{y}<extra></extra>",
         "legendgroup": "meat counter",
         "marker": {
          "color": "#FF6692",
          "pattern": {
           "shape": ""
          }
         },
         "name": "meat counter",
         "offsetgroup": "meat counter",
         "orientation": "v",
         "showlegend": true,
         "textposition": "auto",
         "type": "bar",
         "x": [
          "meat counter"
         ],
         "xaxis": "x",
         "y": [
          4472
         ],
         "yaxis": "y"
        },
        {
         "alignmentgroup": "True",
         "hovertemplate": "color=frozen meat seafood<br>x=%{x}<br>y=%{y}<extra></extra>",
         "legendgroup": "frozen meat seafood",
         "marker": {
          "color": "#B6E880",
          "pattern": {
           "shape": ""
          }
         },
         "name": "frozen meat seafood",
         "offsetgroup": "frozen meat seafood",
         "orientation": "v",
         "showlegend": true,
         "textposition": "auto",
         "type": "bar",
         "x": [
          "frozen meat seafood"
         ],
         "xaxis": "x",
         "y": [
          4408
         ],
         "yaxis": "y"
        },
        {
         "alignmentgroup": "True",
         "hovertemplate": "color=prepared soups salads<br>x=%{x}<br>y=%{y}<extra></extra>",
         "legendgroup": "prepared soups salads",
         "marker": {
          "color": "#FF97FF",
          "pattern": {
           "shape": ""
          }
         },
         "name": "prepared soups salads",
         "offsetgroup": "prepared soups salads",
         "orientation": "v",
         "showlegend": true,
         "textposition": "auto",
         "type": "bar",
         "x": [
          "prepared soups salads"
         ],
         "xaxis": "x",
         "y": [
          4384
         ],
         "yaxis": "y"
        },
        {
         "alignmentgroup": "True",
         "hovertemplate": "color=canned meat seafood<br>x=%{x}<br>y=%{y}<extra></extra>",
         "legendgroup": "canned meat seafood",
         "marker": {
          "color": "#FECB52",
          "pattern": {
           "shape": ""
          }
         },
         "name": "canned meat seafood",
         "offsetgroup": "canned meat seafood",
         "orientation": "v",
         "showlegend": true,
         "textposition": "auto",
         "type": "bar",
         "x": [
          "canned meat seafood"
         ],
         "xaxis": "x",
         "y": [
          4212
         ],
         "yaxis": "y"
        },
        {
         "alignmentgroup": "True",
         "hovertemplate": "color=honeys syrups nectars<br>x=%{x}<br>y=%{y}<extra></extra>",
         "legendgroup": "honeys syrups nectars",
         "marker": {
          "color": "#636efa",
          "pattern": {
           "shape": ""
          }
         },
         "name": "honeys syrups nectars",
         "offsetgroup": "honeys syrups nectars",
         "orientation": "v",
         "showlegend": true,
         "textposition": "auto",
         "type": "bar",
         "x": [
          "honeys syrups nectars"
         ],
         "xaxis": "x",
         "y": [
          4156
         ],
         "yaxis": "y"
        },
        {
         "alignmentgroup": "True",
         "hovertemplate": "color=food storage<br>x=%{x}<br>y=%{y}<extra></extra>",
         "legendgroup": "food storage",
         "marker": {
          "color": "#EF553B",
          "pattern": {
           "shape": ""
          }
         },
         "name": "food storage",
         "offsetgroup": "food storage",
         "orientation": "v",
         "showlegend": true,
         "textposition": "auto",
         "type": "bar",
         "x": [
          "food storage"
         ],
         "xaxis": "x",
         "y": [
          4144
         ],
         "yaxis": "y"
        },
        {
         "alignmentgroup": "True",
         "hovertemplate": "color=oral hygiene<br>x=%{x}<br>y=%{y}<extra></extra>",
         "legendgroup": "oral hygiene",
         "marker": {
          "color": "#00cc96",
          "pattern": {
           "shape": ""
          }
         },
         "name": "oral hygiene",
         "offsetgroup": "oral hygiene",
         "orientation": "v",
         "showlegend": true,
         "textposition": "auto",
         "type": "bar",
         "x": [
          "oral hygiene"
         ],
         "xaxis": "x",
         "y": [
          4018
         ],
         "yaxis": "y"
        },
        {
         "alignmentgroup": "True",
         "hovertemplate": "color=soap<br>x=%{x}<br>y=%{y}<extra></extra>",
         "legendgroup": "soap",
         "marker": {
          "color": "#ab63fa",
          "pattern": {
           "shape": ""
          }
         },
         "name": "soap",
         "offsetgroup": "soap",
         "orientation": "v",
         "showlegend": true,
         "textposition": "auto",
         "type": "bar",
         "x": [
          "soap"
         ],
         "xaxis": "x",
         "y": [
          3918
         ],
         "yaxis": "y"
        },
        {
         "alignmentgroup": "True",
         "hovertemplate": "color=marinades meat preparation<br>x=%{x}<br>y=%{y}<extra></extra>",
         "legendgroup": "marinades meat preparation",
         "marker": {
          "color": "#FFA15A",
          "pattern": {
           "shape": ""
          }
         },
         "name": "marinades meat preparation",
         "offsetgroup": "marinades meat preparation",
         "orientation": "v",
         "showlegend": true,
         "textposition": "auto",
         "type": "bar",
         "x": [
          "marinades meat preparation"
         ],
         "xaxis": "x",
         "y": [
          3836
         ],
         "yaxis": "y"
        },
        {
         "alignmentgroup": "True",
         "hovertemplate": "color=cat food care<br>x=%{x}<br>y=%{y}<extra></extra>",
         "legendgroup": "cat food care",
         "marker": {
          "color": "#19d3f3",
          "pattern": {
           "shape": ""
          }
         },
         "name": "cat food care",
         "offsetgroup": "cat food care",
         "orientation": "v",
         "showlegend": true,
         "textposition": "auto",
         "type": "bar",
         "x": [
          "cat food care"
         ],
         "xaxis": "x",
         "y": [
          3835
         ],
         "yaxis": "y"
        },
        {
         "alignmentgroup": "True",
         "hovertemplate": "color=beers coolers<br>x=%{x}<br>y=%{y}<extra></extra>",
         "legendgroup": "beers coolers",
         "marker": {
          "color": "#FF6692",
          "pattern": {
           "shape": ""
          }
         },
         "name": "beers coolers",
         "offsetgroup": "beers coolers",
         "orientation": "v",
         "showlegend": true,
         "textposition": "auto",
         "type": "bar",
         "x": [
          "beers coolers"
         ],
         "xaxis": "x",
         "y": [
          3002
         ],
         "yaxis": "y"
        },
        {
         "alignmentgroup": "True",
         "hovertemplate": "color=vitamins supplements<br>x=%{x}<br>y=%{y}<extra></extra>",
         "legendgroup": "vitamins supplements",
         "marker": {
          "color": "#B6E880",
          "pattern": {
           "shape": ""
          }
         },
         "name": "vitamins supplements",
         "offsetgroup": "vitamins supplements",
         "orientation": "v",
         "showlegend": true,
         "textposition": "auto",
         "type": "bar",
         "x": [
          "vitamins supplements"
         ],
         "xaxis": "x",
         "y": [
          2912
         ],
         "yaxis": "y"
        },
        {
         "alignmentgroup": "True",
         "hovertemplate": "color=plates bowls cups flatware<br>x=%{x}<br>y=%{y}<extra></extra>",
         "legendgroup": "plates bowls cups flatware",
         "marker": {
          "color": "#FF97FF",
          "pattern": {
           "shape": ""
          }
         },
         "name": "plates bowls cups flatware",
         "offsetgroup": "plates bowls cups flatware",
         "orientation": "v",
         "showlegend": true,
         "textposition": "auto",
         "type": "bar",
         "x": [
          "plates bowls cups flatware"
         ],
         "xaxis": "x",
         "y": [
          2671
         ],
         "yaxis": "y"
        },
        {
         "alignmentgroup": "True",
         "hovertemplate": "color=body lotions soap<br>x=%{x}<br>y=%{y}<extra></extra>",
         "legendgroup": "body lotions soap",
         "marker": {
          "color": "#FECB52",
          "pattern": {
           "shape": ""
          }
         },
         "name": "body lotions soap",
         "offsetgroup": "body lotions soap",
         "orientation": "v",
         "showlegend": true,
         "textposition": "auto",
         "type": "bar",
         "x": [
          "body lotions soap"
         ],
         "xaxis": "x",
         "y": [
          2507
         ],
         "yaxis": "y"
        },
        {
         "alignmentgroup": "True",
         "hovertemplate": "color=frozen breads doughs<br>x=%{x}<br>y=%{y}<extra></extra>",
         "legendgroup": "frozen breads doughs",
         "marker": {
          "color": "#636efa",
          "pattern": {
           "shape": ""
          }
         },
         "name": "frozen breads doughs",
         "offsetgroup": "frozen breads doughs",
         "orientation": "v",
         "showlegend": true,
         "textposition": "auto",
         "type": "bar",
         "x": [
          "frozen breads doughs"
         ],
         "xaxis": "x",
         "y": [
          2486
         ],
         "yaxis": "y"
        },
        {
         "alignmentgroup": "True",
         "hovertemplate": "color=refrigerated pudding desserts<br>x=%{x}<br>y=%{y}<extra></extra>",
         "legendgroup": "refrigerated pudding desserts",
         "marker": {
          "color": "#EF553B",
          "pattern": {
           "shape": ""
          }
         },
         "name": "refrigerated pudding desserts",
         "offsetgroup": "refrigerated pudding desserts",
         "orientation": "v",
         "showlegend": true,
         "textposition": "auto",
         "type": "bar",
         "x": [
          "refrigerated pudding desserts"
         ],
         "xaxis": "x",
         "y": [
          2423
         ],
         "yaxis": "y"
        },
        {
         "alignmentgroup": "True",
         "hovertemplate": "color=fresh pasta<br>x=%{x}<br>y=%{y}<extra></extra>",
         "legendgroup": "fresh pasta",
         "marker": {
          "color": "#00cc96",
          "pattern": {
           "shape": ""
          }
         },
         "name": "fresh pasta",
         "offsetgroup": "fresh pasta",
         "orientation": "v",
         "showlegend": true,
         "textposition": "auto",
         "type": "bar",
         "x": [
          "fresh pasta"
         ],
         "xaxis": "x",
         "y": [
          2340
         ],
         "yaxis": "y"
        },
        {
         "alignmentgroup": "True",
         "hovertemplate": "color=protein meal replacements<br>x=%{x}<br>y=%{y}<extra></extra>",
         "legendgroup": "protein meal replacements",
         "marker": {
          "color": "#ab63fa",
          "pattern": {
           "shape": ""
          }
         },
         "name": "protein meal replacements",
         "offsetgroup": "protein meal replacements",
         "orientation": "v",
         "showlegend": true,
         "textposition": "auto",
         "type": "bar",
         "x": [
          "protein meal replacements"
         ],
         "xaxis": "x",
         "y": [
          2257
         ],
         "yaxis": "y"
        },
        {
         "alignmentgroup": "True",
         "hovertemplate": "color=other<br>x=%{x}<br>y=%{y}<extra></extra>",
         "legendgroup": "other",
         "marker": {
          "color": "#FFA15A",
          "pattern": {
           "shape": ""
          }
         },
         "name": "other",
         "offsetgroup": "other",
         "orientation": "v",
         "showlegend": true,
         "textposition": "auto",
         "type": "bar",
         "x": [
          "other"
         ],
         "xaxis": "x",
         "y": [
          2240
         ],
         "yaxis": "y"
        },
        {
         "alignmentgroup": "True",
         "hovertemplate": "color=trail mix snack mix<br>x=%{x}<br>y=%{y}<extra></extra>",
         "legendgroup": "trail mix snack mix",
         "marker": {
          "color": "#19d3f3",
          "pattern": {
           "shape": ""
          }
         },
         "name": "trail mix snack mix",
         "offsetgroup": "trail mix snack mix",
         "orientation": "v",
         "showlegend": true,
         "textposition": "auto",
         "type": "bar",
         "x": [
          "trail mix snack mix"
         ],
         "xaxis": "x",
         "y": [
          2238
         ],
         "yaxis": "y"
        },
        {
         "alignmentgroup": "True",
         "hovertemplate": "color=bakery desserts<br>x=%{x}<br>y=%{y}<extra></extra>",
         "legendgroup": "bakery desserts",
         "marker": {
          "color": "#FF6692",
          "pattern": {
           "shape": ""
          }
         },
         "name": "bakery desserts",
         "offsetgroup": "bakery desserts",
         "orientation": "v",
         "showlegend": true,
         "textposition": "auto",
         "type": "bar",
         "x": [
          "bakery desserts"
         ],
         "xaxis": "x",
         "y": [
          2214
         ],
         "yaxis": "y"
        },
        {
         "alignmentgroup": "True",
         "hovertemplate": "color=dog food care<br>x=%{x}<br>y=%{y}<extra></extra>",
         "legendgroup": "dog food care",
         "marker": {
          "color": "#B6E880",
          "pattern": {
           "shape": ""
          }
         },
         "name": "dog food care",
         "offsetgroup": "dog food care",
         "orientation": "v",
         "showlegend": true,
         "textposition": "auto",
         "type": "bar",
         "x": [
          "dog food care"
         ],
         "xaxis": "x",
         "y": [
          2178
         ],
         "yaxis": "y"
        },
        {
         "alignmentgroup": "True",
         "hovertemplate": "color=red wines<br>x=%{x}<br>y=%{y}<extra></extra>",
         "legendgroup": "red wines",
         "marker": {
          "color": "#FF97FF",
          "pattern": {
           "shape": ""
          }
         },
         "name": "red wines",
         "offsetgroup": "red wines",
         "orientation": "v",
         "showlegend": true,
         "textposition": "auto",
         "type": "bar",
         "x": [
          "red wines"
         ],
         "xaxis": "x",
         "y": [
          2135
         ],
         "yaxis": "y"
        },
        {
         "alignmentgroup": "True",
         "hovertemplate": "color=packaged meat<br>x=%{x}<br>y=%{y}<extra></extra>",
         "legendgroup": "packaged meat",
         "marker": {
          "color": "#FECB52",
          "pattern": {
           "shape": ""
          }
         },
         "name": "packaged meat",
         "offsetgroup": "packaged meat",
         "orientation": "v",
         "showlegend": true,
         "textposition": "auto",
         "type": "bar",
         "x": [
          "packaged meat"
         ],
         "xaxis": "x",
         "y": [
          2020
         ],
         "yaxis": "y"
        },
        {
         "alignmentgroup": "True",
         "hovertemplate": "color=trash bags liners<br>x=%{x}<br>y=%{y}<extra></extra>",
         "legendgroup": "trash bags liners",
         "marker": {
          "color": "#636efa",
          "pattern": {
           "shape": ""
          }
         },
         "name": "trash bags liners",
         "offsetgroup": "trash bags liners",
         "orientation": "v",
         "showlegend": true,
         "textposition": "auto",
         "type": "bar",
         "x": [
          "trash bags liners"
         ],
         "xaxis": "x",
         "y": [
          2020
         ],
         "yaxis": "y"
        },
        {
         "alignmentgroup": "True",
         "hovertemplate": "color=hair care<br>x=%{x}<br>y=%{y}<extra></extra>",
         "legendgroup": "hair care",
         "marker": {
          "color": "#EF553B",
          "pattern": {
           "shape": ""
          }
         },
         "name": "hair care",
         "offsetgroup": "hair care",
         "orientation": "v",
         "showlegend": true,
         "textposition": "auto",
         "type": "bar",
         "x": [
          "hair care"
         ],
         "xaxis": "x",
         "y": [
          1909
         ],
         "yaxis": "y"
        },
        {
         "alignmentgroup": "True",
         "hovertemplate": "color=white wines<br>x=%{x}<br>y=%{y}<extra></extra>",
         "legendgroup": "white wines",
         "marker": {
          "color": "#00cc96",
          "pattern": {
           "shape": ""
          }
         },
         "name": "white wines",
         "offsetgroup": "white wines",
         "orientation": "v",
         "showlegend": true,
         "textposition": "auto",
         "type": "bar",
         "x": [
          "white wines"
         ],
         "xaxis": "x",
         "y": [
          1893
         ],
         "yaxis": "y"
        },
        {
         "alignmentgroup": "True",
         "hovertemplate": "color=seafood counter<br>x=%{x}<br>y=%{y}<extra></extra>",
         "legendgroup": "seafood counter",
         "marker": {
          "color": "#ab63fa",
          "pattern": {
           "shape": ""
          }
         },
         "name": "seafood counter",
         "offsetgroup": "seafood counter",
         "orientation": "v",
         "showlegend": true,
         "textposition": "auto",
         "type": "bar",
         "x": [
          "seafood counter"
         ],
         "xaxis": "x",
         "y": [
          1843
         ],
         "yaxis": "y"
        },
        {
         "alignmentgroup": "True",
         "hovertemplate": "color=spirits<br>x=%{x}<br>y=%{y}<extra></extra>",
         "legendgroup": "spirits",
         "marker": {
          "color": "#FFA15A",
          "pattern": {
           "shape": ""
          }
         },
         "name": "spirits",
         "offsetgroup": "spirits",
         "orientation": "v",
         "showlegend": true,
         "textposition": "auto",
         "type": "bar",
         "x": [
          "spirits"
         ],
         "xaxis": "x",
         "y": [
          1795
         ],
         "yaxis": "y"
        },
        {
         "alignmentgroup": "True",
         "hovertemplate": "color=digestion<br>x=%{x}<br>y=%{y}<extra></extra>",
         "legendgroup": "digestion",
         "marker": {
          "color": "#19d3f3",
          "pattern": {
           "shape": ""
          }
         },
         "name": "digestion",
         "offsetgroup": "digestion",
         "orientation": "v",
         "showlegend": true,
         "textposition": "auto",
         "type": "bar",
         "x": [
          "digestion"
         ],
         "xaxis": "x",
         "y": [
          1727
         ],
         "yaxis": "y"
        },
        {
         "alignmentgroup": "True",
         "hovertemplate": "color=cold flu allergy<br>x=%{x}<br>y=%{y}<extra></extra>",
         "legendgroup": "cold flu allergy",
         "marker": {
          "color": "#FF6692",
          "pattern": {
           "shape": ""
          }
         },
         "name": "cold flu allergy",
         "offsetgroup": "cold flu allergy",
         "orientation": "v",
         "showlegend": true,
         "textposition": "auto",
         "type": "bar",
         "x": [
          "cold flu allergy"
         ],
         "xaxis": "x",
         "y": [
          1589
         ],
         "yaxis": "y"
        },
        {
         "alignmentgroup": "True",
         "hovertemplate": "color=diapers wipes<br>x=%{x}<br>y=%{y}<extra></extra>",
         "legendgroup": "diapers wipes",
         "marker": {
          "color": "#B6E880",
          "pattern": {
           "shape": ""
          }
         },
         "name": "diapers wipes",
         "offsetgroup": "diapers wipes",
         "orientation": "v",
         "showlegend": true,
         "textposition": "auto",
         "type": "bar",
         "x": [
          "diapers wipes"
         ],
         "xaxis": "x",
         "y": [
          1566
         ],
         "yaxis": "y"
        },
        {
         "alignmentgroup": "True",
         "hovertemplate": "color=baking supplies decor<br>x=%{x}<br>y=%{y}<extra></extra>",
         "legendgroup": "baking supplies decor",
         "marker": {
          "color": "#FF97FF",
          "pattern": {
           "shape": ""
          }
         },
         "name": "baking supplies decor",
         "offsetgroup": "baking supplies decor",
         "orientation": "v",
         "showlegend": true,
         "textposition": "auto",
         "type": "bar",
         "x": [
          "baking supplies decor"
         ],
         "xaxis": "x",
         "y": [
          1451
         ],
         "yaxis": "y"
        },
        {
         "alignmentgroup": "True",
         "hovertemplate": "color=mint gum<br>x=%{x}<br>y=%{y}<extra></extra>",
         "legendgroup": "mint gum",
         "marker": {
          "color": "#FECB52",
          "pattern": {
           "shape": ""
          }
         },
         "name": "mint gum",
         "offsetgroup": "mint gum",
         "orientation": "v",
         "showlegend": true,
         "textposition": "auto",
         "type": "bar",
         "x": [
          "mint gum"
         ],
         "xaxis": "x",
         "y": [
          1377
         ],
         "yaxis": "y"
        },
        {
         "alignmentgroup": "True",
         "hovertemplate": "color=cocoa drink mixes<br>x=%{x}<br>y=%{y}<extra></extra>",
         "legendgroup": "cocoa drink mixes",
         "marker": {
          "color": "#636efa",
          "pattern": {
           "shape": ""
          }
         },
         "name": "cocoa drink mixes",
         "offsetgroup": "cocoa drink mixes",
         "orientation": "v",
         "showlegend": true,
         "textposition": "auto",
         "type": "bar",
         "x": [
          "cocoa drink mixes"
         ],
         "xaxis": "x",
         "y": [
          1332
         ],
         "yaxis": "y"
        },
        {
         "alignmentgroup": "True",
         "hovertemplate": "color=packaged seafood<br>x=%{x}<br>y=%{y}<extra></extra>",
         "legendgroup": "packaged seafood",
         "marker": {
          "color": "#EF553B",
          "pattern": {
           "shape": ""
          }
         },
         "name": "packaged seafood",
         "offsetgroup": "packaged seafood",
         "orientation": "v",
         "showlegend": true,
         "textposition": "auto",
         "type": "bar",
         "x": [
          "packaged seafood"
         ],
         "xaxis": "x",
         "y": [
          1301
         ],
         "yaxis": "y"
        },
        {
         "alignmentgroup": "True",
         "hovertemplate": "color=feminine care<br>x=%{x}<br>y=%{y}<extra></extra>",
         "legendgroup": "feminine care",
         "marker": {
          "color": "#00cc96",
          "pattern": {
           "shape": ""
          }
         },
         "name": "feminine care",
         "offsetgroup": "feminine care",
         "orientation": "v",
         "showlegend": true,
         "textposition": "auto",
         "type": "bar",
         "x": [
          "feminine care"
         ],
         "xaxis": "x",
         "y": [
          1296
         ],
         "yaxis": "y"
        },
        {
         "alignmentgroup": "True",
         "hovertemplate": "color=air fresheners candles<br>x=%{x}<br>y=%{y}<extra></extra>",
         "legendgroup": "air fresheners candles",
         "marker": {
          "color": "#ab63fa",
          "pattern": {
           "shape": ""
          }
         },
         "name": "air fresheners candles",
         "offsetgroup": "air fresheners candles",
         "orientation": "v",
         "showlegend": true,
         "textposition": "auto",
         "type": "bar",
         "x": [
          "air fresheners candles"
         ],
         "xaxis": "x",
         "y": [
          1258
         ],
         "yaxis": "y"
        },
        {
         "alignmentgroup": "True",
         "hovertemplate": "color=muscles joints pain relief<br>x=%{x}<br>y=%{y}<extra></extra>",
         "legendgroup": "muscles joints pain relief",
         "marker": {
          "color": "#FFA15A",
          "pattern": {
           "shape": ""
          }
         },
         "name": "muscles joints pain relief",
         "offsetgroup": "muscles joints pain relief",
         "orientation": "v",
         "showlegend": true,
         "textposition": "auto",
         "type": "bar",
         "x": [
          "muscles joints pain relief"
         ],
         "xaxis": "x",
         "y": [
          1256
         ],
         "yaxis": "y"
        },
        {
         "alignmentgroup": "True",
         "hovertemplate": "color=frozen dessert<br>x=%{x}<br>y=%{y}<extra></extra>",
         "legendgroup": "frozen dessert",
         "marker": {
          "color": "#19d3f3",
          "pattern": {
           "shape": ""
          }
         },
         "name": "frozen dessert",
         "offsetgroup": "frozen dessert",
         "orientation": "v",
         "showlegend": true,
         "textposition": "auto",
         "type": "bar",
         "x": [
          "frozen dessert"
         ],
         "xaxis": "x",
         "y": [
          1190
         ],
         "yaxis": "y"
        },
        {
         "alignmentgroup": "True",
         "hovertemplate": "color=more household<br>x=%{x}<br>y=%{y}<extra></extra>",
         "legendgroup": "more household",
         "marker": {
          "color": "#FF6692",
          "pattern": {
           "shape": ""
          }
         },
         "name": "more household",
         "offsetgroup": "more household",
         "orientation": "v",
         "showlegend": true,
         "textposition": "auto",
         "type": "bar",
         "x": [
          "more household"
         ],
         "xaxis": "x",
         "y": [
          1170
         ],
         "yaxis": "y"
        },
        {
         "alignmentgroup": "True",
         "hovertemplate": "color=bulk grains rice dried goods<br>x=%{x}<br>y=%{y}<extra></extra>",
         "legendgroup": "bulk grains rice dried goods",
         "marker": {
          "color": "#B6E880",
          "pattern": {
           "shape": ""
          }
         },
         "name": "bulk grains rice dried goods",
         "offsetgroup": "bulk grains rice dried goods",
         "orientation": "v",
         "showlegend": true,
         "textposition": "auto",
         "type": "bar",
         "x": [
          "bulk grains rice dried goods"
         ],
         "xaxis": "x",
         "y": [
          1074
         ],
         "yaxis": "y"
        },
        {
         "alignmentgroup": "True",
         "hovertemplate": "color=bulk dried fruits vegetables<br>x=%{x}<br>y=%{y}<extra></extra>",
         "legendgroup": "bulk dried fruits vegetables",
         "marker": {
          "color": "#FF97FF",
          "pattern": {
           "shape": ""
          }
         },
         "name": "bulk dried fruits vegetables",
         "offsetgroup": "bulk dried fruits vegetables",
         "orientation": "v",
         "showlegend": true,
         "textposition": "auto",
         "type": "bar",
         "x": [
          "bulk dried fruits vegetables"
         ],
         "xaxis": "x",
         "y": [
          1059
         ],
         "yaxis": "y"
        },
        {
         "alignmentgroup": "True",
         "hovertemplate": "color=indian foods<br>x=%{x}<br>y=%{y}<extra></extra>",
         "legendgroup": "indian foods",
         "marker": {
          "color": "#FECB52",
          "pattern": {
           "shape": ""
          }
         },
         "name": "indian foods",
         "offsetgroup": "indian foods",
         "orientation": "v",
         "showlegend": true,
         "textposition": "auto",
         "type": "bar",
         "x": [
          "indian foods"
         ],
         "xaxis": "x",
         "y": [
          963
         ],
         "yaxis": "y"
        },
        {
         "alignmentgroup": "True",
         "hovertemplate": "color=deodorants<br>x=%{x}<br>y=%{y}<extra></extra>",
         "legendgroup": "deodorants",
         "marker": {
          "color": "#636efa",
          "pattern": {
           "shape": ""
          }
         },
         "name": "deodorants",
         "offsetgroup": "deodorants",
         "orientation": "v",
         "showlegend": true,
         "textposition": "auto",
         "type": "bar",
         "x": [
          "deodorants"
         ],
         "xaxis": "x",
         "y": [
          924
         ],
         "yaxis": "y"
        },
        {
         "alignmentgroup": "True",
         "hovertemplate": "color=facial care<br>x=%{x}<br>y=%{y}<extra></extra>",
         "legendgroup": "facial care",
         "marker": {
          "color": "#EF553B",
          "pattern": {
           "shape": ""
          }
         },
         "name": "facial care",
         "offsetgroup": "facial care",
         "orientation": "v",
         "showlegend": true,
         "textposition": "auto",
         "type": "bar",
         "x": [
          "facial care"
         ],
         "xaxis": "x",
         "y": [
          843
         ],
         "yaxis": "y"
        },
        {
         "alignmentgroup": "True",
         "hovertemplate": "color=ice cream toppings<br>x=%{x}<br>y=%{y}<extra></extra>",
         "legendgroup": "ice cream toppings",
         "marker": {
          "color": "#00cc96",
          "pattern": {
           "shape": ""
          }
         },
         "name": "ice cream toppings",
         "offsetgroup": "ice cream toppings",
         "orientation": "v",
         "showlegend": true,
         "textposition": "auto",
         "type": "bar",
         "x": [
          "ice cream toppings"
         ],
         "xaxis": "x",
         "y": [
          706
         ],
         "yaxis": "y"
        },
        {
         "alignmentgroup": "True",
         "hovertemplate": "color=kosher foods<br>x=%{x}<br>y=%{y}<extra></extra>",
         "legendgroup": "kosher foods",
         "marker": {
          "color": "#ab63fa",
          "pattern": {
           "shape": ""
          }
         },
         "name": "kosher foods",
         "offsetgroup": "kosher foods",
         "orientation": "v",
         "showlegend": true,
         "textposition": "auto",
         "type": "bar",
         "x": [
          "kosher foods"
         ],
         "xaxis": "x",
         "y": [
          697
         ],
         "yaxis": "y"
        },
        {
         "alignmentgroup": "True",
         "hovertemplate": "color=first aid<br>x=%{x}<br>y=%{y}<extra></extra>",
         "legendgroup": "first aid",
         "marker": {
          "color": "#FFA15A",
          "pattern": {
           "shape": ""
          }
         },
         "name": "first aid",
         "offsetgroup": "first aid",
         "orientation": "v",
         "showlegend": true,
         "textposition": "auto",
         "type": "bar",
         "x": [
          "first aid"
         ],
         "xaxis": "x",
         "y": [
          693
         ],
         "yaxis": "y"
        },
        {
         "alignmentgroup": "True",
         "hovertemplate": "color=skin care<br>x=%{x}<br>y=%{y}<extra></extra>",
         "legendgroup": "skin care",
         "marker": {
          "color": "#19d3f3",
          "pattern": {
           "shape": ""
          }
         },
         "name": "skin care",
         "offsetgroup": "skin care",
         "orientation": "v",
         "showlegend": true,
         "textposition": "auto",
         "type": "bar",
         "x": [
          "skin care"
         ],
         "xaxis": "x",
         "y": [
          654
         ],
         "yaxis": "y"
        },
        {
         "alignmentgroup": "True",
         "hovertemplate": "color=shave needs<br>x=%{x}<br>y=%{y}<extra></extra>",
         "legendgroup": "shave needs",
         "marker": {
          "color": "#FF6692",
          "pattern": {
           "shape": ""
          }
         },
         "name": "shave needs",
         "offsetgroup": "shave needs",
         "orientation": "v",
         "showlegend": true,
         "textposition": "auto",
         "type": "bar",
         "x": [
          "shave needs"
         ],
         "xaxis": "x",
         "y": [
          646
         ],
         "yaxis": "y"
        },
        {
         "alignmentgroup": "True",
         "hovertemplate": "color=specialty wines champagnes<br>x=%{x}<br>y=%{y}<extra></extra>",
         "legendgroup": "specialty wines champagnes",
         "marker": {
          "color": "#B6E880",
          "pattern": {
           "shape": ""
          }
         },
         "name": "specialty wines champagnes",
         "offsetgroup": "specialty wines champagnes",
         "orientation": "v",
         "showlegend": true,
         "textposition": "auto",
         "type": "bar",
         "x": [
          "specialty wines champagnes"
         ],
         "xaxis": "x",
         "y": [
          614
         ],
         "yaxis": "y"
        },
        {
         "alignmentgroup": "True",
         "hovertemplate": "color=eye ear care<br>x=%{x}<br>y=%{y}<extra></extra>",
         "legendgroup": "eye ear care",
         "marker": {
          "color": "#FF97FF",
          "pattern": {
           "shape": ""
          }
         },
         "name": "eye ear care",
         "offsetgroup": "eye ear care",
         "orientation": "v",
         "showlegend": true,
         "textposition": "auto",
         "type": "bar",
         "x": [
          "eye ear care"
         ],
         "xaxis": "x",
         "y": [
          598
         ],
         "yaxis": "y"
        },
        {
         "alignmentgroup": "True",
         "hovertemplate": "color=kitchen supplies<br>x=%{x}<br>y=%{y}<extra></extra>",
         "legendgroup": "kitchen supplies",
         "marker": {
          "color": "#FECB52",
          "pattern": {
           "shape": ""
          }
         },
         "name": "kitchen supplies",
         "offsetgroup": "kitchen supplies",
         "orientation": "v",
         "showlegend": true,
         "textposition": "auto",
         "type": "bar",
         "x": [
          "kitchen supplies"
         ],
         "xaxis": "x",
         "y": [
          561
         ],
         "yaxis": "y"
        },
        {
         "alignmentgroup": "True",
         "hovertemplate": "color=baby bath body care<br>x=%{x}<br>y=%{y}<extra></extra>",
         "legendgroup": "baby bath body care",
         "marker": {
          "color": "#636efa",
          "pattern": {
           "shape": ""
          }
         },
         "name": "baby bath body care",
         "offsetgroup": "baby bath body care",
         "orientation": "v",
         "showlegend": true,
         "textposition": "auto",
         "type": "bar",
         "x": [
          "baby bath body care"
         ],
         "xaxis": "x",
         "y": [
          515
         ],
         "yaxis": "y"
        },
        {
         "alignmentgroup": "True",
         "hovertemplate": "color=baby accessories<br>x=%{x}<br>y=%{y}<extra></extra>",
         "legendgroup": "baby accessories",
         "marker": {
          "color": "#EF553B",
          "pattern": {
           "shape": ""
          }
         },
         "name": "baby accessories",
         "offsetgroup": "baby accessories",
         "orientation": "v",
         "showlegend": true,
         "textposition": "auto",
         "type": "bar",
         "x": [
          "baby accessories"
         ],
         "xaxis": "x",
         "y": [
          504
         ],
         "yaxis": "y"
        },
        {
         "alignmentgroup": "True",
         "hovertemplate": "color=beauty<br>x=%{x}<br>y=%{y}<extra></extra>",
         "legendgroup": "beauty",
         "marker": {
          "color": "#00cc96",
          "pattern": {
           "shape": ""
          }
         },
         "name": "beauty",
         "offsetgroup": "beauty",
         "orientation": "v",
         "showlegend": true,
         "textposition": "auto",
         "type": "bar",
         "x": [
          "beauty"
         ],
         "xaxis": "x",
         "y": [
          387
         ],
         "yaxis": "y"
        },
        {
         "alignmentgroup": "True",
         "hovertemplate": "color=frozen juice<br>x=%{x}<br>y=%{y}<extra></extra>",
         "legendgroup": "frozen juice",
         "marker": {
          "color": "#ab63fa",
          "pattern": {
           "shape": ""
          }
         },
         "name": "frozen juice",
         "offsetgroup": "frozen juice",
         "orientation": "v",
         "showlegend": true,
         "textposition": "auto",
         "type": "bar",
         "x": [
          "frozen juice"
         ],
         "xaxis": "x",
         "y": [
          279
         ],
         "yaxis": "y"
        }
       ],
       "layout": {
        "barmode": "relative",
        "font": {
         "color": "blue",
         "family": "Courier New"
        },
        "legend": {
         "title": {
          "font": {
           "color": "green"
          },
          "text": "product_name"
         },
         "tracegroupgap": 0
        },
        "margin": {
         "t": 60
        },
        "template": {
         "data": {
          "bar": [
           {
            "error_x": {
             "color": "#2a3f5f"
            },
            "error_y": {
             "color": "#2a3f5f"
            },
            "marker": {
             "line": {
              "color": "#E5ECF6",
              "width": 0.5
             },
             "pattern": {
              "fillmode": "overlay",
              "size": 10,
              "solidity": 0.2
             }
            },
            "type": "bar"
           }
          ],
          "barpolar": [
           {
            "marker": {
             "line": {
              "color": "#E5ECF6",
              "width": 0.5
             },
             "pattern": {
              "fillmode": "overlay",
              "size": 10,
              "solidity": 0.2
             }
            },
            "type": "barpolar"
           }
          ],
          "carpet": [
           {
            "aaxis": {
             "endlinecolor": "#2a3f5f",
             "gridcolor": "white",
             "linecolor": "white",
             "minorgridcolor": "white",
             "startlinecolor": "#2a3f5f"
            },
            "baxis": {
             "endlinecolor": "#2a3f5f",
             "gridcolor": "white",
             "linecolor": "white",
             "minorgridcolor": "white",
             "startlinecolor": "#2a3f5f"
            },
            "type": "carpet"
           }
          ],
          "choropleth": [
           {
            "colorbar": {
             "outlinewidth": 0,
             "ticks": ""
            },
            "type": "choropleth"
           }
          ],
          "contour": [
           {
            "colorbar": {
             "outlinewidth": 0,
             "ticks": ""
            },
            "colorscale": [
             [
              0,
              "#0d0887"
             ],
             [
              0.1111111111111111,
              "#46039f"
             ],
             [
              0.2222222222222222,
              "#7201a8"
             ],
             [
              0.3333333333333333,
              "#9c179e"
             ],
             [
              0.4444444444444444,
              "#bd3786"
             ],
             [
              0.5555555555555556,
              "#d8576b"
             ],
             [
              0.6666666666666666,
              "#ed7953"
             ],
             [
              0.7777777777777778,
              "#fb9f3a"
             ],
             [
              0.8888888888888888,
              "#fdca26"
             ],
             [
              1,
              "#f0f921"
             ]
            ],
            "type": "contour"
           }
          ],
          "contourcarpet": [
           {
            "colorbar": {
             "outlinewidth": 0,
             "ticks": ""
            },
            "type": "contourcarpet"
           }
          ],
          "heatmap": [
           {
            "colorbar": {
             "outlinewidth": 0,
             "ticks": ""
            },
            "colorscale": [
             [
              0,
              "#0d0887"
             ],
             [
              0.1111111111111111,
              "#46039f"
             ],
             [
              0.2222222222222222,
              "#7201a8"
             ],
             [
              0.3333333333333333,
              "#9c179e"
             ],
             [
              0.4444444444444444,
              "#bd3786"
             ],
             [
              0.5555555555555556,
              "#d8576b"
             ],
             [
              0.6666666666666666,
              "#ed7953"
             ],
             [
              0.7777777777777778,
              "#fb9f3a"
             ],
             [
              0.8888888888888888,
              "#fdca26"
             ],
             [
              1,
              "#f0f921"
             ]
            ],
            "type": "heatmap"
           }
          ],
          "heatmapgl": [
           {
            "colorbar": {
             "outlinewidth": 0,
             "ticks": ""
            },
            "colorscale": [
             [
              0,
              "#0d0887"
             ],
             [
              0.1111111111111111,
              "#46039f"
             ],
             [
              0.2222222222222222,
              "#7201a8"
             ],
             [
              0.3333333333333333,
              "#9c179e"
             ],
             [
              0.4444444444444444,
              "#bd3786"
             ],
             [
              0.5555555555555556,
              "#d8576b"
             ],
             [
              0.6666666666666666,
              "#ed7953"
             ],
             [
              0.7777777777777778,
              "#fb9f3a"
             ],
             [
              0.8888888888888888,
              "#fdca26"
             ],
             [
              1,
              "#f0f921"
             ]
            ],
            "type": "heatmapgl"
           }
          ],
          "histogram": [
           {
            "marker": {
             "pattern": {
              "fillmode": "overlay",
              "size": 10,
              "solidity": 0.2
             }
            },
            "type": "histogram"
           }
          ],
          "histogram2d": [
           {
            "colorbar": {
             "outlinewidth": 0,
             "ticks": ""
            },
            "colorscale": [
             [
              0,
              "#0d0887"
             ],
             [
              0.1111111111111111,
              "#46039f"
             ],
             [
              0.2222222222222222,
              "#7201a8"
             ],
             [
              0.3333333333333333,
              "#9c179e"
             ],
             [
              0.4444444444444444,
              "#bd3786"
             ],
             [
              0.5555555555555556,
              "#d8576b"
             ],
             [
              0.6666666666666666,
              "#ed7953"
             ],
             [
              0.7777777777777778,
              "#fb9f3a"
             ],
             [
              0.8888888888888888,
              "#fdca26"
             ],
             [
              1,
              "#f0f921"
             ]
            ],
            "type": "histogram2d"
           }
          ],
          "histogram2dcontour": [
           {
            "colorbar": {
             "outlinewidth": 0,
             "ticks": ""
            },
            "colorscale": [
             [
              0,
              "#0d0887"
             ],
             [
              0.1111111111111111,
              "#46039f"
             ],
             [
              0.2222222222222222,
              "#7201a8"
             ],
             [
              0.3333333333333333,
              "#9c179e"
             ],
             [
              0.4444444444444444,
              "#bd3786"
             ],
             [
              0.5555555555555556,
              "#d8576b"
             ],
             [
              0.6666666666666666,
              "#ed7953"
             ],
             [
              0.7777777777777778,
              "#fb9f3a"
             ],
             [
              0.8888888888888888,
              "#fdca26"
             ],
             [
              1,
              "#f0f921"
             ]
            ],
            "type": "histogram2dcontour"
           }
          ],
          "mesh3d": [
           {
            "colorbar": {
             "outlinewidth": 0,
             "ticks": ""
            },
            "type": "mesh3d"
           }
          ],
          "parcoords": [
           {
            "line": {
             "colorbar": {
              "outlinewidth": 0,
              "ticks": ""
             }
            },
            "type": "parcoords"
           }
          ],
          "pie": [
           {
            "automargin": true,
            "type": "pie"
           }
          ],
          "scatter": [
           {
            "fillpattern": {
             "fillmode": "overlay",
             "size": 10,
             "solidity": 0.2
            },
            "type": "scatter"
           }
          ],
          "scatter3d": [
           {
            "line": {
             "colorbar": {
              "outlinewidth": 0,
              "ticks": ""
             }
            },
            "marker": {
             "colorbar": {
              "outlinewidth": 0,
              "ticks": ""
             }
            },
            "type": "scatter3d"
           }
          ],
          "scattercarpet": [
           {
            "marker": {
             "colorbar": {
              "outlinewidth": 0,
              "ticks": ""
             }
            },
            "type": "scattercarpet"
           }
          ],
          "scattergeo": [
           {
            "marker": {
             "colorbar": {
              "outlinewidth": 0,
              "ticks": ""
             }
            },
            "type": "scattergeo"
           }
          ],
          "scattergl": [
           {
            "marker": {
             "colorbar": {
              "outlinewidth": 0,
              "ticks": ""
             }
            },
            "type": "scattergl"
           }
          ],
          "scattermapbox": [
           {
            "marker": {
             "colorbar": {
              "outlinewidth": 0,
              "ticks": ""
             }
            },
            "type": "scattermapbox"
           }
          ],
          "scatterpolar": [
           {
            "marker": {
             "colorbar": {
              "outlinewidth": 0,
              "ticks": ""
             }
            },
            "type": "scatterpolar"
           }
          ],
          "scatterpolargl": [
           {
            "marker": {
             "colorbar": {
              "outlinewidth": 0,
              "ticks": ""
             }
            },
            "type": "scatterpolargl"
           }
          ],
          "scatterternary": [
           {
            "marker": {
             "colorbar": {
              "outlinewidth": 0,
              "ticks": ""
             }
            },
            "type": "scatterternary"
           }
          ],
          "surface": [
           {
            "colorbar": {
             "outlinewidth": 0,
             "ticks": ""
            },
            "colorscale": [
             [
              0,
              "#0d0887"
             ],
             [
              0.1111111111111111,
              "#46039f"
             ],
             [
              0.2222222222222222,
              "#7201a8"
             ],
             [
              0.3333333333333333,
              "#9c179e"
             ],
             [
              0.4444444444444444,
              "#bd3786"
             ],
             [
              0.5555555555555556,
              "#d8576b"
             ],
             [
              0.6666666666666666,
              "#ed7953"
             ],
             [
              0.7777777777777778,
              "#fb9f3a"
             ],
             [
              0.8888888888888888,
              "#fdca26"
             ],
             [
              1,
              "#f0f921"
             ]
            ],
            "type": "surface"
           }
          ],
          "table": [
           {
            "cells": {
             "fill": {
              "color": "#EBF0F8"
             },
             "line": {
              "color": "white"
             }
            },
            "header": {
             "fill": {
              "color": "#C8D4E3"
             },
             "line": {
              "color": "white"
             }
            },
            "type": "table"
           }
          ]
         },
         "layout": {
          "annotationdefaults": {
           "arrowcolor": "#2a3f5f",
           "arrowhead": 0,
           "arrowwidth": 1
          },
          "autotypenumbers": "strict",
          "coloraxis": {
           "colorbar": {
            "outlinewidth": 0,
            "ticks": ""
           }
          },
          "colorscale": {
           "diverging": [
            [
             0,
             "#8e0152"
            ],
            [
             0.1,
             "#c51b7d"
            ],
            [
             0.2,
             "#de77ae"
            ],
            [
             0.3,
             "#f1b6da"
            ],
            [
             0.4,
             "#fde0ef"
            ],
            [
             0.5,
             "#f7f7f7"
            ],
            [
             0.6,
             "#e6f5d0"
            ],
            [
             0.7,
             "#b8e186"
            ],
            [
             0.8,
             "#7fbc41"
            ],
            [
             0.9,
             "#4d9221"
            ],
            [
             1,
             "#276419"
            ]
           ],
           "sequential": [
            [
             0,
             "#0d0887"
            ],
            [
             0.1111111111111111,
             "#46039f"
            ],
            [
             0.2222222222222222,
             "#7201a8"
            ],
            [
             0.3333333333333333,
             "#9c179e"
            ],
            [
             0.4444444444444444,
             "#bd3786"
            ],
            [
             0.5555555555555556,
             "#d8576b"
            ],
            [
             0.6666666666666666,
             "#ed7953"
            ],
            [
             0.7777777777777778,
             "#fb9f3a"
            ],
            [
             0.8888888888888888,
             "#fdca26"
            ],
            [
             1,
             "#f0f921"
            ]
           ],
           "sequentialminus": [
            [
             0,
             "#0d0887"
            ],
            [
             0.1111111111111111,
             "#46039f"
            ],
            [
             0.2222222222222222,
             "#7201a8"
            ],
            [
             0.3333333333333333,
             "#9c179e"
            ],
            [
             0.4444444444444444,
             "#bd3786"
            ],
            [
             0.5555555555555556,
             "#d8576b"
            ],
            [
             0.6666666666666666,
             "#ed7953"
            ],
            [
             0.7777777777777778,
             "#fb9f3a"
            ],
            [
             0.8888888888888888,
             "#fdca26"
            ],
            [
             1,
             "#f0f921"
            ]
           ]
          },
          "colorway": [
           "#636efa",
           "#EF553B",
           "#00cc96",
           "#ab63fa",
           "#FFA15A",
           "#19d3f3",
           "#FF6692",
           "#B6E880",
           "#FF97FF",
           "#FECB52"
          ],
          "font": {
           "color": "#2a3f5f"
          },
          "geo": {
           "bgcolor": "white",
           "lakecolor": "white",
           "landcolor": "#E5ECF6",
           "showlakes": true,
           "showland": true,
           "subunitcolor": "white"
          },
          "hoverlabel": {
           "align": "left"
          },
          "hovermode": "closest",
          "mapbox": {
           "style": "light"
          },
          "paper_bgcolor": "white",
          "plot_bgcolor": "#E5ECF6",
          "polar": {
           "angularaxis": {
            "gridcolor": "white",
            "linecolor": "white",
            "ticks": ""
           },
           "bgcolor": "#E5ECF6",
           "radialaxis": {
            "gridcolor": "white",
            "linecolor": "white",
            "ticks": ""
           }
          },
          "scene": {
           "xaxis": {
            "backgroundcolor": "#E5ECF6",
            "gridcolor": "white",
            "gridwidth": 2,
            "linecolor": "white",
            "showbackground": true,
            "ticks": "",
            "zerolinecolor": "white"
           },
           "yaxis": {
            "backgroundcolor": "#E5ECF6",
            "gridcolor": "white",
            "gridwidth": 2,
            "linecolor": "white",
            "showbackground": true,
            "ticks": "",
            "zerolinecolor": "white"
           },
           "zaxis": {
            "backgroundcolor": "#E5ECF6",
            "gridcolor": "white",
            "gridwidth": 2,
            "linecolor": "white",
            "showbackground": true,
            "ticks": "",
            "zerolinecolor": "white"
           }
          },
          "shapedefaults": {
           "line": {
            "color": "#2a3f5f"
           }
          },
          "ternary": {
           "aaxis": {
            "gridcolor": "white",
            "linecolor": "white",
            "ticks": ""
           },
           "baxis": {
            "gridcolor": "white",
            "linecolor": "white",
            "ticks": ""
           },
           "bgcolor": "#E5ECF6",
           "caxis": {
            "gridcolor": "white",
            "linecolor": "white",
            "ticks": ""
           }
          },
          "title": {
           "x": 0.05
          },
          "xaxis": {
           "automargin": true,
           "gridcolor": "white",
           "linecolor": "white",
           "ticks": "",
           "title": {
            "standoff": 15
           },
           "zerolinecolor": "white",
           "zerolinewidth": 2
          },
          "yaxis": {
           "automargin": true,
           "gridcolor": "white",
           "linecolor": "white",
           "ticks": "",
           "title": {
            "standoff": 15
           },
           "zerolinecolor": "white",
           "zerolinewidth": 2
          }
         }
        },
        "title": {
         "font": {
          "color": "red",
          "family": "Times New Roman"
         }
        },
        "xaxis": {
         "anchor": "y",
         "domain": [
          0,
          1
         ],
         "title": {
          "text": "product_name"
         }
        },
        "yaxis": {
         "anchor": "x",
         "domain": [
          0,
          1
         ],
         "title": {
          "text": "Count"
         }
        }
       }
      }
     },
     "metadata": {},
     "output_type": "display_data"
    }
   ],
   "source": [
    "# PRODUCT BAR PLOT \n",
    "bar_plot(df, 'product_name')"
   ]
  },
  {
   "cell_type": "code",
   "execution_count": 32,
   "metadata": {},
   "outputs": [
    {
     "data": {
      "text/plain": [
       "user_id  department\n",
       "2        dairy eggs    packaged cheesepackaged cheese                                \n",
       "         deli          lunch meatprepared soups saladsfresh dips tapenades           \n",
       "         produce       fresh fruitsfresh fruitsfresh fruits                          \n",
       "         snacks        popcorn jerkycrackerschips pretzels                           \n",
       "3        beverages     water seltzer sparkling water                                 \n",
       "                                   ...                                               \n",
       "206209   frozen        frozen produce                                                \n",
       "         household     laundrytrash bags linersfood storagedish detergents           \n",
       "         pantry        spices seasonings                                             \n",
       "         produce       packaged vegetables fruitsfresh fruitsfresh fruitsfresh fruits\n",
       "         snacks        crackerscrackers                                              \n",
       "Name: product_name, Length: 639006, dtype: object"
      ]
     },
     "execution_count": 32,
     "metadata": {},
     "output_type": "execute_result"
    }
   ],
   "source": [
    "new_df = df.groupby(['user_id','department'])['product_name'].apply(sum)\n",
    "new_df"
   ]
  },
  {
   "cell_type": "code",
   "execution_count": 33,
   "metadata": {},
   "outputs": [
    {
     "name": "stdout",
     "output_type": "stream",
     "text": [
      "Transaction 1: ['packaged cheese', 'packaged cheese']\n",
      "Transaction 2: ['lunch meat', 'prepared soups salads', 'fresh dips tapenades']\n",
      "Transaction 3: ['fresh fruits', 'fresh fruits', 'fresh fruits']\n",
      "Transaction 4: ['popcorn jerky', 'crackers', 'chips pretzels']\n",
      "Transaction 5: ['water seltzer sparkling water']\n",
      "Transaction 6: ['other creams cheeses', 'packaged cheese', 'soy lactosefree', 'soy lactosefree', 'soy lactosefree']\n",
      "Transaction 7: ['ice cream ice', 'frozen breakfast']\n",
      "Transaction 8: ['paper goods']\n",
      "Transaction 9: ['spreads']\n",
      "Transaction 10: ['fresh fruits', 'packaged vegetables fruits', 'fresh fruits', 'fresh fruits', 'packaged vegetables fruits', 'packaged vegetables fruits']\n",
      "Transaction 11: ['nuts seeds dried fruit', 'nuts seeds dried fruit', 'crackers']\n",
      "Transaction 12: ['bread']\n",
      "Transaction 13: ['refrigerated', 'coffee', 'refrigerated', 'refrigerated', 'refrigerated', 'coffee', 'refrigerated']\n",
      "Transaction 14: ['canned meals beans', 'canned fruit applesauce']\n",
      "Transaction 15: ['packaged cheese', 'other creams cheeses', 'yogurt', 'soy lactosefree']\n",
      "Transaction 16: ['lunch meat', 'lunch meat', 'lunch meat']\n",
      "Transaction 17: ['frozen meals']\n",
      "Transaction 18: ['meat counter']\n",
      "Transaction 19: ['fresh fruits', 'fresh vegetables']\n",
      "Transaction 20: ['fruit vegetable snacks', 'popcorn jerky', 'crackers']\n"
     ]
    }
   ],
   "source": [
    "transactions = [a[1]['product_name'].tolist() for a in list(df.groupby(['user_id','department']))]\n",
    "# DISPLAYING 20 PAIRS OF TRANSACTION \n",
    "first_20_transactions = transactions[:20]\n",
    "\n",
    "# PRINT HEAD OF 20 Print head of 20 transactions\n",
    "for i, transaction in enumerate(first_20_transactions):\n",
    "    print(f\"Transaction {i+1}: {transaction}\")"
   ]
  },
  {
   "cell_type": "code",
   "execution_count": 34,
   "metadata": {},
   "outputs": [],
   "source": [
    "te = TransactionEncoder()\n",
    "te_ary = te.fit(transactions).transform(transactions)"
   ]
  },
  {
   "cell_type": "code",
   "execution_count": 35,
   "metadata": {},
   "outputs": [
    {
     "name": "stdout",
     "output_type": "stream",
     "text": [
      "                                                    Product\n",
      "0   a i r   f r e s h e n e r s   c a n d l e s            \n",
      "1   a s i a n   f o o d s                                  \n",
      "2   b a b y   a c c e s s o r i e s                        \n",
      "3   b a b y   b a t h   b o d y   c a r e                  \n",
      "4   b a b y   f o o d   f o r m u l a                      \n",
      "5   b a k e r y   d e s s e r t s                          \n",
      "6   b a k i n g   i n g r e d i e n t s                    \n",
      "7   b a k i n g   s u p p l i e s   d e c o r              \n",
      "8   b e a u t y                                            \n",
      "9   b e e r s   c o o l e r s                              \n",
      "10  b o d y   l o t i o n s   s o a p                      \n",
      "11  b r e a d                                              \n",
      "12  b r e a k f a s t   b a k e r y                        \n",
      "13  b r e a k f a s t   b a r s   p a s t r i e s          \n",
      "14  b u l k   d r i e d   f r u i t s   v e g e t a b l e s\n",
      "15  b u l k   g r a i n s   r i c e   d r i e d   g o o d s\n",
      "16  b u n s   r o l l s                                    \n",
      "17  b u t t e r                                            \n",
      "18  c a n d y   c h o c o l a t e                          \n",
      "19  c a n n e d   f r u i t   a p p l e s a u c e          \n"
     ]
    }
   ],
   "source": [
    "# Get the head of 20 columns and create a list of dictionaries\n",
    "head_cols = [{'Product': ' '.join(col)} for col in te.columns_[:20]]\n",
    "\n",
    "# Create a DataFrame from the list of dictionaries\n",
    "df = pd.DataFrame(head_cols)\n",
    "\n",
    "# Display the DataFrame\n",
    "print(df)"
   ]
  },
  {
   "cell_type": "code",
   "execution_count": 36,
   "metadata": {},
   "outputs": [
    {
     "data": {
      "text/plain": [
       "array([[False, False, False, ..., False, False, False],\n",
       "       [False, False, False, ..., False, False, False],\n",
       "       [False, False, False, ..., False, False, False],\n",
       "       ...,\n",
       "       [False, False, False, ..., False, False, False],\n",
       "       [False, False, False, ..., False, False, False],\n",
       "       [False, False, False, ..., False, False, False]])"
      ]
     },
     "execution_count": 36,
     "metadata": {},
     "output_type": "execute_result"
    }
   ],
   "source": [
    "#te.columns_\n",
    "te_ary"
   ]
  },
  {
   "cell_type": "code",
   "execution_count": 37,
   "metadata": {},
   "outputs": [
    {
     "data": {
      "text/html": [
       "<div>\n",
       "<style scoped>\n",
       "    .dataframe tbody tr th:only-of-type {\n",
       "        vertical-align: middle;\n",
       "    }\n",
       "\n",
       "    .dataframe tbody tr th {\n",
       "        vertical-align: top;\n",
       "    }\n",
       "\n",
       "    .dataframe thead th {\n",
       "        text-align: right;\n",
       "    }\n",
       "</style>\n",
       "<table border=\"1\" class=\"dataframe\">\n",
       "  <thead>\n",
       "    <tr style=\"text-align: right;\">\n",
       "      <th></th>\n",
       "      <th>air fresheners candles</th>\n",
       "      <th>asian foods</th>\n",
       "      <th>baby accessories</th>\n",
       "      <th>baby bath body care</th>\n",
       "      <th>baby food formula</th>\n",
       "      <th>bakery desserts</th>\n",
       "      <th>baking ingredients</th>\n",
       "      <th>baking supplies decor</th>\n",
       "      <th>beauty</th>\n",
       "      <th>beers coolers</th>\n",
       "      <th>...</th>\n",
       "      <th>spreads</th>\n",
       "      <th>tea</th>\n",
       "      <th>tofu meat alternatives</th>\n",
       "      <th>tortillas flat bread</th>\n",
       "      <th>trail mix snack mix</th>\n",
       "      <th>trash bags liners</th>\n",
       "      <th>vitamins supplements</th>\n",
       "      <th>water seltzer sparkling water</th>\n",
       "      <th>white wines</th>\n",
       "      <th>yogurt</th>\n",
       "    </tr>\n",
       "  </thead>\n",
       "  <tbody>\n",
       "    <tr>\n",
       "      <th>count</th>\n",
       "      <td>639006</td>\n",
       "      <td>639006</td>\n",
       "      <td>639006</td>\n",
       "      <td>639006</td>\n",
       "      <td>639006</td>\n",
       "      <td>639006</td>\n",
       "      <td>639006</td>\n",
       "      <td>639006</td>\n",
       "      <td>639006</td>\n",
       "      <td>639006</td>\n",
       "      <td>...</td>\n",
       "      <td>639006</td>\n",
       "      <td>639006</td>\n",
       "      <td>639006</td>\n",
       "      <td>639006</td>\n",
       "      <td>639006</td>\n",
       "      <td>639006</td>\n",
       "      <td>639006</td>\n",
       "      <td>639006</td>\n",
       "      <td>639006</td>\n",
       "      <td>639006</td>\n",
       "    </tr>\n",
       "    <tr>\n",
       "      <th>unique</th>\n",
       "      <td>2</td>\n",
       "      <td>2</td>\n",
       "      <td>2</td>\n",
       "      <td>2</td>\n",
       "      <td>2</td>\n",
       "      <td>2</td>\n",
       "      <td>2</td>\n",
       "      <td>2</td>\n",
       "      <td>2</td>\n",
       "      <td>2</td>\n",
       "      <td>...</td>\n",
       "      <td>2</td>\n",
       "      <td>2</td>\n",
       "      <td>2</td>\n",
       "      <td>2</td>\n",
       "      <td>2</td>\n",
       "      <td>2</td>\n",
       "      <td>2</td>\n",
       "      <td>2</td>\n",
       "      <td>2</td>\n",
       "      <td>2</td>\n",
       "    </tr>\n",
       "    <tr>\n",
       "      <th>top</th>\n",
       "      <td>False</td>\n",
       "      <td>False</td>\n",
       "      <td>False</td>\n",
       "      <td>False</td>\n",
       "      <td>False</td>\n",
       "      <td>False</td>\n",
       "      <td>False</td>\n",
       "      <td>False</td>\n",
       "      <td>False</td>\n",
       "      <td>False</td>\n",
       "      <td>...</td>\n",
       "      <td>False</td>\n",
       "      <td>False</td>\n",
       "      <td>False</td>\n",
       "      <td>False</td>\n",
       "      <td>False</td>\n",
       "      <td>False</td>\n",
       "      <td>False</td>\n",
       "      <td>False</td>\n",
       "      <td>False</td>\n",
       "      <td>False</td>\n",
       "    </tr>\n",
       "    <tr>\n",
       "      <th>freq</th>\n",
       "      <td>638062</td>\n",
       "      <td>631396</td>\n",
       "      <td>638572</td>\n",
       "      <td>638554</td>\n",
       "      <td>632592</td>\n",
       "      <td>637201</td>\n",
       "      <td>625861</td>\n",
       "      <td>637761</td>\n",
       "      <td>638660</td>\n",
       "      <td>637531</td>\n",
       "      <td>...</td>\n",
       "      <td>625783</td>\n",
       "      <td>629963</td>\n",
       "      <td>633844</td>\n",
       "      <td>629603</td>\n",
       "      <td>637236</td>\n",
       "      <td>637208</td>\n",
       "      <td>636663</td>\n",
       "      <td>612103</td>\n",
       "      <td>637855</td>\n",
       "      <td>603025</td>\n",
       "    </tr>\n",
       "  </tbody>\n",
       "</table>\n",
       "<p>4 rows × 134 columns</p>\n",
       "</div>"
      ],
      "text/plain": [
       "       air fresheners candles asian foods baby accessories  \\\n",
       "count   639006                 639006      639006            \n",
       "unique  2                      2           2                 \n",
       "top     False                  False       False             \n",
       "freq    638062                 631396      638572            \n",
       "\n",
       "       baby bath body care baby food formula bakery desserts  \\\n",
       "count   639006              639006            639006           \n",
       "unique  2                   2                 2                \n",
       "top     False               False             False            \n",
       "freq    638554              632592            637201           \n",
       "\n",
       "       baking ingredients baking supplies decor  beauty beers coolers  ...  \\\n",
       "count   639006             639006                639006  639006        ...   \n",
       "unique  2                  2                     2       2             ...   \n",
       "top     False              False                 False   False         ...   \n",
       "freq    625861             637761                638660  637531        ...   \n",
       "\n",
       "       spreads     tea tofu meat alternatives tortillas flat bread  \\\n",
       "count   639006  639006  639006                 639006                \n",
       "unique  2       2       2                      2                     \n",
       "top     False   False   False                  False                 \n",
       "freq    625783  629963  633844                 629603                \n",
       "\n",
       "       trail mix snack mix trash bags liners vitamins supplements  \\\n",
       "count   639006              639006            639006                \n",
       "unique  2                   2                 2                     \n",
       "top     False               False             False                 \n",
       "freq    637236              637208            636663                \n",
       "\n",
       "       water seltzer sparkling water white wines  yogurt  \n",
       "count   639006                        639006      639006  \n",
       "unique  2                             2           2       \n",
       "top     False                         False       False   \n",
       "freq    612103                        637855      603025  \n",
       "\n",
       "[4 rows x 134 columns]"
      ]
     },
     "execution_count": 37,
     "metadata": {},
     "output_type": "execute_result"
    }
   ],
   "source": [
    "transactions = pd.DataFrame(te_ary, columns=te.columns_)\n",
    "pf = transactions.describe()\n",
    "pf"
   ]
  },
  {
   "cell_type": "code",
   "execution_count": 38,
   "metadata": {},
   "outputs": [
    {
     "data": {
      "text/html": [
       "<div>\n",
       "<style scoped>\n",
       "    .dataframe tbody tr th:only-of-type {\n",
       "        vertical-align: middle;\n",
       "    }\n",
       "\n",
       "    .dataframe tbody tr th {\n",
       "        vertical-align: top;\n",
       "    }\n",
       "\n",
       "    .dataframe thead th {\n",
       "        text-align: right;\n",
       "    }\n",
       "</style>\n",
       "<table border=\"1\" class=\"dataframe\">\n",
       "  <thead>\n",
       "    <tr style=\"text-align: right;\">\n",
       "      <th></th>\n",
       "      <th>air fresheners candles</th>\n",
       "      <th>asian foods</th>\n",
       "      <th>baby accessories</th>\n",
       "      <th>baby bath body care</th>\n",
       "      <th>baby food formula</th>\n",
       "      <th>bakery desserts</th>\n",
       "      <th>baking ingredients</th>\n",
       "      <th>baking supplies decor</th>\n",
       "      <th>beauty</th>\n",
       "      <th>beers coolers</th>\n",
       "      <th>...</th>\n",
       "      <th>spreads</th>\n",
       "      <th>tea</th>\n",
       "      <th>tofu meat alternatives</th>\n",
       "      <th>tortillas flat bread</th>\n",
       "      <th>trail mix snack mix</th>\n",
       "      <th>trash bags liners</th>\n",
       "      <th>vitamins supplements</th>\n",
       "      <th>water seltzer sparkling water</th>\n",
       "      <th>white wines</th>\n",
       "      <th>yogurt</th>\n",
       "    </tr>\n",
       "  </thead>\n",
       "  <tbody>\n",
       "    <tr>\n",
       "      <th>0</th>\n",
       "      <td>False</td>\n",
       "      <td>False</td>\n",
       "      <td>False</td>\n",
       "      <td>False</td>\n",
       "      <td>False</td>\n",
       "      <td>False</td>\n",
       "      <td>False</td>\n",
       "      <td>False</td>\n",
       "      <td>False</td>\n",
       "      <td>False</td>\n",
       "      <td>...</td>\n",
       "      <td>False</td>\n",
       "      <td>False</td>\n",
       "      <td>False</td>\n",
       "      <td>False</td>\n",
       "      <td>False</td>\n",
       "      <td>False</td>\n",
       "      <td>False</td>\n",
       "      <td>False</td>\n",
       "      <td>False</td>\n",
       "      <td>False</td>\n",
       "    </tr>\n",
       "    <tr>\n",
       "      <th>1</th>\n",
       "      <td>False</td>\n",
       "      <td>False</td>\n",
       "      <td>False</td>\n",
       "      <td>False</td>\n",
       "      <td>False</td>\n",
       "      <td>False</td>\n",
       "      <td>False</td>\n",
       "      <td>False</td>\n",
       "      <td>False</td>\n",
       "      <td>False</td>\n",
       "      <td>...</td>\n",
       "      <td>False</td>\n",
       "      <td>False</td>\n",
       "      <td>False</td>\n",
       "      <td>False</td>\n",
       "      <td>False</td>\n",
       "      <td>False</td>\n",
       "      <td>False</td>\n",
       "      <td>False</td>\n",
       "      <td>False</td>\n",
       "      <td>False</td>\n",
       "    </tr>\n",
       "    <tr>\n",
       "      <th>2</th>\n",
       "      <td>False</td>\n",
       "      <td>False</td>\n",
       "      <td>False</td>\n",
       "      <td>False</td>\n",
       "      <td>False</td>\n",
       "      <td>False</td>\n",
       "      <td>False</td>\n",
       "      <td>False</td>\n",
       "      <td>False</td>\n",
       "      <td>False</td>\n",
       "      <td>...</td>\n",
       "      <td>False</td>\n",
       "      <td>False</td>\n",
       "      <td>False</td>\n",
       "      <td>False</td>\n",
       "      <td>False</td>\n",
       "      <td>False</td>\n",
       "      <td>False</td>\n",
       "      <td>False</td>\n",
       "      <td>False</td>\n",
       "      <td>False</td>\n",
       "    </tr>\n",
       "    <tr>\n",
       "      <th>3</th>\n",
       "      <td>False</td>\n",
       "      <td>False</td>\n",
       "      <td>False</td>\n",
       "      <td>False</td>\n",
       "      <td>False</td>\n",
       "      <td>False</td>\n",
       "      <td>False</td>\n",
       "      <td>False</td>\n",
       "      <td>False</td>\n",
       "      <td>False</td>\n",
       "      <td>...</td>\n",
       "      <td>False</td>\n",
       "      <td>False</td>\n",
       "      <td>False</td>\n",
       "      <td>False</td>\n",
       "      <td>False</td>\n",
       "      <td>False</td>\n",
       "      <td>False</td>\n",
       "      <td>False</td>\n",
       "      <td>False</td>\n",
       "      <td>False</td>\n",
       "    </tr>\n",
       "    <tr>\n",
       "      <th>4</th>\n",
       "      <td>False</td>\n",
       "      <td>False</td>\n",
       "      <td>False</td>\n",
       "      <td>False</td>\n",
       "      <td>False</td>\n",
       "      <td>False</td>\n",
       "      <td>False</td>\n",
       "      <td>False</td>\n",
       "      <td>False</td>\n",
       "      <td>False</td>\n",
       "      <td>...</td>\n",
       "      <td>False</td>\n",
       "      <td>False</td>\n",
       "      <td>False</td>\n",
       "      <td>False</td>\n",
       "      <td>False</td>\n",
       "      <td>False</td>\n",
       "      <td>False</td>\n",
       "      <td>True</td>\n",
       "      <td>False</td>\n",
       "      <td>False</td>\n",
       "    </tr>\n",
       "    <tr>\n",
       "      <th>...</th>\n",
       "      <td>...</td>\n",
       "      <td>...</td>\n",
       "      <td>...</td>\n",
       "      <td>...</td>\n",
       "      <td>...</td>\n",
       "      <td>...</td>\n",
       "      <td>...</td>\n",
       "      <td>...</td>\n",
       "      <td>...</td>\n",
       "      <td>...</td>\n",
       "      <td>...</td>\n",
       "      <td>...</td>\n",
       "      <td>...</td>\n",
       "      <td>...</td>\n",
       "      <td>...</td>\n",
       "      <td>...</td>\n",
       "      <td>...</td>\n",
       "      <td>...</td>\n",
       "      <td>...</td>\n",
       "      <td>...</td>\n",
       "      <td>...</td>\n",
       "    </tr>\n",
       "    <tr>\n",
       "      <th>639001</th>\n",
       "      <td>False</td>\n",
       "      <td>False</td>\n",
       "      <td>False</td>\n",
       "      <td>False</td>\n",
       "      <td>False</td>\n",
       "      <td>False</td>\n",
       "      <td>False</td>\n",
       "      <td>False</td>\n",
       "      <td>False</td>\n",
       "      <td>False</td>\n",
       "      <td>...</td>\n",
       "      <td>False</td>\n",
       "      <td>False</td>\n",
       "      <td>False</td>\n",
       "      <td>False</td>\n",
       "      <td>False</td>\n",
       "      <td>False</td>\n",
       "      <td>False</td>\n",
       "      <td>False</td>\n",
       "      <td>False</td>\n",
       "      <td>False</td>\n",
       "    </tr>\n",
       "    <tr>\n",
       "      <th>639002</th>\n",
       "      <td>False</td>\n",
       "      <td>False</td>\n",
       "      <td>False</td>\n",
       "      <td>False</td>\n",
       "      <td>False</td>\n",
       "      <td>False</td>\n",
       "      <td>False</td>\n",
       "      <td>False</td>\n",
       "      <td>False</td>\n",
       "      <td>False</td>\n",
       "      <td>...</td>\n",
       "      <td>False</td>\n",
       "      <td>False</td>\n",
       "      <td>False</td>\n",
       "      <td>False</td>\n",
       "      <td>False</td>\n",
       "      <td>True</td>\n",
       "      <td>False</td>\n",
       "      <td>False</td>\n",
       "      <td>False</td>\n",
       "      <td>False</td>\n",
       "    </tr>\n",
       "    <tr>\n",
       "      <th>639003</th>\n",
       "      <td>False</td>\n",
       "      <td>False</td>\n",
       "      <td>False</td>\n",
       "      <td>False</td>\n",
       "      <td>False</td>\n",
       "      <td>False</td>\n",
       "      <td>False</td>\n",
       "      <td>False</td>\n",
       "      <td>False</td>\n",
       "      <td>False</td>\n",
       "      <td>...</td>\n",
       "      <td>False</td>\n",
       "      <td>False</td>\n",
       "      <td>False</td>\n",
       "      <td>False</td>\n",
       "      <td>False</td>\n",
       "      <td>False</td>\n",
       "      <td>False</td>\n",
       "      <td>False</td>\n",
       "      <td>False</td>\n",
       "      <td>False</td>\n",
       "    </tr>\n",
       "    <tr>\n",
       "      <th>639004</th>\n",
       "      <td>False</td>\n",
       "      <td>False</td>\n",
       "      <td>False</td>\n",
       "      <td>False</td>\n",
       "      <td>False</td>\n",
       "      <td>False</td>\n",
       "      <td>False</td>\n",
       "      <td>False</td>\n",
       "      <td>False</td>\n",
       "      <td>False</td>\n",
       "      <td>...</td>\n",
       "      <td>False</td>\n",
       "      <td>False</td>\n",
       "      <td>False</td>\n",
       "      <td>False</td>\n",
       "      <td>False</td>\n",
       "      <td>False</td>\n",
       "      <td>False</td>\n",
       "      <td>False</td>\n",
       "      <td>False</td>\n",
       "      <td>False</td>\n",
       "    </tr>\n",
       "    <tr>\n",
       "      <th>639005</th>\n",
       "      <td>False</td>\n",
       "      <td>False</td>\n",
       "      <td>False</td>\n",
       "      <td>False</td>\n",
       "      <td>False</td>\n",
       "      <td>False</td>\n",
       "      <td>False</td>\n",
       "      <td>False</td>\n",
       "      <td>False</td>\n",
       "      <td>False</td>\n",
       "      <td>...</td>\n",
       "      <td>False</td>\n",
       "      <td>False</td>\n",
       "      <td>False</td>\n",
       "      <td>False</td>\n",
       "      <td>False</td>\n",
       "      <td>False</td>\n",
       "      <td>False</td>\n",
       "      <td>False</td>\n",
       "      <td>False</td>\n",
       "      <td>False</td>\n",
       "    </tr>\n",
       "  </tbody>\n",
       "</table>\n",
       "<p>639006 rows × 134 columns</p>\n",
       "</div>"
      ],
      "text/plain": [
       "        air fresheners candles  asian foods  baby accessories  \\\n",
       "0       False                   False        False              \n",
       "1       False                   False        False              \n",
       "2       False                   False        False              \n",
       "3       False                   False        False              \n",
       "4       False                   False        False              \n",
       "...       ...                     ...          ...              \n",
       "639001  False                   False        False              \n",
       "639002  False                   False        False              \n",
       "639003  False                   False        False              \n",
       "639004  False                   False        False              \n",
       "639005  False                   False        False              \n",
       "\n",
       "        baby bath body care  baby food formula  bakery desserts  \\\n",
       "0       False                False              False             \n",
       "1       False                False              False             \n",
       "2       False                False              False             \n",
       "3       False                False              False             \n",
       "4       False                False              False             \n",
       "...       ...                  ...                ...             \n",
       "639001  False                False              False             \n",
       "639002  False                False              False             \n",
       "639003  False                False              False             \n",
       "639004  False                False              False             \n",
       "639005  False                False              False             \n",
       "\n",
       "        baking ingredients  baking supplies decor  beauty  beers coolers  ...  \\\n",
       "0       False               False                  False   False          ...   \n",
       "1       False               False                  False   False          ...   \n",
       "2       False               False                  False   False          ...   \n",
       "3       False               False                  False   False          ...   \n",
       "4       False               False                  False   False          ...   \n",
       "...       ...                 ...                    ...     ...          ...   \n",
       "639001  False               False                  False   False          ...   \n",
       "639002  False               False                  False   False          ...   \n",
       "639003  False               False                  False   False          ...   \n",
       "639004  False               False                  False   False          ...   \n",
       "639005  False               False                  False   False          ...   \n",
       "\n",
       "        spreads    tea  tofu meat alternatives  tortillas flat bread  \\\n",
       "0       False    False  False                   False                  \n",
       "1       False    False  False                   False                  \n",
       "2       False    False  False                   False                  \n",
       "3       False    False  False                   False                  \n",
       "4       False    False  False                   False                  \n",
       "...       ...      ...    ...                     ...                  \n",
       "639001  False    False  False                   False                  \n",
       "639002  False    False  False                   False                  \n",
       "639003  False    False  False                   False                  \n",
       "639004  False    False  False                   False                  \n",
       "639005  False    False  False                   False                  \n",
       "\n",
       "        trail mix snack mix  trash bags liners  vitamins supplements  \\\n",
       "0       False                False              False                  \n",
       "1       False                False              False                  \n",
       "2       False                False              False                  \n",
       "3       False                False              False                  \n",
       "4       False                False              False                  \n",
       "...       ...                  ...                ...                  \n",
       "639001  False                False              False                  \n",
       "639002  False                True               False                  \n",
       "639003  False                False              False                  \n",
       "639004  False                False              False                  \n",
       "639005  False                False              False                  \n",
       "\n",
       "        water seltzer sparkling water  white wines  yogurt  \n",
       "0       False                          False        False   \n",
       "1       False                          False        False   \n",
       "2       False                          False        False   \n",
       "3       False                          False        False   \n",
       "4       True                           False        False   \n",
       "...      ...                             ...          ...   \n",
       "639001  False                          False        False   \n",
       "639002  False                          False        False   \n",
       "639003  False                          False        False   \n",
       "639004  False                          False        False   \n",
       "639005  False                          False        False   \n",
       "\n",
       "[639006 rows x 134 columns]"
      ]
     },
     "execution_count": 38,
     "metadata": {},
     "output_type": "execute_result"
    }
   ],
   "source": [
    "f = pf.iloc[0]-pf.iloc[3]\n",
    "a = f.tolist()\n",
    "b = list(f.index)\n",
    "item = pd.DataFrame([[a[r],b[r]]for r in range(len(a))], columns=['Count','Item'])\n",
    "item = item.sort_values(['Count'], ascending=False).head(50)\n",
    "transactions"
   ]
  },
  {
   "cell_type": "code",
   "execution_count": 39,
   "metadata": {},
   "outputs": [
    {
     "data": {
      "text/html": [
       "<div>\n",
       "<style scoped>\n",
       "    .dataframe tbody tr th:only-of-type {\n",
       "        vertical-align: middle;\n",
       "    }\n",
       "\n",
       "    .dataframe tbody tr th {\n",
       "        vertical-align: top;\n",
       "    }\n",
       "\n",
       "    .dataframe thead th {\n",
       "        text-align: right;\n",
       "    }\n",
       "</style>\n",
       "<table border=\"1\" class=\"dataframe\">\n",
       "  <thead>\n",
       "    <tr style=\"text-align: right;\">\n",
       "      <th></th>\n",
       "      <th>Count</th>\n",
       "      <th>Item</th>\n",
       "    </tr>\n",
       "  </thead>\n",
       "  <tbody>\n",
       "    <tr>\n",
       "      <th>50</th>\n",
       "      <td>66823</td>\n",
       "      <td>fresh fruits</td>\n",
       "    </tr>\n",
       "    <tr>\n",
       "      <th>53</th>\n",
       "      <td>56265</td>\n",
       "      <td>fresh vegetables</td>\n",
       "    </tr>\n",
       "    <tr>\n",
       "      <th>98</th>\n",
       "      <td>49230</td>\n",
       "      <td>packaged vegetables fruits</td>\n",
       "    </tr>\n",
       "    <tr>\n",
       "      <th>133</th>\n",
       "      <td>35981</td>\n",
       "      <td>yogurt</td>\n",
       "    </tr>\n",
       "    <tr>\n",
       "      <th>93</th>\n",
       "      <td>34049</td>\n",
       "      <td>packaged cheese</td>\n",
       "    </tr>\n",
       "    <tr>\n",
       "      <th>83</th>\n",
       "      <td>32024</td>\n",
       "      <td>milk</td>\n",
       "    </tr>\n",
       "    <tr>\n",
       "      <th>131</th>\n",
       "      <td>26903</td>\n",
       "      <td>water seltzer sparkling water</td>\n",
       "    </tr>\n",
       "    <tr>\n",
       "      <th>25</th>\n",
       "      <td>25682</td>\n",
       "      <td>chips pretzels</td>\n",
       "    </tr>\n",
       "    <tr>\n",
       "      <th>11</th>\n",
       "      <td>24363</td>\n",
       "      <td>bread</td>\n",
       "    </tr>\n",
       "    <tr>\n",
       "      <th>119</th>\n",
       "      <td>24001</td>\n",
       "      <td>soy lactosefree</td>\n",
       "    </tr>\n",
       "    <tr>\n",
       "      <th>41</th>\n",
       "      <td>20719</td>\n",
       "      <td>eggs</td>\n",
       "    </tr>\n",
       "    <tr>\n",
       "      <th>62</th>\n",
       "      <td>19507</td>\n",
       "      <td>frozen produce</td>\n",
       "    </tr>\n",
       "    <tr>\n",
       "      <th>110</th>\n",
       "      <td>19473</td>\n",
       "      <td>refrigerated</td>\n",
       "    </tr>\n",
       "    <tr>\n",
       "      <th>32</th>\n",
       "      <td>18203</td>\n",
       "      <td>crackers</td>\n",
       "    </tr>\n",
       "    <tr>\n",
       "      <th>71</th>\n",
       "      <td>17705</td>\n",
       "      <td>ice cream ice</td>\n",
       "    </tr>\n",
       "    <tr>\n",
       "      <th>80</th>\n",
       "      <td>16141</td>\n",
       "      <td>lunch meat</td>\n",
       "    </tr>\n",
       "    <tr>\n",
       "      <th>49</th>\n",
       "      <td>15573</td>\n",
       "      <td>fresh dips tapenades</td>\n",
       "    </tr>\n",
       "    <tr>\n",
       "      <th>51</th>\n",
       "      <td>14939</td>\n",
       "      <td>fresh herbs</td>\n",
       "    </tr>\n",
       "    <tr>\n",
       "      <th>24</th>\n",
       "      <td>14800</td>\n",
       "      <td>cereal</td>\n",
       "    </tr>\n",
       "    <tr>\n",
       "      <th>118</th>\n",
       "      <td>14270</td>\n",
       "      <td>soup broth bouillon</td>\n",
       "    </tr>\n",
       "    <tr>\n",
       "      <th>92</th>\n",
       "      <td>14144</td>\n",
       "      <td>other creams cheeses</td>\n",
       "    </tr>\n",
       "    <tr>\n",
       "      <th>75</th>\n",
       "      <td>14098</td>\n",
       "      <td>juice nectars</td>\n",
       "    </tr>\n",
       "    <tr>\n",
       "      <th>70</th>\n",
       "      <td>13693</td>\n",
       "      <td>hot dogs bacon sausage</td>\n",
       "    </tr>\n",
       "    <tr>\n",
       "      <th>33</th>\n",
       "      <td>13668</td>\n",
       "      <td>cream</td>\n",
       "    </tr>\n",
       "    <tr>\n",
       "      <th>117</th>\n",
       "      <td>13243</td>\n",
       "      <td>soft drinks</td>\n",
       "    </tr>\n",
       "    <tr>\n",
       "      <th>124</th>\n",
       "      <td>13223</td>\n",
       "      <td>spreads</td>\n",
       "    </tr>\n",
       "    <tr>\n",
       "      <th>6</th>\n",
       "      <td>13145</td>\n",
       "      <td>baking ingredients</td>\n",
       "    </tr>\n",
       "    <tr>\n",
       "      <th>42</th>\n",
       "      <td>13128</td>\n",
       "      <td>energy granola bars</td>\n",
       "    </tr>\n",
       "    <tr>\n",
       "      <th>88</th>\n",
       "      <td>13086</td>\n",
       "      <td>nuts seeds dried fruit</td>\n",
       "    </tr>\n",
       "    <tr>\n",
       "      <th>17</th>\n",
       "      <td>12665</td>\n",
       "      <td>butter</td>\n",
       "    </tr>\n",
       "    <tr>\n",
       "      <th>20</th>\n",
       "      <td>12311</td>\n",
       "      <td>canned jarred vegetables</td>\n",
       "    </tr>\n",
       "    <tr>\n",
       "      <th>89</th>\n",
       "      <td>11946</td>\n",
       "      <td>oils vinegars</td>\n",
       "    </tr>\n",
       "    <tr>\n",
       "      <th>40</th>\n",
       "      <td>11876</td>\n",
       "      <td>dry pasta</td>\n",
       "    </tr>\n",
       "    <tr>\n",
       "      <th>59</th>\n",
       "      <td>11761</td>\n",
       "      <td>frozen meals</td>\n",
       "    </tr>\n",
       "    <tr>\n",
       "      <th>21</th>\n",
       "      <td>11705</td>\n",
       "      <td>canned meals beans</td>\n",
       "    </tr>\n",
       "    <tr>\n",
       "      <th>100</th>\n",
       "      <td>10860</td>\n",
       "      <td>pasta sauce</td>\n",
       "    </tr>\n",
       "    <tr>\n",
       "      <th>18</th>\n",
       "      <td>10729</td>\n",
       "      <td>candy chocolate</td>\n",
       "    </tr>\n",
       "    <tr>\n",
       "      <th>30</th>\n",
       "      <td>10704</td>\n",
       "      <td>condiments</td>\n",
       "    </tr>\n",
       "    <tr>\n",
       "      <th>12</th>\n",
       "      <td>10670</td>\n",
       "      <td>breakfast bakery</td>\n",
       "    </tr>\n",
       "    <tr>\n",
       "      <th>99</th>\n",
       "      <td>10503</td>\n",
       "      <td>paper goods</td>\n",
       "    </tr>\n",
       "    <tr>\n",
       "      <th>31</th>\n",
       "      <td>9650</td>\n",
       "      <td>cookies cakes</td>\n",
       "    </tr>\n",
       "    <tr>\n",
       "      <th>56</th>\n",
       "      <td>9596</td>\n",
       "      <td>frozen breakfast</td>\n",
       "    </tr>\n",
       "    <tr>\n",
       "      <th>122</th>\n",
       "      <td>9573</td>\n",
       "      <td>spices seasonings</td>\n",
       "    </tr>\n",
       "    <tr>\n",
       "      <th>127</th>\n",
       "      <td>9403</td>\n",
       "      <td>tortillas flat bread</td>\n",
       "    </tr>\n",
       "    <tr>\n",
       "      <th>96</th>\n",
       "      <td>9270</td>\n",
       "      <td>packaged produce</td>\n",
       "    </tr>\n",
       "    <tr>\n",
       "      <th>125</th>\n",
       "      <td>9043</td>\n",
       "      <td>tea</td>\n",
       "    </tr>\n",
       "    <tr>\n",
       "      <th>74</th>\n",
       "      <td>8881</td>\n",
       "      <td>instant foods</td>\n",
       "    </tr>\n",
       "    <tr>\n",
       "      <th>28</th>\n",
       "      <td>8594</td>\n",
       "      <td>coffee</td>\n",
       "    </tr>\n",
       "    <tr>\n",
       "      <th>54</th>\n",
       "      <td>8591</td>\n",
       "      <td>frozen appetizers sides</td>\n",
       "    </tr>\n",
       "    <tr>\n",
       "      <th>69</th>\n",
       "      <td>7796</td>\n",
       "      <td>hot cereal pancake mixes</td>\n",
       "    </tr>\n",
       "  </tbody>\n",
       "</table>\n",
       "</div>"
      ],
      "text/plain": [
       "     Count                           Item\n",
       "50   66823  fresh fruits                 \n",
       "53   56265  fresh vegetables             \n",
       "98   49230  packaged vegetables fruits   \n",
       "133  35981  yogurt                       \n",
       "93   34049  packaged cheese              \n",
       "83   32024  milk                         \n",
       "131  26903  water seltzer sparkling water\n",
       "25   25682  chips pretzels               \n",
       "11   24363  bread                        \n",
       "119  24001  soy lactosefree              \n",
       "41   20719  eggs                         \n",
       "62   19507  frozen produce               \n",
       "110  19473  refrigerated                 \n",
       "32   18203  crackers                     \n",
       "71   17705  ice cream ice                \n",
       "80   16141  lunch meat                   \n",
       "49   15573  fresh dips tapenades         \n",
       "51   14939  fresh herbs                  \n",
       "24   14800  cereal                       \n",
       "118  14270  soup broth bouillon          \n",
       "92   14144  other creams cheeses         \n",
       "75   14098  juice nectars                \n",
       "70   13693  hot dogs bacon sausage       \n",
       "33   13668  cream                        \n",
       "117  13243  soft drinks                  \n",
       "124  13223  spreads                      \n",
       "6    13145  baking ingredients           \n",
       "42   13128  energy granola bars          \n",
       "88   13086  nuts seeds dried fruit       \n",
       "17   12665  butter                       \n",
       "20   12311  canned jarred vegetables     \n",
       "89   11946  oils vinegars                \n",
       "40   11876  dry pasta                    \n",
       "59   11761  frozen meals                 \n",
       "21   11705  canned meals beans           \n",
       "100  10860  pasta sauce                  \n",
       "18   10729  candy chocolate              \n",
       "30   10704  condiments                   \n",
       "12   10670  breakfast bakery             \n",
       "99   10503  paper goods                  \n",
       "31   9650   cookies cakes                \n",
       "56   9596   frozen breakfast             \n",
       "122  9573   spices seasonings            \n",
       "127  9403   tortillas flat bread         \n",
       "96   9270   packaged produce             \n",
       "125  9043   tea                          \n",
       "74   8881   instant foods                \n",
       "28   8594   coffee                       \n",
       "54   8591   frozen appetizers sides      \n",
       "69   7796   hot cereal pancake mixes     "
      ]
     },
     "execution_count": 39,
     "metadata": {},
     "output_type": "execute_result"
    }
   ],
   "source": [
    "item"
   ]
  },
  {
   "cell_type": "code",
   "execution_count": 40,
   "metadata": {},
   "outputs": [
    {
     "data": {
      "text/html": [
       "        <script type=\"text/javascript\">\n",
       "        window.PlotlyConfig = {MathJaxConfig: 'local'};\n",
       "        if (window.MathJax && window.MathJax.Hub && window.MathJax.Hub.Config) {window.MathJax.Hub.Config({SVG: {font: \"STIX-Web\"}});}\n",
       "        if (typeof require !== 'undefined') {\n",
       "        require.undef(\"plotly\");\n",
       "        requirejs.config({\n",
       "            paths: {\n",
       "                'plotly': ['https://cdn.plot.ly/plotly-2.24.1.min']\n",
       "            }\n",
       "        });\n",
       "        require(['plotly'], function(Plotly) {\n",
       "            window._Plotly = Plotly;\n",
       "        });\n",
       "        }\n",
       "        </script>\n",
       "        "
      ]
     },
     "metadata": {},
     "output_type": "display_data"
    },
    {
     "data": {
      "text/html": [
       "<div>                            <div id=\"093a832f-feab-4d8c-bca5-3581f1c26bda\" class=\"plotly-graph-div\" style=\"height:525px; width:100%;\"></div>            <script type=\"text/javascript\">                require([\"plotly\"], function(Plotly) {                    window.PLOTLYENV=window.PLOTLYENV || {};                                    if (document.getElementById(\"093a832f-feab-4d8c-bca5-3581f1c26bda\")) {                    Plotly.newPlot(                        \"093a832f-feab-4d8c-bca5-3581f1c26bda\",                        [{\"branchvalues\":\"total\",\"domain\":{\"x\":[0.0,1.0],\"y\":[0.0,1.0]},\"hovertemplate\":\"labels=%{label}\\u003cbr\\u003eCount=%{value}\\u003cbr\\u003eparent=%{parent}\\u003cbr\\u003eid=%{id}\\u003cextra\\u003e\\u003c\\u002fextra\\u003e\",\"ids\":[\"baking ingredients\",\"bread\",\"breakfast bakery\",\"butter\",\"candy chocolate\",\"canned jarred vegetables\",\"canned meals beans\",\"cereal\",\"chips pretzels\",\"coffee\",\"condiments\",\"cookies cakes\",\"crackers\",\"cream\",\"dry pasta\",\"eggs\",\"energy granola bars\",\"fresh dips tapenades\",\"fresh fruits\",\"fresh herbs\",\"fresh vegetables\",\"frozen appetizers sides\",\"frozen breakfast\",\"frozen meals\",\"frozen produce\",\"hot cereal pancake mixes\",\"hot dogs bacon sausage\",\"ice cream ice\",\"instant foods\",\"juice nectars\",\"lunch meat\",\"milk\",\"nuts seeds dried fruit\",\"oils vinegars\",\"other creams cheeses\",\"packaged cheese\",\"packaged produce\",\"packaged vegetables fruits\",\"paper goods\",\"pasta sauce\",\"refrigerated\",\"soft drinks\",\"soup broth bouillon\",\"soy lactosefree\",\"spices seasonings\",\"spreads\",\"tea\",\"tortillas flat bread\",\"water seltzer sparkling water\",\"yogurt\"],\"labels\":[\"baking ingredients\",\"bread\",\"breakfast bakery\",\"butter\",\"candy chocolate\",\"canned jarred vegetables\",\"canned meals beans\",\"cereal\",\"chips pretzels\",\"coffee\",\"condiments\",\"cookies cakes\",\"crackers\",\"cream\",\"dry pasta\",\"eggs\",\"energy granola bars\",\"fresh dips tapenades\",\"fresh fruits\",\"fresh herbs\",\"fresh vegetables\",\"frozen appetizers sides\",\"frozen breakfast\",\"frozen meals\",\"frozen produce\",\"hot cereal pancake mixes\",\"hot dogs bacon sausage\",\"ice cream ice\",\"instant foods\",\"juice nectars\",\"lunch meat\",\"milk\",\"nuts seeds dried fruit\",\"oils vinegars\",\"other creams cheeses\",\"packaged cheese\",\"packaged produce\",\"packaged vegetables fruits\",\"paper goods\",\"pasta sauce\",\"refrigerated\",\"soft drinks\",\"soup broth bouillon\",\"soy lactosefree\",\"spices seasonings\",\"spreads\",\"tea\",\"tortillas flat bread\",\"water seltzer sparkling water\",\"yogurt\"],\"name\":\"\",\"parents\":[\"\",\"\",\"\",\"\",\"\",\"\",\"\",\"\",\"\",\"\",\"\",\"\",\"\",\"\",\"\",\"\",\"\",\"\",\"\",\"\",\"\",\"\",\"\",\"\",\"\",\"\",\"\",\"\",\"\",\"\",\"\",\"\",\"\",\"\",\"\",\"\",\"\",\"\",\"\",\"\",\"\",\"\",\"\",\"\",\"\",\"\",\"\",\"\",\"\",\"\"],\"values\":[13145,24363,10670,12665,10729,12311,11705,14800,25682,8594,10704,9650,18203,13668,11876,20719,13128,15573,66823,14939,56265,8591,9596,11761,19507,7796,13693,17705,8881,14098,16141,32024,13086,11946,14144,34049,9270,49230,10503,10860,19473,13243,14270,24001,9573,13223,9043,9403,26903,35981],\"type\":\"treemap\"}],                        {\"template\":{\"data\":{\"histogram2dcontour\":[{\"type\":\"histogram2dcontour\",\"colorbar\":{\"outlinewidth\":0,\"ticks\":\"\"},\"colorscale\":[[0.0,\"#0d0887\"],[0.1111111111111111,\"#46039f\"],[0.2222222222222222,\"#7201a8\"],[0.3333333333333333,\"#9c179e\"],[0.4444444444444444,\"#bd3786\"],[0.5555555555555556,\"#d8576b\"],[0.6666666666666666,\"#ed7953\"],[0.7777777777777778,\"#fb9f3a\"],[0.8888888888888888,\"#fdca26\"],[1.0,\"#f0f921\"]]}],\"choropleth\":[{\"type\":\"choropleth\",\"colorbar\":{\"outlinewidth\":0,\"ticks\":\"\"}}],\"histogram2d\":[{\"type\":\"histogram2d\",\"colorbar\":{\"outlinewidth\":0,\"ticks\":\"\"},\"colorscale\":[[0.0,\"#0d0887\"],[0.1111111111111111,\"#46039f\"],[0.2222222222222222,\"#7201a8\"],[0.3333333333333333,\"#9c179e\"],[0.4444444444444444,\"#bd3786\"],[0.5555555555555556,\"#d8576b\"],[0.6666666666666666,\"#ed7953\"],[0.7777777777777778,\"#fb9f3a\"],[0.8888888888888888,\"#fdca26\"],[1.0,\"#f0f921\"]]}],\"heatmap\":[{\"type\":\"heatmap\",\"colorbar\":{\"outlinewidth\":0,\"ticks\":\"\"},\"colorscale\":[[0.0,\"#0d0887\"],[0.1111111111111111,\"#46039f\"],[0.2222222222222222,\"#7201a8\"],[0.3333333333333333,\"#9c179e\"],[0.4444444444444444,\"#bd3786\"],[0.5555555555555556,\"#d8576b\"],[0.6666666666666666,\"#ed7953\"],[0.7777777777777778,\"#fb9f3a\"],[0.8888888888888888,\"#fdca26\"],[1.0,\"#f0f921\"]]}],\"heatmapgl\":[{\"type\":\"heatmapgl\",\"colorbar\":{\"outlinewidth\":0,\"ticks\":\"\"},\"colorscale\":[[0.0,\"#0d0887\"],[0.1111111111111111,\"#46039f\"],[0.2222222222222222,\"#7201a8\"],[0.3333333333333333,\"#9c179e\"],[0.4444444444444444,\"#bd3786\"],[0.5555555555555556,\"#d8576b\"],[0.6666666666666666,\"#ed7953\"],[0.7777777777777778,\"#fb9f3a\"],[0.8888888888888888,\"#fdca26\"],[1.0,\"#f0f921\"]]}],\"contourcarpet\":[{\"type\":\"contourcarpet\",\"colorbar\":{\"outlinewidth\":0,\"ticks\":\"\"}}],\"contour\":[{\"type\":\"contour\",\"colorbar\":{\"outlinewidth\":0,\"ticks\":\"\"},\"colorscale\":[[0.0,\"#0d0887\"],[0.1111111111111111,\"#46039f\"],[0.2222222222222222,\"#7201a8\"],[0.3333333333333333,\"#9c179e\"],[0.4444444444444444,\"#bd3786\"],[0.5555555555555556,\"#d8576b\"],[0.6666666666666666,\"#ed7953\"],[0.7777777777777778,\"#fb9f3a\"],[0.8888888888888888,\"#fdca26\"],[1.0,\"#f0f921\"]]}],\"surface\":[{\"type\":\"surface\",\"colorbar\":{\"outlinewidth\":0,\"ticks\":\"\"},\"colorscale\":[[0.0,\"#0d0887\"],[0.1111111111111111,\"#46039f\"],[0.2222222222222222,\"#7201a8\"],[0.3333333333333333,\"#9c179e\"],[0.4444444444444444,\"#bd3786\"],[0.5555555555555556,\"#d8576b\"],[0.6666666666666666,\"#ed7953\"],[0.7777777777777778,\"#fb9f3a\"],[0.8888888888888888,\"#fdca26\"],[1.0,\"#f0f921\"]]}],\"mesh3d\":[{\"type\":\"mesh3d\",\"colorbar\":{\"outlinewidth\":0,\"ticks\":\"\"}}],\"scatter\":[{\"fillpattern\":{\"fillmode\":\"overlay\",\"size\":10,\"solidity\":0.2},\"type\":\"scatter\"}],\"parcoords\":[{\"type\":\"parcoords\",\"line\":{\"colorbar\":{\"outlinewidth\":0,\"ticks\":\"\"}}}],\"scatterpolargl\":[{\"type\":\"scatterpolargl\",\"marker\":{\"colorbar\":{\"outlinewidth\":0,\"ticks\":\"\"}}}],\"bar\":[{\"error_x\":{\"color\":\"#2a3f5f\"},\"error_y\":{\"color\":\"#2a3f5f\"},\"marker\":{\"line\":{\"color\":\"#E5ECF6\",\"width\":0.5},\"pattern\":{\"fillmode\":\"overlay\",\"size\":10,\"solidity\":0.2}},\"type\":\"bar\"}],\"scattergeo\":[{\"type\":\"scattergeo\",\"marker\":{\"colorbar\":{\"outlinewidth\":0,\"ticks\":\"\"}}}],\"scatterpolar\":[{\"type\":\"scatterpolar\",\"marker\":{\"colorbar\":{\"outlinewidth\":0,\"ticks\":\"\"}}}],\"histogram\":[{\"marker\":{\"pattern\":{\"fillmode\":\"overlay\",\"size\":10,\"solidity\":0.2}},\"type\":\"histogram\"}],\"scattergl\":[{\"type\":\"scattergl\",\"marker\":{\"colorbar\":{\"outlinewidth\":0,\"ticks\":\"\"}}}],\"scatter3d\":[{\"type\":\"scatter3d\",\"line\":{\"colorbar\":{\"outlinewidth\":0,\"ticks\":\"\"}},\"marker\":{\"colorbar\":{\"outlinewidth\":0,\"ticks\":\"\"}}}],\"scattermapbox\":[{\"type\":\"scattermapbox\",\"marker\":{\"colorbar\":{\"outlinewidth\":0,\"ticks\":\"\"}}}],\"scatterternary\":[{\"type\":\"scatterternary\",\"marker\":{\"colorbar\":{\"outlinewidth\":0,\"ticks\":\"\"}}}],\"scattercarpet\":[{\"type\":\"scattercarpet\",\"marker\":{\"colorbar\":{\"outlinewidth\":0,\"ticks\":\"\"}}}],\"carpet\":[{\"aaxis\":{\"endlinecolor\":\"#2a3f5f\",\"gridcolor\":\"white\",\"linecolor\":\"white\",\"minorgridcolor\":\"white\",\"startlinecolor\":\"#2a3f5f\"},\"baxis\":{\"endlinecolor\":\"#2a3f5f\",\"gridcolor\":\"white\",\"linecolor\":\"white\",\"minorgridcolor\":\"white\",\"startlinecolor\":\"#2a3f5f\"},\"type\":\"carpet\"}],\"table\":[{\"cells\":{\"fill\":{\"color\":\"#EBF0F8\"},\"line\":{\"color\":\"white\"}},\"header\":{\"fill\":{\"color\":\"#C8D4E3\"},\"line\":{\"color\":\"white\"}},\"type\":\"table\"}],\"barpolar\":[{\"marker\":{\"line\":{\"color\":\"#E5ECF6\",\"width\":0.5},\"pattern\":{\"fillmode\":\"overlay\",\"size\":10,\"solidity\":0.2}},\"type\":\"barpolar\"}],\"pie\":[{\"automargin\":true,\"type\":\"pie\"}]},\"layout\":{\"autotypenumbers\":\"strict\",\"colorway\":[\"#636efa\",\"#EF553B\",\"#00cc96\",\"#ab63fa\",\"#FFA15A\",\"#19d3f3\",\"#FF6692\",\"#B6E880\",\"#FF97FF\",\"#FECB52\"],\"font\":{\"color\":\"#2a3f5f\"},\"hovermode\":\"closest\",\"hoverlabel\":{\"align\":\"left\"},\"paper_bgcolor\":\"white\",\"plot_bgcolor\":\"#E5ECF6\",\"polar\":{\"bgcolor\":\"#E5ECF6\",\"angularaxis\":{\"gridcolor\":\"white\",\"linecolor\":\"white\",\"ticks\":\"\"},\"radialaxis\":{\"gridcolor\":\"white\",\"linecolor\":\"white\",\"ticks\":\"\"}},\"ternary\":{\"bgcolor\":\"#E5ECF6\",\"aaxis\":{\"gridcolor\":\"white\",\"linecolor\":\"white\",\"ticks\":\"\"},\"baxis\":{\"gridcolor\":\"white\",\"linecolor\":\"white\",\"ticks\":\"\"},\"caxis\":{\"gridcolor\":\"white\",\"linecolor\":\"white\",\"ticks\":\"\"}},\"coloraxis\":{\"colorbar\":{\"outlinewidth\":0,\"ticks\":\"\"}},\"colorscale\":{\"sequential\":[[0.0,\"#0d0887\"],[0.1111111111111111,\"#46039f\"],[0.2222222222222222,\"#7201a8\"],[0.3333333333333333,\"#9c179e\"],[0.4444444444444444,\"#bd3786\"],[0.5555555555555556,\"#d8576b\"],[0.6666666666666666,\"#ed7953\"],[0.7777777777777778,\"#fb9f3a\"],[0.8888888888888888,\"#fdca26\"],[1.0,\"#f0f921\"]],\"sequentialminus\":[[0.0,\"#0d0887\"],[0.1111111111111111,\"#46039f\"],[0.2222222222222222,\"#7201a8\"],[0.3333333333333333,\"#9c179e\"],[0.4444444444444444,\"#bd3786\"],[0.5555555555555556,\"#d8576b\"],[0.6666666666666666,\"#ed7953\"],[0.7777777777777778,\"#fb9f3a\"],[0.8888888888888888,\"#fdca26\"],[1.0,\"#f0f921\"]],\"diverging\":[[0,\"#8e0152\"],[0.1,\"#c51b7d\"],[0.2,\"#de77ae\"],[0.3,\"#f1b6da\"],[0.4,\"#fde0ef\"],[0.5,\"#f7f7f7\"],[0.6,\"#e6f5d0\"],[0.7,\"#b8e186\"],[0.8,\"#7fbc41\"],[0.9,\"#4d9221\"],[1,\"#276419\"]]},\"xaxis\":{\"gridcolor\":\"white\",\"linecolor\":\"white\",\"ticks\":\"\",\"title\":{\"standoff\":15},\"zerolinecolor\":\"white\",\"automargin\":true,\"zerolinewidth\":2},\"yaxis\":{\"gridcolor\":\"white\",\"linecolor\":\"white\",\"ticks\":\"\",\"title\":{\"standoff\":15},\"zerolinecolor\":\"white\",\"automargin\":true,\"zerolinewidth\":2},\"scene\":{\"xaxis\":{\"backgroundcolor\":\"#E5ECF6\",\"gridcolor\":\"white\",\"linecolor\":\"white\",\"showbackground\":true,\"ticks\":\"\",\"zerolinecolor\":\"white\",\"gridwidth\":2},\"yaxis\":{\"backgroundcolor\":\"#E5ECF6\",\"gridcolor\":\"white\",\"linecolor\":\"white\",\"showbackground\":true,\"ticks\":\"\",\"zerolinecolor\":\"white\",\"gridwidth\":2},\"zaxis\":{\"backgroundcolor\":\"#E5ECF6\",\"gridcolor\":\"white\",\"linecolor\":\"white\",\"showbackground\":true,\"ticks\":\"\",\"zerolinecolor\":\"white\",\"gridwidth\":2}},\"shapedefaults\":{\"line\":{\"color\":\"#2a3f5f\"}},\"annotationdefaults\":{\"arrowcolor\":\"#2a3f5f\",\"arrowhead\":0,\"arrowwidth\":1},\"geo\":{\"bgcolor\":\"white\",\"landcolor\":\"#E5ECF6\",\"subunitcolor\":\"white\",\"showland\":true,\"showlakes\":true,\"lakecolor\":\"white\"},\"title\":{\"x\":0.05},\"mapbox\":{\"style\":\"light\"}}},\"legend\":{\"tracegroupgap\":0},\"margin\":{\"t\":60},\"title\":{\"text\":\"Visualizing Item Counts with a Treemap\",\"font\":{\"size\":20},\"x\":0.5}},                        {\"responsive\": true}                    ).then(function(){\n",
       "                            \n",
       "var gd = document.getElementById('093a832f-feab-4d8c-bca5-3581f1c26bda');\n",
       "var x = new MutationObserver(function (mutations, observer) {{\n",
       "        var display = window.getComputedStyle(gd).display;\n",
       "        if (!display || display === 'none') {{\n",
       "            console.log([gd, 'removed!']);\n",
       "            Plotly.purge(gd);\n",
       "            observer.disconnect();\n",
       "        }}\n",
       "}});\n",
       "\n",
       "// Listen for the removal of the full notebook cells\n",
       "var notebookContainer = gd.closest('#notebook-container');\n",
       "if (notebookContainer) {{\n",
       "    x.observe(notebookContainer, {childList: true});\n",
       "}}\n",
       "\n",
       "// Listen for the clearing of the current output cell\n",
       "var outputEl = gd.closest('.output');\n",
       "if (outputEl) {{\n",
       "    x.observe(outputEl, {childList: true});\n",
       "}}\n",
       "\n",
       "                        })                };                });            </script>        </div>"
      ]
     },
     "metadata": {},
     "output_type": "display_data"
    }
   ],
   "source": [
    "pio.renderers.default = \"notebook_connected\"\n",
    "# TREEMAP VISUALIZATION OF ITEMS\n",
    "fig = px.treemap(item, path=['Item'], values='Count')\n",
    "fig.update_layout(title='Visualizing Item Counts with a Treemap', title_font_size=20, title_x=0.5)\n",
    "fig.show()"
   ]
  },
  {
   "cell_type": "code",
   "execution_count": 41,
   "metadata": {},
   "outputs": [
    {
     "name": "stdout",
     "output_type": "stream",
     "text": [
      "Processing 5 combinations | Sampling itemset size 5 43\n"
     ]
    },
    {
     "data": {
      "text/html": [
       "<div>\n",
       "<style scoped>\n",
       "    .dataframe tbody tr th:only-of-type {\n",
       "        vertical-align: middle;\n",
       "    }\n",
       "\n",
       "    .dataframe tbody tr th {\n",
       "        vertical-align: top;\n",
       "    }\n",
       "\n",
       "    .dataframe thead th {\n",
       "        text-align: right;\n",
       "    }\n",
       "</style>\n",
       "<table border=\"1\" class=\"dataframe\">\n",
       "  <thead>\n",
       "    <tr style=\"text-align: right;\">\n",
       "      <th></th>\n",
       "      <th>support</th>\n",
       "      <th>itemsets</th>\n",
       "    </tr>\n",
       "  </thead>\n",
       "  <tbody>\n",
       "    <tr>\n",
       "      <th>0</th>\n",
       "      <td>0.011909</td>\n",
       "      <td>(asian foods)</td>\n",
       "    </tr>\n",
       "    <tr>\n",
       "      <th>1</th>\n",
       "      <td>0.010037</td>\n",
       "      <td>(baby food formula)</td>\n",
       "    </tr>\n",
       "    <tr>\n",
       "      <th>2</th>\n",
       "      <td>0.020571</td>\n",
       "      <td>(baking ingredients)</td>\n",
       "    </tr>\n",
       "    <tr>\n",
       "      <th>3</th>\n",
       "      <td>0.038126</td>\n",
       "      <td>(bread)</td>\n",
       "    </tr>\n",
       "    <tr>\n",
       "      <th>4</th>\n",
       "      <td>0.016698</td>\n",
       "      <td>(breakfast bakery)</td>\n",
       "    </tr>\n",
       "    <tr>\n",
       "      <th>5</th>\n",
       "      <td>0.008551</td>\n",
       "      <td>(buns rolls)</td>\n",
       "    </tr>\n",
       "    <tr>\n",
       "      <th>6</th>\n",
       "      <td>0.019820</td>\n",
       "      <td>(butter)</td>\n",
       "    </tr>\n",
       "  </tbody>\n",
       "</table>\n",
       "</div>"
      ],
      "text/plain": [
       "    support              itemsets\n",
       "0  0.011909  (asian foods)       \n",
       "1  0.010037  (baby food formula) \n",
       "2  0.020571  (baking ingredients)\n",
       "3  0.038126  (bread)             \n",
       "4  0.016698  (breakfast bakery)  \n",
       "5  0.008551  (buns rolls)        \n",
       "6  0.019820  (butter)            "
      ]
     },
     "execution_count": 41,
     "metadata": {},
     "output_type": "execute_result"
    }
   ],
   "source": [
    "# Building the frequent occurrence iteams \n",
    "freq_items = apriori(transactions, min_support=0.005, use_colnames=True, verbose=1)\n",
    "freq_items.head(7)"
   ]
  },
  {
   "cell_type": "code",
   "execution_count": 42,
   "metadata": {},
   "outputs": [
    {
     "data": {
      "text/html": [
       "<div>\n",
       "<style scoped>\n",
       "    .dataframe tbody tr th:only-of-type {\n",
       "        vertical-align: middle;\n",
       "    }\n",
       "\n",
       "    .dataframe tbody tr th {\n",
       "        vertical-align: top;\n",
       "    }\n",
       "\n",
       "    .dataframe thead th {\n",
       "        text-align: right;\n",
       "    }\n",
       "</style>\n",
       "<table border=\"1\" class=\"dataframe\">\n",
       "  <thead>\n",
       "    <tr style=\"text-align: right;\">\n",
       "      <th></th>\n",
       "      <th>support</th>\n",
       "      <th>itemsets</th>\n",
       "      <th>length</th>\n",
       "    </tr>\n",
       "  </thead>\n",
       "  <tbody>\n",
       "    <tr>\n",
       "      <th>0</th>\n",
       "      <td>0.011909</td>\n",
       "      <td>(asian foods)</td>\n",
       "      <td>1</td>\n",
       "    </tr>\n",
       "    <tr>\n",
       "      <th>1</th>\n",
       "      <td>0.010037</td>\n",
       "      <td>(baby food formula)</td>\n",
       "      <td>1</td>\n",
       "    </tr>\n",
       "    <tr>\n",
       "      <th>2</th>\n",
       "      <td>0.020571</td>\n",
       "      <td>(baking ingredients)</td>\n",
       "      <td>1</td>\n",
       "    </tr>\n",
       "    <tr>\n",
       "      <th>3</th>\n",
       "      <td>0.038126</td>\n",
       "      <td>(bread)</td>\n",
       "      <td>1</td>\n",
       "    </tr>\n",
       "    <tr>\n",
       "      <th>4</th>\n",
       "      <td>0.016698</td>\n",
       "      <td>(breakfast bakery)</td>\n",
       "      <td>1</td>\n",
       "    </tr>\n",
       "    <tr>\n",
       "      <th>5</th>\n",
       "      <td>0.008551</td>\n",
       "      <td>(buns rolls)</td>\n",
       "      <td>1</td>\n",
       "    </tr>\n",
       "    <tr>\n",
       "      <th>6</th>\n",
       "      <td>0.019820</td>\n",
       "      <td>(butter)</td>\n",
       "      <td>1</td>\n",
       "    </tr>\n",
       "    <tr>\n",
       "      <th>7</th>\n",
       "      <td>0.016790</td>\n",
       "      <td>(candy chocolate)</td>\n",
       "      <td>1</td>\n",
       "    </tr>\n",
       "    <tr>\n",
       "      <th>8</th>\n",
       "      <td>0.006285</td>\n",
       "      <td>(canned fruit applesauce)</td>\n",
       "      <td>1</td>\n",
       "    </tr>\n",
       "    <tr>\n",
       "      <th>9</th>\n",
       "      <td>0.019266</td>\n",
       "      <td>(canned jarred vegetables)</td>\n",
       "      <td>1</td>\n",
       "    </tr>\n",
       "  </tbody>\n",
       "</table>\n",
       "</div>"
      ],
      "text/plain": [
       "    support                    itemsets  length\n",
       "0  0.011909  (asian foods)               1     \n",
       "1  0.010037  (baby food formula)         1     \n",
       "2  0.020571  (baking ingredients)        1     \n",
       "3  0.038126  (bread)                     1     \n",
       "4  0.016698  (breakfast bakery)          1     \n",
       "5  0.008551  (buns rolls)                1     \n",
       "6  0.019820  (butter)                    1     \n",
       "7  0.016790  (candy chocolate)           1     \n",
       "8  0.006285  (canned fruit applesauce)   1     \n",
       "9  0.019266  (canned jarred vegetables)  1     "
      ]
     },
     "execution_count": 42,
     "metadata": {},
     "output_type": "execute_result"
    }
   ],
   "source": [
    "# Adding Iteam sets count to the frequent items list   \n",
    "freq_items['length'] = freq_items['itemsets'].apply(lambda x: len(x))\n",
    "freq_items.head(10)"
   ]
  },
  {
   "cell_type": "code",
   "execution_count": 43,
   "metadata": {},
   "outputs": [
    {
     "data": {
      "text/html": [
       "<div>\n",
       "<style scoped>\n",
       "    .dataframe tbody tr th:only-of-type {\n",
       "        vertical-align: middle;\n",
       "    }\n",
       "\n",
       "    .dataframe tbody tr th {\n",
       "        vertical-align: top;\n",
       "    }\n",
       "\n",
       "    .dataframe thead th {\n",
       "        text-align: right;\n",
       "    }\n",
       "</style>\n",
       "<table border=\"1\" class=\"dataframe\">\n",
       "  <thead>\n",
       "    <tr style=\"text-align: right;\">\n",
       "      <th></th>\n",
       "      <th>support</th>\n",
       "      <th>itemsets</th>\n",
       "      <th>length</th>\n",
       "    </tr>\n",
       "  </thead>\n",
       "  <tbody>\n",
       "    <tr>\n",
       "      <th>160</th>\n",
       "      <td>0.015864</td>\n",
       "      <td>(fresh vegetables, fresh herbs, packaged vegetables fruits)</td>\n",
       "      <td>3</td>\n",
       "    </tr>\n",
       "    <tr>\n",
       "      <th>161</th>\n",
       "      <td>0.006750</td>\n",
       "      <td>(packaged cheese, other creams cheeses, milk)</td>\n",
       "      <td>3</td>\n",
       "    </tr>\n",
       "    <tr>\n",
       "      <th>162</th>\n",
       "      <td>0.006617</td>\n",
       "      <td>(yogurt, other creams cheeses, milk)</td>\n",
       "      <td>3</td>\n",
       "    </tr>\n",
       "    <tr>\n",
       "      <th>163</th>\n",
       "      <td>0.006573</td>\n",
       "      <td>(soy lactosefree, packaged cheese, milk)</td>\n",
       "      <td>3</td>\n",
       "    </tr>\n",
       "    <tr>\n",
       "      <th>164</th>\n",
       "      <td>0.014086</td>\n",
       "      <td>(yogurt, packaged cheese, milk)</td>\n",
       "      <td>3</td>\n",
       "    </tr>\n",
       "    <tr>\n",
       "      <th>165</th>\n",
       "      <td>0.007654</td>\n",
       "      <td>(yogurt, soy lactosefree, milk)</td>\n",
       "      <td>3</td>\n",
       "    </tr>\n",
       "    <tr>\n",
       "      <th>166</th>\n",
       "      <td>0.007330</td>\n",
       "      <td>(yogurt, packaged cheese, other creams cheeses)</td>\n",
       "      <td>3</td>\n",
       "    </tr>\n",
       "    <tr>\n",
       "      <th>167</th>\n",
       "      <td>0.009133</td>\n",
       "      <td>(yogurt, soy lactosefree, packaged cheese)</td>\n",
       "      <td>3</td>\n",
       "    </tr>\n",
       "    <tr>\n",
       "      <th>168</th>\n",
       "      <td>0.005316</td>\n",
       "      <td>(yogurt, packaged cheese, eggs, milk)</td>\n",
       "      <td>4</td>\n",
       "    </tr>\n",
       "    <tr>\n",
       "      <th>169</th>\n",
       "      <td>0.014585</td>\n",
       "      <td>(fresh vegetables, fresh herbs, packaged vegetables fruits, fresh fruits)</td>\n",
       "      <td>4</td>\n",
       "    </tr>\n",
       "  </tbody>\n",
       "</table>\n",
       "</div>"
      ],
      "text/plain": [
       "      support  \\\n",
       "160  0.015864   \n",
       "161  0.006750   \n",
       "162  0.006617   \n",
       "163  0.006573   \n",
       "164  0.014086   \n",
       "165  0.007654   \n",
       "166  0.007330   \n",
       "167  0.009133   \n",
       "168  0.005316   \n",
       "169  0.014585   \n",
       "\n",
       "                                                                      itemsets  \\\n",
       "160  (fresh vegetables, fresh herbs, packaged vegetables fruits)                 \n",
       "161  (packaged cheese, other creams cheeses, milk)                               \n",
       "162  (yogurt, other creams cheeses, milk)                                        \n",
       "163  (soy lactosefree, packaged cheese, milk)                                    \n",
       "164  (yogurt, packaged cheese, milk)                                             \n",
       "165  (yogurt, soy lactosefree, milk)                                             \n",
       "166  (yogurt, packaged cheese, other creams cheeses)                             \n",
       "167  (yogurt, soy lactosefree, packaged cheese)                                  \n",
       "168  (yogurt, packaged cheese, eggs, milk)                                       \n",
       "169  (fresh vegetables, fresh herbs, packaged vegetables fruits, fresh fruits)   \n",
       "\n",
       "     length  \n",
       "160  3       \n",
       "161  3       \n",
       "162  3       \n",
       "163  3       \n",
       "164  3       \n",
       "165  3       \n",
       "166  3       \n",
       "167  3       \n",
       "168  4       \n",
       "169  4       "
      ]
     },
     "execution_count": 43,
     "metadata": {},
     "output_type": "execute_result"
    }
   ],
   "source": [
    "freq_items.tail(10)"
   ]
  },
  {
   "cell_type": "code",
   "execution_count": 44,
   "metadata": {},
   "outputs": [
    {
     "data": {
      "text/html": [
       "<div>\n",
       "<style scoped>\n",
       "    .dataframe tbody tr th:only-of-type {\n",
       "        vertical-align: middle;\n",
       "    }\n",
       "\n",
       "    .dataframe tbody tr th {\n",
       "        vertical-align: top;\n",
       "    }\n",
       "\n",
       "    .dataframe thead th {\n",
       "        text-align: right;\n",
       "    }\n",
       "</style>\n",
       "<table border=\"1\" class=\"dataframe\">\n",
       "  <thead>\n",
       "    <tr style=\"text-align: right;\">\n",
       "      <th></th>\n",
       "      <th>support</th>\n",
       "      <th>itemsets</th>\n",
       "      <th>length</th>\n",
       "    </tr>\n",
       "  </thead>\n",
       "  <tbody>\n",
       "    <tr>\n",
       "      <th>144</th>\n",
       "      <td>0.005894</td>\n",
       "      <td>(packaged cheese, milk, butter)</td>\n",
       "      <td>3</td>\n",
       "    </tr>\n",
       "    <tr>\n",
       "      <th>145</th>\n",
       "      <td>0.005837</td>\n",
       "      <td>(yogurt, milk, butter)</td>\n",
       "      <td>3</td>\n",
       "    </tr>\n",
       "    <tr>\n",
       "      <th>146</th>\n",
       "      <td>0.006061</td>\n",
       "      <td>(yogurt, packaged cheese, butter)</td>\n",
       "      <td>3</td>\n",
       "    </tr>\n",
       "    <tr>\n",
       "      <th>147</th>\n",
       "      <td>0.005527</td>\n",
       "      <td>(cream, packaged cheese, milk)</td>\n",
       "      <td>3</td>\n",
       "    </tr>\n",
       "    <tr>\n",
       "      <th>148</th>\n",
       "      <td>0.005793</td>\n",
       "      <td>(cream, yogurt, milk)</td>\n",
       "      <td>3</td>\n",
       "    </tr>\n",
       "    <tr>\n",
       "      <th>149</th>\n",
       "      <td>0.005868</td>\n",
       "      <td>(cream, yogurt, packaged cheese)</td>\n",
       "      <td>3</td>\n",
       "    </tr>\n",
       "    <tr>\n",
       "      <th>150</th>\n",
       "      <td>0.008014</td>\n",
       "      <td>(packaged cheese, eggs, milk)</td>\n",
       "      <td>3</td>\n",
       "    </tr>\n",
       "    <tr>\n",
       "      <th>151</th>\n",
       "      <td>0.008557</td>\n",
       "      <td>(yogurt, eggs, milk)</td>\n",
       "      <td>3</td>\n",
       "    </tr>\n",
       "    <tr>\n",
       "      <th>152</th>\n",
       "      <td>0.005310</td>\n",
       "      <td>(soy lactosefree, packaged cheese, eggs)</td>\n",
       "      <td>3</td>\n",
       "    </tr>\n",
       "    <tr>\n",
       "      <th>153</th>\n",
       "      <td>0.008944</td>\n",
       "      <td>(yogurt, packaged cheese, eggs)</td>\n",
       "      <td>3</td>\n",
       "    </tr>\n",
       "    <tr>\n",
       "      <th>154</th>\n",
       "      <td>0.005815</td>\n",
       "      <td>(yogurt, soy lactosefree, eggs)</td>\n",
       "      <td>3</td>\n",
       "    </tr>\n",
       "    <tr>\n",
       "      <th>155</th>\n",
       "      <td>0.018815</td>\n",
       "      <td>(fresh vegetables, fresh herbs, fresh fruits)</td>\n",
       "      <td>3</td>\n",
       "    </tr>\n",
       "    <tr>\n",
       "      <th>156</th>\n",
       "      <td>0.015195</td>\n",
       "      <td>(packaged vegetables fruits, fresh herbs, fresh fruits)</td>\n",
       "      <td>3</td>\n",
       "    </tr>\n",
       "    <tr>\n",
       "      <th>157</th>\n",
       "      <td>0.005894</td>\n",
       "      <td>(fresh vegetables, packaged produce, fresh fruits)</td>\n",
       "      <td>3</td>\n",
       "    </tr>\n",
       "    <tr>\n",
       "      <th>158</th>\n",
       "      <td>0.049006</td>\n",
       "      <td>(fresh vegetables, packaged vegetables fruits, fresh fruits)</td>\n",
       "      <td>3</td>\n",
       "    </tr>\n",
       "    <tr>\n",
       "      <th>159</th>\n",
       "      <td>0.006377</td>\n",
       "      <td>(packaged vegetables fruits, packaged produce, fresh fruits)</td>\n",
       "      <td>3</td>\n",
       "    </tr>\n",
       "    <tr>\n",
       "      <th>160</th>\n",
       "      <td>0.015864</td>\n",
       "      <td>(fresh vegetables, fresh herbs, packaged vegetables fruits)</td>\n",
       "      <td>3</td>\n",
       "    </tr>\n",
       "    <tr>\n",
       "      <th>161</th>\n",
       "      <td>0.006750</td>\n",
       "      <td>(packaged cheese, other creams cheeses, milk)</td>\n",
       "      <td>3</td>\n",
       "    </tr>\n",
       "    <tr>\n",
       "      <th>162</th>\n",
       "      <td>0.006617</td>\n",
       "      <td>(yogurt, other creams cheeses, milk)</td>\n",
       "      <td>3</td>\n",
       "    </tr>\n",
       "    <tr>\n",
       "      <th>163</th>\n",
       "      <td>0.006573</td>\n",
       "      <td>(soy lactosefree, packaged cheese, milk)</td>\n",
       "      <td>3</td>\n",
       "    </tr>\n",
       "    <tr>\n",
       "      <th>164</th>\n",
       "      <td>0.014086</td>\n",
       "      <td>(yogurt, packaged cheese, milk)</td>\n",
       "      <td>3</td>\n",
       "    </tr>\n",
       "    <tr>\n",
       "      <th>165</th>\n",
       "      <td>0.007654</td>\n",
       "      <td>(yogurt, soy lactosefree, milk)</td>\n",
       "      <td>3</td>\n",
       "    </tr>\n",
       "    <tr>\n",
       "      <th>166</th>\n",
       "      <td>0.007330</td>\n",
       "      <td>(yogurt, packaged cheese, other creams cheeses)</td>\n",
       "      <td>3</td>\n",
       "    </tr>\n",
       "    <tr>\n",
       "      <th>167</th>\n",
       "      <td>0.009133</td>\n",
       "      <td>(yogurt, soy lactosefree, packaged cheese)</td>\n",
       "      <td>3</td>\n",
       "    </tr>\n",
       "  </tbody>\n",
       "</table>\n",
       "</div>"
      ],
      "text/plain": [
       "      support                                                      itemsets  \\\n",
       "144  0.005894  (packaged cheese, milk, butter)                                \n",
       "145  0.005837  (yogurt, milk, butter)                                         \n",
       "146  0.006061  (yogurt, packaged cheese, butter)                              \n",
       "147  0.005527  (cream, packaged cheese, milk)                                 \n",
       "148  0.005793  (cream, yogurt, milk)                                          \n",
       "149  0.005868  (cream, yogurt, packaged cheese)                               \n",
       "150  0.008014  (packaged cheese, eggs, milk)                                  \n",
       "151  0.008557  (yogurt, eggs, milk)                                           \n",
       "152  0.005310  (soy lactosefree, packaged cheese, eggs)                       \n",
       "153  0.008944  (yogurt, packaged cheese, eggs)                                \n",
       "154  0.005815  (yogurt, soy lactosefree, eggs)                                \n",
       "155  0.018815  (fresh vegetables, fresh herbs, fresh fruits)                  \n",
       "156  0.015195  (packaged vegetables fruits, fresh herbs, fresh fruits)        \n",
       "157  0.005894  (fresh vegetables, packaged produce, fresh fruits)             \n",
       "158  0.049006  (fresh vegetables, packaged vegetables fruits, fresh fruits)   \n",
       "159  0.006377  (packaged vegetables fruits, packaged produce, fresh fruits)   \n",
       "160  0.015864  (fresh vegetables, fresh herbs, packaged vegetables fruits)    \n",
       "161  0.006750  (packaged cheese, other creams cheeses, milk)                  \n",
       "162  0.006617  (yogurt, other creams cheeses, milk)                           \n",
       "163  0.006573  (soy lactosefree, packaged cheese, milk)                       \n",
       "164  0.014086  (yogurt, packaged cheese, milk)                                \n",
       "165  0.007654  (yogurt, soy lactosefree, milk)                                \n",
       "166  0.007330  (yogurt, packaged cheese, other creams cheeses)                \n",
       "167  0.009133  (yogurt, soy lactosefree, packaged cheese)                     \n",
       "\n",
       "     length  \n",
       "144  3       \n",
       "145  3       \n",
       "146  3       \n",
       "147  3       \n",
       "148  3       \n",
       "149  3       \n",
       "150  3       \n",
       "151  3       \n",
       "152  3       \n",
       "153  3       \n",
       "154  3       \n",
       "155  3       \n",
       "156  3       \n",
       "157  3       \n",
       "158  3       \n",
       "159  3       \n",
       "160  3       \n",
       "161  3       \n",
       "162  3       \n",
       "163  3       \n",
       "164  3       \n",
       "165  3       \n",
       "166  3       \n",
       "167  3       "
      ]
     },
     "execution_count": 44,
     "metadata": {},
     "output_type": "execute_result"
    }
   ],
   "source": [
    "freq_items[(freq_items['length']==3)&(freq_items['support']>=0.005)]"
   ]
  },
  {
   "attachments": {},
   "cell_type": "markdown",
   "metadata": {},
   "source": [
    "<b>NOTE :</b>\n",
    "</br>\n",
    "From the previously demonstrated process of identifying frequent individual items for three products using the Apriori algorithm, we can conclude that this method can be used to determine which products should be stocked together based on purchasing trends. By analyzing the items that are frequently purchased together, we can make informed decisions about product placement and inventory management to maximize sales and customer satisfaction.."
   ]
  },
  {
   "cell_type": "code",
   "execution_count": null,
   "metadata": {},
   "outputs": [],
   "source": []
  }
 ],
 "metadata": {
  "kernelspec": {
   "display_name": "Python 3",
   "language": "python",
   "name": "python3"
  },
  "language_info": {
   "codemirror_mode": {
    "name": "ipython",
    "version": 3
   },
   "file_extension": ".py",
   "mimetype": "text/x-python",
   "name": "python",
   "nbconvert_exporter": "python",
   "pygments_lexer": "ipython3",
   "version": "3.11.3"
  },
  "orig_nbformat": 4
 },
 "nbformat": 4,
 "nbformat_minor": 2
}
